{
  "cells": [
    {
      "cell_type": "markdown",
      "metadata": {
        "id": "QKC5EtShg0Hy"
      },
      "source": [
        "# به نام خدا"
      ]
    },
    {
      "cell_type": "markdown",
      "metadata": {
        "id": "30Wmp-iyg0Hz"
      },
      "source": [
        "# فاز 1"
      ]
    },
    {
      "cell_type": "code",
      "execution_count": null,
      "metadata": {
        "id": "4LOupmGTPUrt"
      },
      "outputs": [],
      "source": [
        "import os\n",
        "from multiprocessing import cpu_count\n",
        "import random\n",
        "import tensorflow as tf\n",
        "from tensorflow.keras import layers, models, mixed_precision\n",
        "from tensorflow.keras.datasets import cifar10\n",
        "from tensorflow.keras.utils import to_categorical\n",
        "import numpy as np\n",
        "import json\n",
        "import time\n",
        "import matplotlib.pyplot as plt\n",
        "from sklearn.metrics import confusion_matrix, roc_curve, auc, precision_score, recall_score, f1_score\n",
        "from sklearn.preprocessing import label_binarize\n",
        "import seaborn as sns"
      ]
    },
    {
      "cell_type": "code",
      "execution_count": null,
      "metadata": {
        "id": "xgSBtmrChFy5"
      },
      "outputs": [],
      "source": [
        "def load_and_preprocess_data():\n",
        "    # بارگذاری دیتاست CIFAR-10 (شامل تصاویر آموزشی و تست)\n",
        "    (train_images, train_labels), (test_images, test_labels) = cifar10.load_data()\n",
        "\n",
        "    # جدا کردن 5000 نمونه اول دیتای آموزش برای اعتبارسنجی (Validation)\n",
        "    val_images = train_images[:5000]\n",
        "    val_labels = train_labels[:5000]\n",
        "    train_images = train_images[5000:]\n",
        "    train_labels = train_labels[5000:]\n",
        "\n",
        "    # نرمال‌سازی تصاویر به بازه 0 تا 1 با تقسیم بر 255\n",
        "    train_images = train_images.astype('float32') / 255\n",
        "    val_images = val_images.astype('float32') / 255\n",
        "    test_images = test_images.astype('float32') / 255\n",
        "\n",
        "    # تبدیل لیبل‌ها به one-hot encoding برای استفاده در مدل‌های طبقه‌بندی\n",
        "    train_labels = to_categorical(train_labels, 10)\n",
        "    val_labels = to_categorical(val_labels, 10)\n",
        "    test_labels = to_categorical(test_labels, 10)\n",
        "\n",
        "    # بازگرداندن داده‌های پردازش‌شده\n",
        "    return train_images, train_labels, val_images, val_labels, test_images, test_labels\n",
        "\n",
        "\n",
        "def build_model():\n",
        "    # تعریف یک مدل ترتیبی Sequential که لایه‌ها به‌صورت پشت سر هم چیده می‌شوند\n",
        "    model = models.Sequential([\n",
        "        # لایه کانولوشن اول با 32 فیلتر 3x3 و تابع فعال‌سازی ReLU\n",
        "        layers.Conv2D(\n",
        "            filters=32,               # تعداد فیلترها\n",
        "            kernel_size=(3, 3),       # اندازه کرنل (فیلتر)\n",
        "            activation='relu',        # تابع فعال‌ساز\n",
        "            input_shape=(32, 32, 3)   # شکل ورودی (فقط برای اولین لایه)\n",
        "        ),\n",
        "\n",
        "        # نرمال‌سازی مقادیر خروجی این لایه\n",
        "        layers.BatchNormalization(),\n",
        "\n",
        "        # کاهش ابعاد تصویر با Max Pooling 2x2\n",
        "        layers.MaxPooling2D((2, 2)),\n",
        "\n",
        "        # لایه کانولوشن دوم با 64 فیلتر 3x3\n",
        "        layers.Conv2D(\n",
        "            64,\n",
        "            (3, 3),\n",
        "            activation='relu'\n",
        "        ),\n",
        "\n",
        "        # نرمال‌سازی خروجی\n",
        "        #یک لایه نرمال ساز است برای بالا بردن سرعت شبکه عصبی\n",
        "        layers.BatchNormalization(),\n",
        "\n",
        "        # کاهش دوباره ابعاد\n",
        "        layers.MaxPooling2D((2, 2)),\n",
        "\n",
        "        # لایه کانولوشن سوم با 128 فیلتر 3x3\n",
        "        layers.Conv2D(\n",
        "            128,\n",
        "            (3, 3),\n",
        "            activation='relu'\n",
        "        ),\n",
        "\n",
        "        # نرمال‌سازی خروجی\n",
        "        layers.BatchNormalization(),\n",
        "\n",
        "        # آخرین مرحله کاهش ابعاد\n",
        "        layers.MaxPooling2D((2, 2)),\n",
        "\n",
        "        # تبدیل خروجی سه‌بعدی به یک‌بعدی\n",
        "        layers.Flatten(),\n",
        "\n",
        "        # لایه تمام‌متصل با 256 نورون\n",
        "        layers.Dense(\n",
        "            256,\n",
        "            activation='relu'\n",
        "        ),\n",
        "\n",
        "        # نرمال‌سازی برای پایداری آموزش\n",
        "        layers.BatchNormalization(),\n",
        "\n",
        "        # لایه خروجی با 10 نورون (برای 10 کلاس)\n",
        "        layers.Dense(\n",
        "            10,\n",
        "            activation='softmax',#در این هر خروجی بین 0 و 1 است\n",
        "            dtype='float32'# دقت مناسب\n",
        "        )\n",
        "    ])\n",
        "\n",
        "    # بازگرداندن مدل ساخته شده\n",
        "    return model\n",
        "\n",
        "# تابع ذخیره نمودارها\n",
        "def plot_learning_curves(history):\n",
        "    plt.figure(figsize=(12, 5))\n",
        "\n",
        "    plt.subplot(1, 2, 1)\n",
        "    plt.plot(history['accuracy'], label='Train Accuracy')\n",
        "    plt.plot(history['val_accuracy'], label='Validation Accuracy')\n",
        "    plt.title('Accuracy over Epochs')\n",
        "    plt.xlabel('Epoch')\n",
        "    plt.ylabel('Accuracy')\n",
        "    plt.legend()\n",
        "\n",
        "    plt.subplot(1, 2, 2)\n",
        "    plt.plot(history['loss'], label='Train Loss')\n",
        "    plt.plot(history['val_loss'], label='Validation Loss')\n",
        "    plt.title('Loss over Epochs')\n",
        "    plt.xlabel('Epoch')\n",
        "    plt.ylabel('Loss')\n",
        "    plt.legend()\n",
        "\n",
        "    plt.tight_layout()\n",
        "    plt.savefig('output_phase1/1/learning_curves.png')\n",
        "    plt.close()\n",
        "\n",
        "#تابع رسم زماتریس در هم ریختگی\n",
        "def plot_confusion_matrix(model, test_images, test_labels):\n",
        "    # پیش‌بینی کلاس‌ها\n",
        "    y_pred = model.predict(test_images)\n",
        "    y_pred_classes = np.argmax(y_pred, axis=1)\n",
        "    y_true = np.argmax(test_labels, axis=1)\n",
        "\n",
        "    # محاسبه ماتریس درهم‌ریختگی\n",
        "    cm = confusion_matrix(y_true, y_pred_classes)\n",
        "\n",
        "    # رسم ماتریس\n",
        "    plt.figure(figsize=(10, 8))\n",
        "    sns.heatmap(cm, annot=True, fmt='d', cmap='Blues',\n",
        "                xticklabels=range(10), yticklabels=range(10))\n",
        "    plt.title('Confusion Matrix')\n",
        "    plt.xlabel('Predicted Label')\n",
        "    plt.ylabel('True Label')\n",
        "    plt.savefig('output_phase1/1/confusion_matrix.png')\n",
        "    plt.close()\n",
        "\n",
        "#رسم نمودار ROC\n",
        "def plot_roc_curve(model, test_images, test_labels):\n",
        "    # رسم نمودار ROC برای هر کلاس در یک مسئله طبقه‌بندی چندکلاسه\n",
        "\n",
        "    # پیش‌بینی احتمالات خروجی مدل برای هر کلاس\n",
        "    y_pred = model.predict(test_images)\n",
        "\n",
        "    # تبدیل برچسب‌های واقعی به فرمت باینری (One-hot) برای محاسبه ROC\n",
        "    y_true_bin = label_binarize(np.argmax(test_labels, axis=1), classes=range(10))\n",
        "\n",
        "    # آماده‌سازی شکل نمودار\n",
        "    plt.figure(figsize=(10, 8))\n",
        "\n",
        "    # محاسبه و رسم منحنی ROC برای هر یک از 10 کلاس\n",
        "    for i in range(10):\n",
        "        # محاسبه نرخ مثبت کاذب و نرخ مثبت واقعی\n",
        "        fpr, tpr, _ = roc_curve(y_true_bin[:, i], y_pred[:, i])\n",
        "        # محاسبه مساحت زیر منحنی (AUC)\n",
        "        roc_auc = auc(fpr, tpr)\n",
        "        # رسم منحنی ROC برای کلاس i\n",
        "        plt.plot(fpr, tpr, label=f'Class {i} (AUC = {roc_auc:.2f})')\n",
        "\n",
        "    # خط مرجع برای تصادفی بودن طبقه‌بندی\n",
        "    plt.plot([0, 1], [0, 1], 'k--')\n",
        "\n",
        "    # تنظیمات نمودار\n",
        "    plt.xlim([0.0, 1.0])\n",
        "    plt.ylim([0.0, 1.05])\n",
        "    plt.xlabel('False Positive Rate')\n",
        "    plt.ylabel('True Positive Rate')\n",
        "    plt.title('ROC Curve for Each Class')\n",
        "    plt.legend(loc=\"lower right\")\n",
        "\n",
        "    # ذخیره نمودار به صورت فایل تصویری\n",
        "    plt.savefig('output_phase1/1/roc_curve.png')\n",
        "    plt.close()\n",
        "\n",
        "#نمایش زنمونه های رندوم مدل و لیبل زدن توسط مدل\n",
        "def visualize_predictions(model, test_images, test_labels, num_samples=20):\n",
        "    # انتخاب تصادفی نمونه‌ها\n",
        "    indices = random.sample(range(len(test_images)), num_samples)\n",
        "    sample_images = test_images[indices]\n",
        "    sample_labels = np.argmax(test_labels[indices], axis=1)\n",
        "\n",
        "    # پیش‌بینی مدل\n",
        "    predictions = model.predict(sample_images)\n",
        "    predicted_classes = np.argmax(predictions, axis=1)\n",
        "\n",
        "    # تنظیمات نمودار\n",
        "    plt.figure(figsize=(15, 10))\n",
        "    for i in range(num_samples):\n",
        "        plt.subplot(4, 5, i+1)\n",
        "        plt.imshow(sample_images[i])\n",
        "\n",
        "        # تعیین رنگ متن بر اساس صحت پیش‌بینی\n",
        "        color = 'green' if predicted_classes[i] == sample_labels[i] else 'red'\n",
        "\n",
        "        plt.title(f\"True: {class_names[sample_labels[i]]}\\nPred: {class_names[predicted_classes[i]]}\",\n",
        "                 color=color)\n",
        "        plt.axis('off')\n",
        "\n",
        "    plt.tight_layout()\n",
        "    plt.savefig('output_phase1/2/predictions_visualization.png')\n",
        "    plt.close()\n",
        "\n",
        "# ساخت Dataset برای آموزش (با شافل و batch کردن)\n",
        "def train_model(model, train_images, train_labels, val_images, val_labels):\n",
        "\n",
        "    train_dataset = tf.data.Dataset.from_tensor_slices((train_images, train_labels))\n",
        "    train_dataset = train_dataset.shuffle(10000).batch(512).prefetch(tf.data.AUTOTUNE)\n",
        "\n",
        "    # ساخت Dataset برای اعتبارسنجی (بدون شافل)\n",
        "    val_dataset = tf.data.Dataset.from_tensor_slices((val_images, val_labels))\n",
        "    val_dataset = val_dataset.batch(512).prefetch(tf.data.AUTOTUNE)\n",
        "\n",
        "    # تعریف optimizer: آدام با نرخ یادگیری 0.001\n",
        "    optimizer = tf.keras.optimizers.Adam(learning_rate=0.001)\n",
        "\n",
        "    # کامپایل مدل با تابع هزینه و معیار ارزیابی\n",
        "    model.compile(\n",
        "        optimizer=optimizer,\n",
        "        loss='categorical_crossentropy',  # برای برچسب‌های one-hot\n",
        "        metrics=['accuracy']\n",
        "    )\n",
        "\n",
        "    # تعریف checkpoint: فقط بهترین مدل (بر اساس val_accuracy) ذخیره شود\n",
        "    checkpoint = tf.keras.callbacks.ModelCheckpoint(\n",
        "        'output_phase1/best_model.h5',  # مسیر ذخیره مدل\n",
        "        monitor='val_accuracy',         # معیاری که زیر نظر گرفته می‌شود\n",
        "        save_best_only=True,            # فقط ذخیره در صورت بهبود عملکرد\n",
        "        mode='max'                      # بیشینه‌سازی دقت اعتبارسنجی\n",
        "    )\n",
        "\n",
        "    # آموزش مدل برای 30 دوره (epoch)\n",
        "    history = model.fit(\n",
        "        train_dataset,\n",
        "        epochs=30,                       # اجرا دقیقاً برای 30 epoch\n",
        "        validation_data=val_dataset,    # داده‌های اعتبارسنجی\n",
        "        callbacks=[checkpoint],         # callback ذخیره بهترین مدل\n",
        "        verbose=1                        # نمایش پیشرفت آموزش\n",
        "    )\n",
        "\n",
        "    # بازگرداندن تاریخچه آموزش برای رسم نمودارهای آماری\n",
        "    return history.history\n",
        "\n",
        "# محاسبه Precision, Recall, F1-Score\n",
        "def save_results(history, test_results, y_true, y_pred_classes):\n",
        "    precision = precision_score(y_true, y_pred_classes, average='weighted')\n",
        "    recall = recall_score(y_true, y_pred_classes, average='weighted')\n",
        "    f1 = f1_score(y_true, y_pred_classes, average='weighted')\n",
        "\n",
        "    results = {\n",
        "        'train_accuracy': float(history['accuracy'][-1]),\n",
        "        'val_accuracy': float(history['val_accuracy'][-1]),\n",
        "        'test_accuracy': float(test_results[1]),\n",
        "        'final_loss': float(history['loss'][-1]),\n",
        "        'val_loss': float(history['val_loss'][-1]),\n",
        "        'test_loss': float(test_results[0]),\n",
        "        'training_time_seconds': history.get('training_time', 0),\n",
        "        'completed_epochs': len(history['accuracy']),\n",
        "        'precision': float(precision),\n",
        "        'recall': float(recall),\n",
        "        'f1_score': float(f1)\n",
        "    }\n",
        "\n",
        "    with open('output_phase1/results.json', 'w') as f:\n",
        "        json.dump(results, f, indent=4)\n",
        "\n",
        "    return results\n"
      ]
    },
    {
      "cell_type": "code",
      "execution_count": null,
      "metadata": {
        "colab": {
          "base_uri": "https://localhost:8080/",
          "height": 1000
        },
        "id": "QakjycyqhFlJ",
        "outputId": "d1ae1e3a-48e0-4b63-b65c-0be2ca63e8c0"
      },
      "outputs": [
        {
          "name": "stdout",
          "output_type": "stream",
          "text": [
            "1 GPU(s) found\n",
            "Downloading data from https://www.cs.toronto.edu/~kriz/cifar-10-python.tar.gz\n",
            "\u001b[1m170498071/170498071\u001b[0m \u001b[32m━━━━━━━━━━━━━━━━━━━━\u001b[0m\u001b[37m\u001b[0m \u001b[1m4s\u001b[0m 0us/step\n"
          ]
        },
        {
          "name": "stderr",
          "output_type": "stream",
          "text": [
            "/usr/local/lib/python3.11/dist-packages/keras/src/layers/convolutional/base_conv.py:107: UserWarning: Do not pass an `input_shape`/`input_dim` argument to a layer. When using Sequential models, prefer using an `Input(shape)` object as the first layer in the model instead.\n",
            "  super().__init__(activity_regularizer=activity_regularizer, **kwargs)\n"
          ]
        },
        {
          "data": {
            "text/html": [
              "<pre style=\"white-space:pre;overflow-x:auto;line-height:normal;font-family:Menlo,'DejaVu Sans Mono',consolas,'Courier New',monospace\"><span style=\"font-weight: bold\">Model: \"sequential\"</span>\n",
              "</pre>\n"
            ],
            "text/plain": [
              "\u001b[1mModel: \"sequential\"\u001b[0m\n"
            ]
          },
          "metadata": {},
          "output_type": "display_data"
        },
        {
          "data": {
            "text/html": [
              "<pre style=\"white-space:pre;overflow-x:auto;line-height:normal;font-family:Menlo,'DejaVu Sans Mono',consolas,'Courier New',monospace\">┏━━━━━━━━━━━━━━━━━━━━━━━━━━━━━━━━━┳━━━━━━━━━━━━━━━━━━━━━━━━┳━━━━━━━━━━━━━━━┓\n",
              "┃<span style=\"font-weight: bold\"> Layer (type)                    </span>┃<span style=\"font-weight: bold\"> Output Shape           </span>┃<span style=\"font-weight: bold\">       Param # </span>┃\n",
              "┡━━━━━━━━━━━━━━━━━━━━━━━━━━━━━━━━━╇━━━━━━━━━━━━━━━━━━━━━━━━╇━━━━━━━━━━━━━━━┩\n",
              "│ conv2d (<span style=\"color: #0087ff; text-decoration-color: #0087ff\">Conv2D</span>)                 │ (<span style=\"color: #00d7ff; text-decoration-color: #00d7ff\">None</span>, <span style=\"color: #00af00; text-decoration-color: #00af00\">30</span>, <span style=\"color: #00af00; text-decoration-color: #00af00\">30</span>, <span style=\"color: #00af00; text-decoration-color: #00af00\">32</span>)     │           <span style=\"color: #00af00; text-decoration-color: #00af00\">896</span> │\n",
              "├─────────────────────────────────┼────────────────────────┼───────────────┤\n",
              "│ batch_normalization             │ (<span style=\"color: #00d7ff; text-decoration-color: #00d7ff\">None</span>, <span style=\"color: #00af00; text-decoration-color: #00af00\">30</span>, <span style=\"color: #00af00; text-decoration-color: #00af00\">30</span>, <span style=\"color: #00af00; text-decoration-color: #00af00\">32</span>)     │           <span style=\"color: #00af00; text-decoration-color: #00af00\">128</span> │\n",
              "│ (<span style=\"color: #0087ff; text-decoration-color: #0087ff\">BatchNormalization</span>)            │                        │               │\n",
              "├─────────────────────────────────┼────────────────────────┼───────────────┤\n",
              "│ max_pooling2d (<span style=\"color: #0087ff; text-decoration-color: #0087ff\">MaxPooling2D</span>)    │ (<span style=\"color: #00d7ff; text-decoration-color: #00d7ff\">None</span>, <span style=\"color: #00af00; text-decoration-color: #00af00\">15</span>, <span style=\"color: #00af00; text-decoration-color: #00af00\">15</span>, <span style=\"color: #00af00; text-decoration-color: #00af00\">32</span>)     │             <span style=\"color: #00af00; text-decoration-color: #00af00\">0</span> │\n",
              "├─────────────────────────────────┼────────────────────────┼───────────────┤\n",
              "│ conv2d_1 (<span style=\"color: #0087ff; text-decoration-color: #0087ff\">Conv2D</span>)               │ (<span style=\"color: #00d7ff; text-decoration-color: #00d7ff\">None</span>, <span style=\"color: #00af00; text-decoration-color: #00af00\">13</span>, <span style=\"color: #00af00; text-decoration-color: #00af00\">13</span>, <span style=\"color: #00af00; text-decoration-color: #00af00\">64</span>)     │        <span style=\"color: #00af00; text-decoration-color: #00af00\">18,496</span> │\n",
              "├─────────────────────────────────┼────────────────────────┼───────────────┤\n",
              "│ batch_normalization_1           │ (<span style=\"color: #00d7ff; text-decoration-color: #00d7ff\">None</span>, <span style=\"color: #00af00; text-decoration-color: #00af00\">13</span>, <span style=\"color: #00af00; text-decoration-color: #00af00\">13</span>, <span style=\"color: #00af00; text-decoration-color: #00af00\">64</span>)     │           <span style=\"color: #00af00; text-decoration-color: #00af00\">256</span> │\n",
              "│ (<span style=\"color: #0087ff; text-decoration-color: #0087ff\">BatchNormalization</span>)            │                        │               │\n",
              "├─────────────────────────────────┼────────────────────────┼───────────────┤\n",
              "│ max_pooling2d_1 (<span style=\"color: #0087ff; text-decoration-color: #0087ff\">MaxPooling2D</span>)  │ (<span style=\"color: #00d7ff; text-decoration-color: #00d7ff\">None</span>, <span style=\"color: #00af00; text-decoration-color: #00af00\">6</span>, <span style=\"color: #00af00; text-decoration-color: #00af00\">6</span>, <span style=\"color: #00af00; text-decoration-color: #00af00\">64</span>)       │             <span style=\"color: #00af00; text-decoration-color: #00af00\">0</span> │\n",
              "├─────────────────────────────────┼────────────────────────┼───────────────┤\n",
              "│ conv2d_2 (<span style=\"color: #0087ff; text-decoration-color: #0087ff\">Conv2D</span>)               │ (<span style=\"color: #00d7ff; text-decoration-color: #00d7ff\">None</span>, <span style=\"color: #00af00; text-decoration-color: #00af00\">4</span>, <span style=\"color: #00af00; text-decoration-color: #00af00\">4</span>, <span style=\"color: #00af00; text-decoration-color: #00af00\">128</span>)      │        <span style=\"color: #00af00; text-decoration-color: #00af00\">73,856</span> │\n",
              "├─────────────────────────────────┼────────────────────────┼───────────────┤\n",
              "│ batch_normalization_2           │ (<span style=\"color: #00d7ff; text-decoration-color: #00d7ff\">None</span>, <span style=\"color: #00af00; text-decoration-color: #00af00\">4</span>, <span style=\"color: #00af00; text-decoration-color: #00af00\">4</span>, <span style=\"color: #00af00; text-decoration-color: #00af00\">128</span>)      │           <span style=\"color: #00af00; text-decoration-color: #00af00\">512</span> │\n",
              "│ (<span style=\"color: #0087ff; text-decoration-color: #0087ff\">BatchNormalization</span>)            │                        │               │\n",
              "├─────────────────────────────────┼────────────────────────┼───────────────┤\n",
              "│ max_pooling2d_2 (<span style=\"color: #0087ff; text-decoration-color: #0087ff\">MaxPooling2D</span>)  │ (<span style=\"color: #00d7ff; text-decoration-color: #00d7ff\">None</span>, <span style=\"color: #00af00; text-decoration-color: #00af00\">2</span>, <span style=\"color: #00af00; text-decoration-color: #00af00\">2</span>, <span style=\"color: #00af00; text-decoration-color: #00af00\">128</span>)      │             <span style=\"color: #00af00; text-decoration-color: #00af00\">0</span> │\n",
              "├─────────────────────────────────┼────────────────────────┼───────────────┤\n",
              "│ flatten (<span style=\"color: #0087ff; text-decoration-color: #0087ff\">Flatten</span>)               │ (<span style=\"color: #00d7ff; text-decoration-color: #00d7ff\">None</span>, <span style=\"color: #00af00; text-decoration-color: #00af00\">512</span>)            │             <span style=\"color: #00af00; text-decoration-color: #00af00\">0</span> │\n",
              "├─────────────────────────────────┼────────────────────────┼───────────────┤\n",
              "│ dense (<span style=\"color: #0087ff; text-decoration-color: #0087ff\">Dense</span>)                   │ (<span style=\"color: #00d7ff; text-decoration-color: #00d7ff\">None</span>, <span style=\"color: #00af00; text-decoration-color: #00af00\">256</span>)            │       <span style=\"color: #00af00; text-decoration-color: #00af00\">131,328</span> │\n",
              "├─────────────────────────────────┼────────────────────────┼───────────────┤\n",
              "│ batch_normalization_3           │ (<span style=\"color: #00d7ff; text-decoration-color: #00d7ff\">None</span>, <span style=\"color: #00af00; text-decoration-color: #00af00\">256</span>)            │         <span style=\"color: #00af00; text-decoration-color: #00af00\">1,024</span> │\n",
              "│ (<span style=\"color: #0087ff; text-decoration-color: #0087ff\">BatchNormalization</span>)            │                        │               │\n",
              "├─────────────────────────────────┼────────────────────────┼───────────────┤\n",
              "│ dense_1 (<span style=\"color: #0087ff; text-decoration-color: #0087ff\">Dense</span>)                 │ (<span style=\"color: #00d7ff; text-decoration-color: #00d7ff\">None</span>, <span style=\"color: #00af00; text-decoration-color: #00af00\">10</span>)             │         <span style=\"color: #00af00; text-decoration-color: #00af00\">2,570</span> │\n",
              "└─────────────────────────────────┴────────────────────────┴───────────────┘\n",
              "</pre>\n"
            ],
            "text/plain": [
              "┏━━━━━━━━━━━━━━━━━━━━━━━━━━━━━━━━━┳━━━━━━━━━━━━━━━━━━━━━━━━┳━━━━━━━━━━━━━━━┓\n",
              "┃\u001b[1m \u001b[0m\u001b[1mLayer (type)                   \u001b[0m\u001b[1m \u001b[0m┃\u001b[1m \u001b[0m\u001b[1mOutput Shape          \u001b[0m\u001b[1m \u001b[0m┃\u001b[1m \u001b[0m\u001b[1m      Param #\u001b[0m\u001b[1m \u001b[0m┃\n",
              "┡━━━━━━━━━━━━━━━━━━━━━━━━━━━━━━━━━╇━━━━━━━━━━━━━━━━━━━━━━━━╇━━━━━━━━━━━━━━━┩\n",
              "│ conv2d (\u001b[38;5;33mConv2D\u001b[0m)                 │ (\u001b[38;5;45mNone\u001b[0m, \u001b[38;5;34m30\u001b[0m, \u001b[38;5;34m30\u001b[0m, \u001b[38;5;34m32\u001b[0m)     │           \u001b[38;5;34m896\u001b[0m │\n",
              "├─────────────────────────────────┼────────────────────────┼───────────────┤\n",
              "│ batch_normalization             │ (\u001b[38;5;45mNone\u001b[0m, \u001b[38;5;34m30\u001b[0m, \u001b[38;5;34m30\u001b[0m, \u001b[38;5;34m32\u001b[0m)     │           \u001b[38;5;34m128\u001b[0m │\n",
              "│ (\u001b[38;5;33mBatchNormalization\u001b[0m)            │                        │               │\n",
              "├─────────────────────────────────┼────────────────────────┼───────────────┤\n",
              "│ max_pooling2d (\u001b[38;5;33mMaxPooling2D\u001b[0m)    │ (\u001b[38;5;45mNone\u001b[0m, \u001b[38;5;34m15\u001b[0m, \u001b[38;5;34m15\u001b[0m, \u001b[38;5;34m32\u001b[0m)     │             \u001b[38;5;34m0\u001b[0m │\n",
              "├─────────────────────────────────┼────────────────────────┼───────────────┤\n",
              "│ conv2d_1 (\u001b[38;5;33mConv2D\u001b[0m)               │ (\u001b[38;5;45mNone\u001b[0m, \u001b[38;5;34m13\u001b[0m, \u001b[38;5;34m13\u001b[0m, \u001b[38;5;34m64\u001b[0m)     │        \u001b[38;5;34m18,496\u001b[0m │\n",
              "├─────────────────────────────────┼────────────────────────┼───────────────┤\n",
              "│ batch_normalization_1           │ (\u001b[38;5;45mNone\u001b[0m, \u001b[38;5;34m13\u001b[0m, \u001b[38;5;34m13\u001b[0m, \u001b[38;5;34m64\u001b[0m)     │           \u001b[38;5;34m256\u001b[0m │\n",
              "│ (\u001b[38;5;33mBatchNormalization\u001b[0m)            │                        │               │\n",
              "├─────────────────────────────────┼────────────────────────┼───────────────┤\n",
              "│ max_pooling2d_1 (\u001b[38;5;33mMaxPooling2D\u001b[0m)  │ (\u001b[38;5;45mNone\u001b[0m, \u001b[38;5;34m6\u001b[0m, \u001b[38;5;34m6\u001b[0m, \u001b[38;5;34m64\u001b[0m)       │             \u001b[38;5;34m0\u001b[0m │\n",
              "├─────────────────────────────────┼────────────────────────┼───────────────┤\n",
              "│ conv2d_2 (\u001b[38;5;33mConv2D\u001b[0m)               │ (\u001b[38;5;45mNone\u001b[0m, \u001b[38;5;34m4\u001b[0m, \u001b[38;5;34m4\u001b[0m, \u001b[38;5;34m128\u001b[0m)      │        \u001b[38;5;34m73,856\u001b[0m │\n",
              "├─────────────────────────────────┼────────────────────────┼───────────────┤\n",
              "│ batch_normalization_2           │ (\u001b[38;5;45mNone\u001b[0m, \u001b[38;5;34m4\u001b[0m, \u001b[38;5;34m4\u001b[0m, \u001b[38;5;34m128\u001b[0m)      │           \u001b[38;5;34m512\u001b[0m │\n",
              "│ (\u001b[38;5;33mBatchNormalization\u001b[0m)            │                        │               │\n",
              "├─────────────────────────────────┼────────────────────────┼───────────────┤\n",
              "│ max_pooling2d_2 (\u001b[38;5;33mMaxPooling2D\u001b[0m)  │ (\u001b[38;5;45mNone\u001b[0m, \u001b[38;5;34m2\u001b[0m, \u001b[38;5;34m2\u001b[0m, \u001b[38;5;34m128\u001b[0m)      │             \u001b[38;5;34m0\u001b[0m │\n",
              "├─────────────────────────────────┼────────────────────────┼───────────────┤\n",
              "│ flatten (\u001b[38;5;33mFlatten\u001b[0m)               │ (\u001b[38;5;45mNone\u001b[0m, \u001b[38;5;34m512\u001b[0m)            │             \u001b[38;5;34m0\u001b[0m │\n",
              "├─────────────────────────────────┼────────────────────────┼───────────────┤\n",
              "│ dense (\u001b[38;5;33mDense\u001b[0m)                   │ (\u001b[38;5;45mNone\u001b[0m, \u001b[38;5;34m256\u001b[0m)            │       \u001b[38;5;34m131,328\u001b[0m │\n",
              "├─────────────────────────────────┼────────────────────────┼───────────────┤\n",
              "│ batch_normalization_3           │ (\u001b[38;5;45mNone\u001b[0m, \u001b[38;5;34m256\u001b[0m)            │         \u001b[38;5;34m1,024\u001b[0m │\n",
              "│ (\u001b[38;5;33mBatchNormalization\u001b[0m)            │                        │               │\n",
              "├─────────────────────────────────┼────────────────────────┼───────────────┤\n",
              "│ dense_1 (\u001b[38;5;33mDense\u001b[0m)                 │ (\u001b[38;5;45mNone\u001b[0m, \u001b[38;5;34m10\u001b[0m)             │         \u001b[38;5;34m2,570\u001b[0m │\n",
              "└─────────────────────────────────┴────────────────────────┴───────────────┘\n"
            ]
          },
          "metadata": {},
          "output_type": "display_data"
        },
        {
          "data": {
            "text/html": [
              "<pre style=\"white-space:pre;overflow-x:auto;line-height:normal;font-family:Menlo,'DejaVu Sans Mono',consolas,'Courier New',monospace\"><span style=\"font-weight: bold\"> Total params: </span><span style=\"color: #00af00; text-decoration-color: #00af00\">229,066</span> (894.79 KB)\n",
              "</pre>\n"
            ],
            "text/plain": [
              "\u001b[1m Total params: \u001b[0m\u001b[38;5;34m229,066\u001b[0m (894.79 KB)\n"
            ]
          },
          "metadata": {},
          "output_type": "display_data"
        },
        {
          "data": {
            "text/html": [
              "<pre style=\"white-space:pre;overflow-x:auto;line-height:normal;font-family:Menlo,'DejaVu Sans Mono',consolas,'Courier New',monospace\"><span style=\"font-weight: bold\"> Trainable params: </span><span style=\"color: #00af00; text-decoration-color: #00af00\">228,106</span> (891.04 KB)\n",
              "</pre>\n"
            ],
            "text/plain": [
              "\u001b[1m Trainable params: \u001b[0m\u001b[38;5;34m228,106\u001b[0m (891.04 KB)\n"
            ]
          },
          "metadata": {},
          "output_type": "display_data"
        },
        {
          "data": {
            "text/html": [
              "<pre style=\"white-space:pre;overflow-x:auto;line-height:normal;font-family:Menlo,'DejaVu Sans Mono',consolas,'Courier New',monospace\"><span style=\"font-weight: bold\"> Non-trainable params: </span><span style=\"color: #00af00; text-decoration-color: #00af00\">960</span> (3.75 KB)\n",
              "</pre>\n"
            ],
            "text/plain": [
              "\u001b[1m Non-trainable params: \u001b[0m\u001b[38;5;34m960\u001b[0m (3.75 KB)\n"
            ]
          },
          "metadata": {},
          "output_type": "display_data"
        },
        {
          "data": {
            "text/html": [
              "<pre style=\"white-space:pre;overflow-x:auto;line-height:normal;font-family:Menlo,'DejaVu Sans Mono',consolas,'Courier New',monospace\"></pre>\n"
            ],
            "text/plain": []
          },
          "metadata": {},
          "output_type": "display_data"
        },
        {
          "name": "stdout",
          "output_type": "stream",
          "text": [
            "Epoch 1/30\n",
            "\u001b[1m88/88\u001b[0m \u001b[32m━━━━━━━━━━━━━━━━━━━━\u001b[0m\u001b[37m\u001b[0m \u001b[1m0s\u001b[0m 114ms/step - accuracy: 0.4128 - loss: 1.7214"
          ]
        },
        {
          "name": "stderr",
          "output_type": "stream",
          "text": [
            "WARNING:absl:You are saving your model as an HDF5 file via `model.save()` or `keras.saving.save_model(model)`. This file format is considered legacy. We recommend using instead the native Keras format, e.g. `model.save('my_model.keras')` or `keras.saving.save_model(model, 'my_model.keras')`. \n"
          ]
        },
        {
          "name": "stdout",
          "output_type": "stream",
          "text": [
            "\b\b\b\b\b\b\b\b\b\b\b\b\b\b\b\b\b\b\b\b\b\b\b\b\b\b\b\b\b\b\b\b\b\b\b\b\b\b\b\b\b\b\b\b\b\b\b\b\b\b\b\b\b\b\b\b\b\b\b\b\b\b\b\b\b\b\b\b\b\b\b\b\b\b\r\u001b[1m88/88\u001b[0m \u001b[32m━━━━━━━━━━━━━━━━━━━━\u001b[0m\u001b[37m\u001b[0m \u001b[1m27s\u001b[0m 142ms/step - accuracy: 0.4138 - loss: 1.7181 - val_accuracy: 0.1038 - val_loss: 2.8398\n",
            "Epoch 2/30\n",
            "\u001b[1m85/88\u001b[0m \u001b[32m━━━━━━━━━━━━━━━━━━━\u001b[0m\u001b[37m━\u001b[0m \u001b[1m0s\u001b[0m 9ms/step - accuracy: 0.6365 - loss: 1.0451"
          ]
        },
        {
          "name": "stderr",
          "output_type": "stream",
          "text": [
            "WARNING:absl:You are saving your model as an HDF5 file via `model.save()` or `keras.saving.save_model(model)`. This file format is considered legacy. We recommend using instead the native Keras format, e.g. `model.save('my_model.keras')` or `keras.saving.save_model(model, 'my_model.keras')`. \n"
          ]
        },
        {
          "name": "stdout",
          "output_type": "stream",
          "text": [
            "\b\b\b\b\b\b\b\b\b\b\b\b\b\b\b\b\b\b\b\b\b\b\b\b\b\b\b\b\b\b\b\b\b\b\b\b\b\b\b\b\b\b\b\b\b\b\b\b\b\b\b\b\b\b\b\b\b\b\b\b\b\b\b\b\b\b\b\b\b\b\b\b\r\u001b[1m88/88\u001b[0m \u001b[32m━━━━━━━━━━━━━━━━━━━━\u001b[0m\u001b[37m\u001b[0m \u001b[1m1s\u001b[0m 10ms/step - accuracy: 0.6371 - loss: 1.0434 - val_accuracy: 0.1068 - val_loss: 3.3089\n",
            "Epoch 3/30\n",
            "\u001b[1m86/88\u001b[0m \u001b[32m━━━━━━━━━━━━━━━━━━━\u001b[0m\u001b[37m━\u001b[0m \u001b[1m0s\u001b[0m 8ms/step - accuracy: 0.7084 - loss: 0.8542"
          ]
        },
        {
          "name": "stderr",
          "output_type": "stream",
          "text": [
            "WARNING:absl:You are saving your model as an HDF5 file via `model.save()` or `keras.saving.save_model(model)`. This file format is considered legacy. We recommend using instead the native Keras format, e.g. `model.save('my_model.keras')` or `keras.saving.save_model(model, 'my_model.keras')`. \n"
          ]
        },
        {
          "name": "stdout",
          "output_type": "stream",
          "text": [
            "\b\b\b\b\b\b\b\b\b\b\b\b\b\b\b\b\b\b\b\b\b\b\b\b\b\b\b\b\b\b\b\b\b\b\b\b\b\b\b\b\b\b\b\b\b\b\b\b\b\b\b\b\b\b\b\b\b\b\b\b\b\b\b\b\b\b\b\b\b\b\b\b\r\u001b[1m88/88\u001b[0m \u001b[32m━━━━━━━━━━━━━━━━━━━━\u001b[0m\u001b[37m\u001b[0m \u001b[1m1s\u001b[0m 10ms/step - accuracy: 0.7086 - loss: 0.8534 - val_accuracy: 0.1120 - val_loss: 4.0585\n",
            "Epoch 4/30\n",
            "\u001b[1m84/88\u001b[0m \u001b[32m━━━━━━━━━━━━━━━━━━━\u001b[0m\u001b[37m━\u001b[0m \u001b[1m0s\u001b[0m 9ms/step - accuracy: 0.7535 - loss: 0.7184"
          ]
        },
        {
          "name": "stderr",
          "output_type": "stream",
          "text": [
            "WARNING:absl:You are saving your model as an HDF5 file via `model.save()` or `keras.saving.save_model(model)`. This file format is considered legacy. We recommend using instead the native Keras format, e.g. `model.save('my_model.keras')` or `keras.saving.save_model(model, 'my_model.keras')`. \n"
          ]
        },
        {
          "name": "stdout",
          "output_type": "stream",
          "text": [
            "\b\b\b\b\b\b\b\b\b\b\b\b\b\b\b\b\b\b\b\b\b\b\b\b\b\b\b\b\b\b\b\b\b\b\b\b\b\b\b\b\b\b\b\b\b\b\b\b\b\b\b\b\b\b\b\b\b\b\b\b\b\b\b\b\b\b\b\b\b\b\b\b\r\u001b[1m88/88\u001b[0m \u001b[32m━━━━━━━━━━━━━━━━━━━━\u001b[0m\u001b[37m\u001b[0m \u001b[1m1s\u001b[0m 10ms/step - accuracy: 0.7535 - loss: 0.7178 - val_accuracy: 0.2184 - val_loss: 2.9435\n",
            "Epoch 5/30\n",
            "\u001b[1m86/88\u001b[0m \u001b[32m━━━━━━━━━━━━━━━━━━━\u001b[0m\u001b[37m━\u001b[0m \u001b[1m0s\u001b[0m 9ms/step - accuracy: 0.7906 - loss: 0.6038"
          ]
        },
        {
          "name": "stderr",
          "output_type": "stream",
          "text": [
            "WARNING:absl:You are saving your model as an HDF5 file via `model.save()` or `keras.saving.save_model(model)`. This file format is considered legacy. We recommend using instead the native Keras format, e.g. `model.save('my_model.keras')` or `keras.saving.save_model(model, 'my_model.keras')`. \n"
          ]
        },
        {
          "name": "stdout",
          "output_type": "stream",
          "text": [
            "\b\b\b\b\b\b\b\b\b\b\b\b\b\b\b\b\b\b\b\b\b\b\b\b\b\b\b\b\b\b\b\b\b\b\b\b\b\b\b\b\b\b\b\b\b\b\b\b\b\b\b\b\b\b\b\b\b\b\b\b\b\b\b\b\b\b\b\b\b\b\b\b\r\u001b[1m88/88\u001b[0m \u001b[32m━━━━━━━━━━━━━━━━━━━━\u001b[0m\u001b[37m\u001b[0m \u001b[1m1s\u001b[0m 10ms/step - accuracy: 0.7907 - loss: 0.6036 - val_accuracy: 0.3896 - val_loss: 2.0317\n",
            "Epoch 6/30\n",
            "\u001b[1m84/88\u001b[0m \u001b[32m━━━━━━━━━━━━━━━━━━━\u001b[0m\u001b[37m━\u001b[0m \u001b[1m0s\u001b[0m 8ms/step - accuracy: 0.8275 - loss: 0.5120"
          ]
        },
        {
          "name": "stderr",
          "output_type": "stream",
          "text": [
            "WARNING:absl:You are saving your model as an HDF5 file via `model.save()` or `keras.saving.save_model(model)`. This file format is considered legacy. We recommend using instead the native Keras format, e.g. `model.save('my_model.keras')` or `keras.saving.save_model(model, 'my_model.keras')`. \n"
          ]
        },
        {
          "name": "stdout",
          "output_type": "stream",
          "text": [
            "\b\b\b\b\b\b\b\b\b\b\b\b\b\b\b\b\b\b\b\b\b\b\b\b\b\b\b\b\b\b\b\b\b\b\b\b\b\b\b\b\b\b\b\b\b\b\b\b\b\b\b\b\b\b\b\b\b\b\b\b\b\b\b\b\b\b\b\b\b\b\b\b\r\u001b[1m88/88\u001b[0m \u001b[32m━━━━━━━━━━━━━━━━━━━━\u001b[0m\u001b[37m\u001b[0m \u001b[1m1s\u001b[0m 10ms/step - accuracy: 0.8277 - loss: 0.5113 - val_accuracy: 0.5578 - val_loss: 1.3333\n",
            "Epoch 7/30\n",
            "\u001b[1m84/88\u001b[0m \u001b[32m━━━━━━━━━━━━━━━━━━━\u001b[0m\u001b[37m━\u001b[0m \u001b[1m0s\u001b[0m 9ms/step - accuracy: 0.8581 - loss: 0.4286"
          ]
        },
        {
          "name": "stderr",
          "output_type": "stream",
          "text": [
            "WARNING:absl:You are saving your model as an HDF5 file via `model.save()` or `keras.saving.save_model(model)`. This file format is considered legacy. We recommend using instead the native Keras format, e.g. `model.save('my_model.keras')` or `keras.saving.save_model(model, 'my_model.keras')`. \n"
          ]
        },
        {
          "name": "stdout",
          "output_type": "stream",
          "text": [
            "\b\b\b\b\b\b\b\b\b\b\b\b\b\b\b\b\b\b\b\b\b\b\b\b\b\b\b\b\b\b\b\b\b\b\b\b\b\b\b\b\b\b\b\b\b\b\b\b\b\b\b\b\b\b\b\b\b\b\b\b\b\b\b\b\b\b\b\b\b\b\b\b\r\u001b[1m88/88\u001b[0m \u001b[32m━━━━━━━━━━━━━━━━━━━━\u001b[0m\u001b[37m\u001b[0m \u001b[1m1s\u001b[0m 10ms/step - accuracy: 0.8583 - loss: 0.4280 - val_accuracy: 0.6390 - val_loss: 1.0975\n",
            "Epoch 8/30\n",
            "\u001b[1m85/88\u001b[0m \u001b[32m━━━━━━━━━━━━━━━━━━━\u001b[0m\u001b[37m━\u001b[0m \u001b[1m0s\u001b[0m 8ms/step - accuracy: 0.8935 - loss: 0.3377"
          ]
        },
        {
          "name": "stderr",
          "output_type": "stream",
          "text": [
            "WARNING:absl:You are saving your model as an HDF5 file via `model.save()` or `keras.saving.save_model(model)`. This file format is considered legacy. We recommend using instead the native Keras format, e.g. `model.save('my_model.keras')` or `keras.saving.save_model(model, 'my_model.keras')`. \n"
          ]
        },
        {
          "name": "stdout",
          "output_type": "stream",
          "text": [
            "\b\b\b\b\b\b\b\b\b\b\b\b\b\b\b\b\b\b\b\b\b\b\b\b\b\b\b\b\b\b\b\b\b\b\b\b\b\b\b\b\b\b\b\b\b\b\b\b\b\b\b\b\b\b\b\b\b\b\b\b\b\b\b\b\b\b\b\b\b\b\b\b\r\u001b[1m88/88\u001b[0m \u001b[32m━━━━━━━━━━━━━━━━━━━━\u001b[0m\u001b[37m\u001b[0m \u001b[1m1s\u001b[0m 10ms/step - accuracy: 0.8935 - loss: 0.3376 - val_accuracy: 0.6804 - val_loss: 1.0023\n",
            "Epoch 9/30\n",
            "\u001b[1m83/88\u001b[0m \u001b[32m━━━━━━━━━━━━━━━━━━\u001b[0m\u001b[37m━━\u001b[0m \u001b[1m0s\u001b[0m 8ms/step - accuracy: 0.9091 - loss: 0.2827"
          ]
        },
        {
          "name": "stderr",
          "output_type": "stream",
          "text": [
            "WARNING:absl:You are saving your model as an HDF5 file via `model.save()` or `keras.saving.save_model(model)`. This file format is considered legacy. We recommend using instead the native Keras format, e.g. `model.save('my_model.keras')` or `keras.saving.save_model(model, 'my_model.keras')`. \n"
          ]
        },
        {
          "name": "stdout",
          "output_type": "stream",
          "text": [
            "\b\b\b\b\b\b\b\b\b\b\b\b\b\b\b\b\b\b\b\b\b\b\b\b\b\b\b\b\b\b\b\b\b\b\b\b\b\b\b\b\b\b\b\b\b\b\b\b\b\b\b\b\b\b\b\b\b\b\b\b\b\b\b\b\b\b\b\b\b\b\b\b\r\u001b[1m88/88\u001b[0m \u001b[32m━━━━━━━━━━━━━━━━━━━━\u001b[0m\u001b[37m\u001b[0m \u001b[1m1s\u001b[0m 10ms/step - accuracy: 0.9093 - loss: 0.2820 - val_accuracy: 0.7106 - val_loss: 0.9780\n",
            "Epoch 10/30\n",
            "\u001b[1m88/88\u001b[0m \u001b[32m━━━━━━━━━━━━━━━━━━━━\u001b[0m\u001b[37m\u001b[0m \u001b[1m1s\u001b[0m 11ms/step - accuracy: 0.9394 - loss: 0.2078 - val_accuracy: 0.6664 - val_loss: 1.1738\n",
            "Epoch 11/30\n",
            "\u001b[1m88/88\u001b[0m \u001b[32m━━━━━━━━━━━━━━━━━━━━\u001b[0m\u001b[37m\u001b[0m \u001b[1m1s\u001b[0m 11ms/step - accuracy: 0.9543 - loss: 0.1598 - val_accuracy: 0.6828 - val_loss: 1.1485\n",
            "Epoch 12/30\n",
            "\u001b[1m88/88\u001b[0m \u001b[32m━━━━━━━━━━━━━━━━━━━━\u001b[0m\u001b[37m\u001b[0m \u001b[1m1s\u001b[0m 11ms/step - accuracy: 0.9684 - loss: 0.1224 - val_accuracy: 0.6844 - val_loss: 1.2233\n",
            "Epoch 13/30\n",
            "\u001b[1m88/88\u001b[0m \u001b[32m━━━━━━━━━━━━━━━━━━━━\u001b[0m\u001b[37m\u001b[0m \u001b[1m1s\u001b[0m 9ms/step - accuracy: 0.9795 - loss: 0.0905 - val_accuracy: 0.7082 - val_loss: 1.1626\n",
            "Epoch 14/30\n",
            "\u001b[1m88/88\u001b[0m \u001b[32m━━━━━━━━━━━━━━━━━━━━\u001b[0m\u001b[37m\u001b[0m \u001b[1m1s\u001b[0m 9ms/step - accuracy: 0.9881 - loss: 0.0633 - val_accuracy: 0.7000 - val_loss: 1.2745\n",
            "Epoch 15/30\n",
            "\u001b[1m88/88\u001b[0m \u001b[32m━━━━━━━━━━━━━━━━━━━━\u001b[0m\u001b[37m\u001b[0m \u001b[1m1s\u001b[0m 9ms/step - accuracy: 0.9936 - loss: 0.0428 - val_accuracy: 0.6830 - val_loss: 1.3431\n",
            "Epoch 16/30\n",
            "\u001b[1m88/88\u001b[0m \u001b[32m━━━━━━━━━━━━━━━━━━━━\u001b[0m\u001b[37m\u001b[0m \u001b[1m1s\u001b[0m 9ms/step - accuracy: 0.9957 - loss: 0.0355 - val_accuracy: 0.7038 - val_loss: 1.2976\n",
            "Epoch 17/30\n",
            "\u001b[1m88/88\u001b[0m \u001b[32m━━━━━━━━━━━━━━━━━━━━\u001b[0m\u001b[37m\u001b[0m \u001b[1m1s\u001b[0m 9ms/step - accuracy: 0.9981 - loss: 0.0220 - val_accuracy: 0.7080 - val_loss: 1.3355\n",
            "Epoch 18/30\n",
            "\u001b[1m83/88\u001b[0m \u001b[32m━━━━━━━━━━━━━━━━━━\u001b[0m\u001b[37m━━\u001b[0m \u001b[1m0s\u001b[0m 9ms/step - accuracy: 0.9998 - loss: 0.0115"
          ]
        },
        {
          "name": "stderr",
          "output_type": "stream",
          "text": [
            "WARNING:absl:You are saving your model as an HDF5 file via `model.save()` or `keras.saving.save_model(model)`. This file format is considered legacy. We recommend using instead the native Keras format, e.g. `model.save('my_model.keras')` or `keras.saving.save_model(model, 'my_model.keras')`. \n"
          ]
        },
        {
          "name": "stdout",
          "output_type": "stream",
          "text": [
            "\b\b\b\b\b\b\b\b\b\b\b\b\b\b\b\b\b\b\b\b\b\b\b\b\b\b\b\b\b\b\b\b\b\b\b\b\b\b\b\b\b\b\b\b\b\b\b\b\b\b\b\b\b\b\b\b\b\b\b\b\b\b\b\b\b\b\b\b\b\b\b\b\r\u001b[1m88/88\u001b[0m \u001b[32m━━━━━━━━━━━━━━━━━━━━\u001b[0m\u001b[37m\u001b[0m \u001b[1m1s\u001b[0m 10ms/step - accuracy: 0.9998 - loss: 0.0114 - val_accuracy: 0.7114 - val_loss: 1.3331\n",
            "Epoch 19/30\n",
            "\u001b[1m86/88\u001b[0m \u001b[32m━━━━━━━━━━━━━━━━━━━\u001b[0m\u001b[37m━\u001b[0m \u001b[1m0s\u001b[0m 8ms/step - accuracy: 1.0000 - loss: 0.0067"
          ]
        },
        {
          "name": "stderr",
          "output_type": "stream",
          "text": [
            "WARNING:absl:You are saving your model as an HDF5 file via `model.save()` or `keras.saving.save_model(model)`. This file format is considered legacy. We recommend using instead the native Keras format, e.g. `model.save('my_model.keras')` or `keras.saving.save_model(model, 'my_model.keras')`. \n"
          ]
        },
        {
          "name": "stdout",
          "output_type": "stream",
          "text": [
            "\b\b\b\b\b\b\b\b\b\b\b\b\b\b\b\b\b\b\b\b\b\b\b\b\b\b\b\b\b\b\b\b\b\b\b\b\b\b\b\b\b\b\b\b\b\b\b\b\b\b\b\b\b\b\b\b\b\b\b\b\b\b\b\b\b\b\b\b\b\b\b\b\r\u001b[1m88/88\u001b[0m \u001b[32m━━━━━━━━━━━━━━━━━━━━\u001b[0m\u001b[37m\u001b[0m \u001b[1m1s\u001b[0m 10ms/step - accuracy: 1.0000 - loss: 0.0066 - val_accuracy: 0.7152 - val_loss: 1.3377\n",
            "Epoch 20/30\n",
            "\u001b[1m88/88\u001b[0m \u001b[32m━━━━━━━━━━━━━━━━━━━━\u001b[0m\u001b[37m\u001b[0m \u001b[1m1s\u001b[0m 9ms/step - accuracy: 1.0000 - loss: 0.0045 - val_accuracy: 0.7128 - val_loss: 1.3660\n",
            "Epoch 21/30\n",
            "\u001b[1m85/88\u001b[0m \u001b[32m━━━━━━━━━━━━━━━━━━━\u001b[0m\u001b[37m━\u001b[0m \u001b[1m0s\u001b[0m 8ms/step - accuracy: 1.0000 - loss: 0.0035"
          ]
        },
        {
          "name": "stderr",
          "output_type": "stream",
          "text": [
            "WARNING:absl:You are saving your model as an HDF5 file via `model.save()` or `keras.saving.save_model(model)`. This file format is considered legacy. We recommend using instead the native Keras format, e.g. `model.save('my_model.keras')` or `keras.saving.save_model(model, 'my_model.keras')`. \n"
          ]
        },
        {
          "name": "stdout",
          "output_type": "stream",
          "text": [
            "\b\b\b\b\b\b\b\b\b\b\b\b\b\b\b\b\b\b\b\b\b\b\b\b\b\b\b\b\b\b\b\b\b\b\b\b\b\b\b\b\b\b\b\b\b\b\b\b\b\b\b\b\b\b\b\b\b\b\b\b\b\b\b\b\b\b\b\b\b\b\b\b\r\u001b[1m88/88\u001b[0m \u001b[32m━━━━━━━━━━━━━━━━━━━━\u001b[0m\u001b[37m\u001b[0m \u001b[1m1s\u001b[0m 10ms/step - accuracy: 1.0000 - loss: 0.0035 - val_accuracy: 0.7164 - val_loss: 1.3805\n",
            "Epoch 22/30\n",
            "\u001b[1m88/88\u001b[0m \u001b[32m━━━━━━━━━━━━━━━━━━━━\u001b[0m\u001b[37m\u001b[0m \u001b[1m1s\u001b[0m 11ms/step - accuracy: 1.0000 - loss: 0.0030 - val_accuracy: 0.7154 - val_loss: 1.3947\n",
            "Epoch 23/30\n",
            "\u001b[1m88/88\u001b[0m \u001b[32m━━━━━━━━━━━━━━━━━━━━\u001b[0m\u001b[37m\u001b[0m \u001b[1m1s\u001b[0m 11ms/step - accuracy: 1.0000 - loss: 0.0026 - val_accuracy: 0.7158 - val_loss: 1.4102\n",
            "Epoch 24/30\n",
            "\u001b[1m86/88\u001b[0m \u001b[32m━━━━━━━━━━━━━━━━━━━\u001b[0m\u001b[37m━\u001b[0m \u001b[1m0s\u001b[0m 9ms/step - accuracy: 1.0000 - loss: 0.0023 "
          ]
        },
        {
          "name": "stderr",
          "output_type": "stream",
          "text": [
            "WARNING:absl:You are saving your model as an HDF5 file via `model.save()` or `keras.saving.save_model(model)`. This file format is considered legacy. We recommend using instead the native Keras format, e.g. `model.save('my_model.keras')` or `keras.saving.save_model(model, 'my_model.keras')`. \n"
          ]
        },
        {
          "name": "stdout",
          "output_type": "stream",
          "text": [
            "\b\b\b\b\b\b\b\b\b\b\b\b\b\b\b\b\b\b\b\b\b\b\b\b\b\b\b\b\b\b\b\b\b\b\b\b\b\b\b\b\b\b\b\b\b\b\b\b\b\b\b\b\b\b\b\b\b\b\b\b\b\b\b\b\b\b\b\b\b\b\b\b\r\u001b[1m88/88\u001b[0m \u001b[32m━━━━━━━━━━━━━━━━━━━━\u001b[0m\u001b[37m\u001b[0m \u001b[1m1s\u001b[0m 11ms/step - accuracy: 1.0000 - loss: 0.0023 - val_accuracy: 0.7188 - val_loss: 1.4222\n",
            "Epoch 25/30\n",
            "\u001b[1m88/88\u001b[0m \u001b[32m━━━━━━━━━━━━━━━━━━━━\u001b[0m\u001b[37m\u001b[0m \u001b[1m1s\u001b[0m 9ms/step - accuracy: 1.0000 - loss: 0.0021 - val_accuracy: 0.7150 - val_loss: 1.4454\n",
            "Epoch 26/30\n",
            "\u001b[1m88/88\u001b[0m \u001b[32m━━━━━━━━━━━━━━━━━━━━\u001b[0m\u001b[37m\u001b[0m \u001b[1m1s\u001b[0m 9ms/step - accuracy: 1.0000 - loss: 0.0018 - val_accuracy: 0.7162 - val_loss: 1.4684\n",
            "Epoch 27/30\n",
            "\u001b[1m88/88\u001b[0m \u001b[32m━━━━━━━━━━━━━━━━━━━━\u001b[0m\u001b[37m\u001b[0m \u001b[1m1s\u001b[0m 9ms/step - accuracy: 1.0000 - loss: 0.0016 - val_accuracy: 0.7158 - val_loss: 1.4733\n",
            "Epoch 28/30\n",
            "\u001b[1m88/88\u001b[0m \u001b[32m━━━━━━━━━━━━━━━━━━━━\u001b[0m\u001b[37m\u001b[0m \u001b[1m1s\u001b[0m 10ms/step - accuracy: 1.0000 - loss: 0.0015 - val_accuracy: 0.7160 - val_loss: 1.4838\n",
            "Epoch 29/30\n",
            "\u001b[1m88/88\u001b[0m \u001b[32m━━━━━━━━━━━━━━━━━━━━\u001b[0m\u001b[37m\u001b[0m \u001b[1m1s\u001b[0m 9ms/step - accuracy: 1.0000 - loss: 0.0014 - val_accuracy: 0.7150 - val_loss: 1.4987\n",
            "Epoch 30/30\n",
            "\u001b[1m88/88\u001b[0m \u001b[32m━━━━━━━━━━━━━━━━━━━━\u001b[0m\u001b[37m\u001b[0m \u001b[1m1s\u001b[0m 10ms/step - accuracy: 1.0000 - loss: 0.0013 - val_accuracy: 0.7148 - val_loss: 1.5172\n",
            "\u001b[1m313/313\u001b[0m \u001b[32m━━━━━━━━━━━━━━━━━━━━\u001b[0m\u001b[37m\u001b[0m \u001b[1m2s\u001b[0m 5ms/step\n",
            "\u001b[1m313/313\u001b[0m \u001b[32m━━━━━━━━━━━━━━━━━━━━\u001b[0m\u001b[37m\u001b[0m \u001b[1m1s\u001b[0m 2ms/step\n",
            "\u001b[1m313/313\u001b[0m \u001b[32m━━━━━━━━━━━━━━━━━━━━\u001b[0m\u001b[37m\u001b[0m \u001b[1m1s\u001b[0m 2ms/step\n",
            "\u001b[1m1/1\u001b[0m \u001b[32m━━━━━━━━━━━━━━━━━━━━\u001b[0m\u001b[37m\u001b[0m \u001b[1m1s\u001b[0m 735ms/step\n",
            "\n",
            "نتایج نهایی:\n",
            "- دقت آموزش (Train Accuracy): 1.0000\n",
            "- دقت اعتبارسنجی (Validation Accuracy): 0.7148\n",
            "- دقت تست (Test Accuracy): 0.7097\n",
            "- Precision: 0.7097\n",
            "- Recall: 0.7097\n",
            "- F1-Score: 0.7096\n",
            "- زمان آموزش: 59.40 ثانیه\n",
            "- تعداد Epochs اجرا شده: 30\n",
            "\n",
            "آموزش کامل شد. تمام نتایج و نمودارها در پوشه output_phase1 ذخیره شدند.\n"
          ]
        }
      ],
      "source": [
        "\n",
        "# تنظیمات GPU\n",
        "os.environ['TF_GPU_THREAD_MODE'] = 'gpu_private'\n",
        "os.environ['TF_GPU_THREAD_COUNT'] = '2'\n",
        "os.environ['TF_FORCE_GPU_ALLOW_GROWTH'] = 'true'\n",
        "\n",
        "# تنظیمات موازی‌سازی\n",
        "os.environ['TF_NUM_INTRAOP_THREADS'] = str(cpu_count())\n",
        "os.environ['TF_NUM_INTEROP_THREADS'] = str(cpu_count())\n",
        "os.environ['OMP_NUM_THREADS'] = str(cpu_count())\n",
        "\n",
        "# فعال کردن mixed precision\n",
        "policy = mixed_precision.Policy('mixed_float16')\n",
        "mixed_precision.set_global_policy(policy)\n",
        "\n",
        "# ایجاد پوشه‌های خروجی\n",
        "os.makedirs('output_phase1/1', exist_ok=True)  # پوشه برای ذخیره نمودارها\n",
        "os.makedirs('output_phase1/2', exist_ok=True)  # پوشه برای ذخیره تصاویر تست\n",
        "\n",
        "# لیبل‌های CIFAR-10\n",
        "class_names = ['airplane', 'automobile', 'bird', 'cat', 'deer',\n",
        "               'dog', 'frog', 'horse', 'ship', 'truck']\n",
        "\n",
        "if __name__ == '__main__':\n",
        "    # بررسی و پیکربندی GPU\n",
        "    gpus = tf.config.list_physical_devices('GPU')\n",
        "    if gpus:\n",
        "        print(f\"{len(gpus)} GPU(s) found\")\n",
        "        for gpu in gpus:\n",
        "            tf.config.experimental.set_memory_growth(gpu, True)\n",
        "\n",
        "    # بارگیری داده‌ها\n",
        "    train_images, train_labels, val_images, val_labels, test_images, test_labels = load_and_preprocess_data()\n",
        "\n",
        "    # ساخت مدل\n",
        "    model = build_model()\n",
        "\n",
        "    # نمایش خلاصه مدل\n",
        "    model.summary()\n",
        "    with open('output_phase1/model_summary.txt', 'w') as f:\n",
        "        model.summary(print_fn=lambda x: f.write(x + '\\n'))\n",
        "\n",
        "    # آموزش مدل\n",
        "    start_time = time.time()\n",
        "    history = train_model(model, train_images, train_labels, val_images, val_labels)\n",
        "    history['training_time'] = time.time() - start_time\n",
        "\n",
        "    # ارزیابی روی داده تست\n",
        "    test_results = model.evaluate(test_images, test_labels, batch_size=512, verbose=0)\n",
        "\n",
        "    # پیش‌بینی کلاس‌ها برای محاسبه Precision, Recall, F1\n",
        "    y_pred = model.predict(test_images)\n",
        "    y_pred_classes = np.argmax(y_pred, axis=1)\n",
        "    y_true = np.argmax(test_labels, axis=1)\n",
        "\n",
        "    # رسم نمودارها و ذخیره در پوشه 1\n",
        "    plot_learning_curves(history)\n",
        "    plot_confusion_matrix(model, test_images, test_labels)\n",
        "    plot_roc_curve(model, test_images, test_labels)\n",
        "\n",
        "    # مصورسازی پیش‌بینی‌ها و ذخیره در پوشه 2\n",
        "    visualize_predictions(model, test_images, test_labels)\n",
        "\n",
        "    # ذخیره نتایج\n",
        "    results = save_results(history, test_results, y_true, y_pred_classes)\n",
        "\n",
        "    # چاپ تمام معیارها\n",
        "    print(\"\\nنتایج نهایی:\")\n",
        "    print(f\"- دقت آموزش (Train Accuracy): {results['train_accuracy']:.4f}\")\n",
        "    print(f\"- دقت اعتبارسنجی (Validation Accuracy): {results['val_accuracy']:.4f}\")\n",
        "    print(f\"- دقت تست (Test Accuracy): {results['test_accuracy']:.4f}\")\n",
        "    print(f\"- Precision: {results['precision']:.4f}\")\n",
        "    print(f\"- Recall: {results['recall']:.4f}\")\n",
        "    print(f\"- F1-Score: {results['f1_score']:.4f}\")\n",
        "    print(f\"- زمان آموزش: {results['training_time_seconds']:.2f} ثانیه\")\n",
        "    print(f\"- تعداد Epochs اجرا شده: {results['completed_epochs']}\")\n",
        "\n",
        "    print(\"\\nآموزش کامل شد. تمام نتایج و نمودارها در پوشه output_phase1 ذخیره شدند.\")"
      ]
    },
    {
      "cell_type": "markdown",
      "metadata": {
        "id": "YlAOgJW2g0H0"
      },
      "source": [
        "# فاز 2"
      ]
    },
    {
      "cell_type": "code",
      "execution_count": null,
      "metadata": {
        "id": "BRUu2Aabg0H1"
      },
      "outputs": [],
      "source": [
        "import tensorflow as tf\n",
        "from tensorflow.keras import layers, models, regularizers\n",
        "from tensorflow.keras.optimizers import Adam, RMSprop, SGD, Nadam\n",
        "from tensorflow.keras.callbacks import EarlyStopping, ReduceLROnPlateau, ModelCheckpoint\n",
        "import numpy as np\n",
        "import matplotlib.pyplot as plt\n",
        "import json\n",
        "from sklearn.metrics import precision_score, recall_score, f1_score, confusion_matrix, roc_curve, auc\n",
        "from sklearn.preprocessing import label_binarize\n",
        "import seaborn as sns\n",
        "import os"
      ]
    },
    {
      "cell_type": "code",
      "execution_count": null,
      "metadata": {
        "id": "A8rBYggJg0H1"
      },
      "outputs": [],
      "source": [
        "def setup():\n",
        "    # پیکربندی GPU برای T4\n",
        "    gpus = tf.config.list_physical_devices('GPU')\n",
        "    if gpus:\n",
        "        try:\n",
        "            for gpu in gpus:\n",
        "                tf.config.experimental.set_memory_growth(gpu, True)\n",
        "            logical_gpus = tf.config.list_logical_devices('GPU')\n",
        "            print(f\"{len(gpus)} Physical GPUs, {len(logical_gpus)} Logical GPUs\")\n",
        "        except RuntimeError as e:\n",
        "            print(e)\n",
        "\n",
        "    # فعال‌سازی mixed precision\n",
        "    policy = tf.keras.mixed_precision.Policy('mixed_float16')\n",
        "    tf.keras.mixed_precision.set_global_policy(policy)\n",
        "    print('Compute dtype: %s' % policy.compute_dtype)\n",
        "    print('Variable dtype: %s' % policy.variable_dtype)\n",
        "\n",
        "    # ایجاد دایرکتوری خروجی\n",
        "    os.makedirs('output_phase2', exist_ok=True)\n",
        "\n",
        "#بارگذاری و پیش پردازش داده های CIFAR-10\n",
        "def load_and_preprocess_data():\n",
        "    (train_images, train_labels), (test_images, test_labels) = tf.keras.datasets.cifar10.load_data()\n",
        "    val_images = train_images[:5000]\n",
        "    val_labels = train_labels[:5000]\n",
        "    train_images = train_images[5000:]\n",
        "    train_labels = train_labels[5000:]\n",
        "\n",
        "    def preprocess(images, labels):\n",
        "        images = tf.cast(images, tf.float32) / 255.0\n",
        "        labels = tf.one_hot(tf.squeeze(labels), depth=10)\n",
        "        return images, labels\n",
        "\n",
        "    batch_size = 256\n",
        "    train_ds = tf.data.Dataset.from_tensor_slices((train_images, train_labels))\n",
        "    train_ds = train_ds.map(preprocess, num_parallel_calls=tf.data.AUTOTUNE)\n",
        "    train_ds = train_ds.cache().shuffle(10000).batch(batch_size).prefetch(tf.data.AUTOTUNE)\n",
        "\n",
        "    val_ds = tf.data.Dataset.from_tensor_slices((val_images, val_labels))\n",
        "    val_ds = val_ds.map(preprocess, num_parallel_calls=tf.data.AUTOTUNE)\n",
        "    val_ds = val_ds.batch(batch_size).cache().prefetch(tf.data.AUTOTUNE)\n",
        "\n",
        "    test_ds = tf.data.Dataset.from_tensor_slices((test_images, test_labels))\n",
        "    test_ds = test_ds.map(preprocess, num_parallel_calls=tf.data.AUTOTUNE)\n",
        "    test_ds = test_ds.batch(batch_size).prefetch(tf.data.AUTOTUNE)\n",
        "\n",
        "    return train_ds, val_ds, test_ds, test_images, test_labels\n",
        "\n",
        "def build_optimized_model():\n",
        "    # ایجاد یک مدل Sequential (پشت سر هم)\n",
        "    model = models.Sequential([\n",
        "\n",
        "        # لایه اول: کانولوشن 2D با 64 فیلتر 3x3\n",
        "        layers.Conv2D(64, (3,3), activation='relu', padding='same', input_shape=(32,32,3),\n",
        "                     kernel_regularizer=regularizers.l2(1e-4)),\n",
        "        # - 64 فیلتر 3x3 با فعال‌سازی ReLU\n",
        "        # - padding='same' برای حفظ ابعاد تصویر\n",
        "        # - تنظیم‌کننده L2 برای جلوگیری از overfitting\n",
        "        # - input_shape=(32,32,3) برای تصاویر 32x32 رنگی (3 کانال)\n",
        "\n",
        "        layers.BatchNormalization(),\n",
        "        # نرمال‌سازی داده‌ها برای بهبود پایداری و سرعت آموزش\n",
        "\n",
        "        # لایه دوم: کانولوشن 2D دیگر با 64 فیلتر 3x3\n",
        "        layers.Conv2D(64, (3,3), activation='relu', padding='same'),\n",
        "        # - لایه کانولوشن مشابه بدون تنظیم‌کننده\n",
        "\n",
        "        layers.BatchNormalization(),\n",
        "        # نرمال‌سازی مجدد\n",
        "\n",
        "        layers.MaxPooling2D((2,2)),\n",
        "        # لایه Max Pooling برای کاهش ابعاد (16x16)\n",
        "\n",
        "        layers.Dropout(0.3),\n",
        "        # غیرفعال کردن تصادفی 30% نورون‌ها برای جلوگیری از overfitting\n",
        "\n",
        "        # ---------------------------\n",
        "        # بلوک دوم با 128 فیلتر\n",
        "        layers.Conv2D(128, (3,3), activation='relu', padding='same',\n",
        "                     kernel_regularizer=regularizers.l2(1e-4)),\n",
        "        # افزایش تعداد فیلترها به 128\n",
        "\n",
        "        layers.BatchNormalization(),\n",
        "\n",
        "        layers.Conv2D(128, (3,3), activation='relu', padding='same'),\n",
        "\n",
        "        layers.BatchNormalization(),\n",
        "\n",
        "        layers.MaxPooling2D((2,2)),\n",
        "        # کاهش ابعاد به 8x8\n",
        "\n",
        "        layers.Dropout(0.4),\n",
        "        # افزایش نرخ Dropout به 40%\n",
        "\n",
        "        # ---------------------------\n",
        "        # بلوک سوم با 256 فیلتر\n",
        "        layers.Conv2D(256, (3,3), activation='relu', padding='same',\n",
        "                     kernel_regularizer=regularizers.l2(1e-4)),\n",
        "\n",
        "        layers.BatchNormalization(),\n",
        "\n",
        "        layers.MaxPooling2D((2,2)),\n",
        "        # کاهش ابعاد به 4x4\n",
        "\n",
        "        layers.Dropout(0.5),\n",
        "        # افزایش نرخ Dropout به 50%\n",
        "\n",
        "        # ---------------------------\n",
        "        # لایه‌های تمام‌متصل\n",
        "        layers.Flatten(),\n",
        "        # تبدیل داده 4D به 2D برای لایه‌های Dense\n",
        "\n",
        "        layers.Dense(512, activation='relu', kernel_regularizer=regularizers.l2(1e-4)),\n",
        "        # لایه تمام‌متصل با 512 نورون\n",
        "\n",
        "        layers.BatchNormalization(),\n",
        "\n",
        "        layers.Dropout(0.5),\n",
        "        # نرخ Dropout بالا برای لایه‌های متراکم\n",
        "\n",
        "        layers.Dense(10, activation='softmax', dtype='float32')\n",
        "        # لایه خروجی با 10 نورون (برای 10 کلاس CIFAR-10)\n",
        "        # فعال‌سازی softmax برای احتمال‌های هر کلاس\n",
        "        # dtype='float32' برای اطمینان از محاسبات با دقت مناسب\n",
        "    ])\n",
        "    return model\n",
        "\n",
        "#ذخیره نمودار ها\n",
        "def plot_learning_curves(history, filename):\n",
        "    plt.figure(figsize=(12, 5))\n",
        "    plt.subplot(1, 2, 1)\n",
        "    plt.plot(history['accuracy'], label='Train')\n",
        "    plt.plot(history['val_accuracy'], label='Validation')\n",
        "    plt.title('Accuracy')\n",
        "    plt.xlabel('Epoch')\n",
        "    plt.legend()\n",
        "\n",
        "    plt.subplot(1, 2, 2)\n",
        "    plt.plot(history['loss'], label='Train')\n",
        "    plt.plot(history['val_loss'], label='Validation')\n",
        "    plt.title('Loss')\n",
        "    plt.xlabel('Epoch')\n",
        "    plt.legend()\n",
        "    plt.savefig(f'output_phase2/{filename}.png')\n",
        "    plt.close()\n",
        "\n",
        "#ذخیره ماتریس در هم ریختگی\n",
        "def plot_confusion_matrix(y_true, y_pred, filename):\n",
        "    cm = confusion_matrix(y_true, y_pred)\n",
        "    plt.figure(figsize=(10,8))\n",
        "    sns.heatmap(cm, annot=True, fmt='d', cmap='Blues',\n",
        "                xticklabels=class_names,\n",
        "                yticklabels=class_names)\n",
        "    plt.xlabel('Predicted')\n",
        "    plt.ylabel('True')\n",
        "    plt.title('Confusion Matrix')\n",
        "    plt.savefig(f'output_phase2/{filename}.png')\n",
        "    plt.close()\n",
        "\n",
        "#رسم و ذخیره منحنی ROC\n",
        "def plot_roc_curve(model, test_ds, filename):\n",
        "    y_true = tf.concat([y for x, y in test_ds], axis=0)\n",
        "    y_pred = model.predict(test_ds, verbose=0)\n",
        "\n",
        "    # باینری کردن خروجی\n",
        "    y_true_bin = label_binarize(y_true.numpy(), classes=range(10))\n",
        "    n_classes = y_true_bin.shape[1]\n",
        "\n",
        "    # حساب کردن مساحت زیر نمدار  ROC برای هر کلاس\n",
        "    fpr = dict()\n",
        "    tpr = dict()\n",
        "    roc_auc = dict()\n",
        "    for i in range(n_classes):\n",
        "        fpr[i], tpr[i], _ = roc_curve(y_true_bin[:, i], y_pred[:, i])\n",
        "        roc_auc[i] = auc(fpr[i], tpr[i])\n",
        "\n",
        "    # ROCترسیم کردن تمام نمودار های\n",
        "    plt.figure(figsize=(10,8))\n",
        "    for i in range(n_classes):\n",
        "        plt.plot(fpr[i], tpr[i],\n",
        "                 label=f'ROC curve of {class_names[i]} (area = {roc_auc[i]:.2f})')\n",
        "\n",
        "    plt.plot([0, 1], [0, 1], 'k--')\n",
        "    plt.xlim([0.0, 1.0])\n",
        "    plt.ylim([0.0, 1.05])\n",
        "    plt.xlabel('False Positive Rate')\n",
        "    plt.ylabel('True Positive Rate')\n",
        "    plt.title('ROC Curve for Multi-Class')\n",
        "    plt.legend(loc=\"lower right\")\n",
        "    plt.savefig(f'output_phase2/{filename}.png')\n",
        "    plt.close()\n",
        "\n",
        "#نمایش 10 تا از داده های تست و لیبل زدن انها توسط مدل\n",
        "def visualize_predictions(model, test_images, test_labels, num_images=10):\n",
        "    test_images_normalized = test_images[:num_images] / 255.0\n",
        "    predictions = model.predict(test_images_normalized)\n",
        "    predicted_labels = np.argmax(predictions, axis=1)\n",
        "\n",
        "    plt.figure(figsize=(15, 5))\n",
        "    for i in range(num_images):\n",
        "        plt.subplot(2, 5, i+1)\n",
        "        plt.imshow(test_images[i])\n",
        "        true_label = class_names[test_labels[i][0]]\n",
        "        pred_label = class_names[predicted_labels[i]]\n",
        "        color = 'green' if true_label == pred_label else 'red'\n",
        "        plt.title(f'True: {true_label}\\nPred: {pred_label}', color=color)\n",
        "        plt.axis('off')\n",
        "    plt.tight_layout()\n",
        "    plt.savefig('output_phase2/test_predictions_visualization.png')\n",
        "    plt.close()\n",
        "\n",
        "#انجام ارزیابی جامع از مدل و نمایش و سیو درصد های مدل\n",
        "def evaluate_model(model, test_ds, opt_name):\n",
        "    test_loss, test_acc = model.evaluate(test_ds, verbose=0)\n",
        "    y_pred = model.predict(test_ds, verbose=0)\n",
        "    y_true = tf.concat([y for x, y in test_ds], axis=0)\n",
        "\n",
        "    y_pred_classes = np.argmax(y_pred, axis=1)\n",
        "    y_true_classes = np.argmax(y_true, axis=1)\n",
        "\n",
        "    # Plot Confusion Matrix\n",
        "    plot_confusion_matrix(y_true_classes, y_pred_classes, f'confusion_matrix_{opt_name}')\n",
        "\n",
        "    # Plot ROC Curve\n",
        "    plot_roc_curve(model, test_ds, f'roc_curve_{opt_name}')\n",
        "\n",
        "    results = {\n",
        "        'optimizer': opt_name,\n",
        "        'test_accuracy': float(test_acc),\n",
        "        'test_loss': float(test_loss),\n",
        "        'precision': float(precision_score(y_true_classes, y_pred_classes, average='macro')),\n",
        "        'recall': float(recall_score(y_true_classes, y_pred_classes, average='macro')),\n",
        "        'f1_score': float(f1_score(y_true_classes, y_pred_classes, average='macro'))\n",
        "    }\n",
        "\n",
        "    with open(f'output_phase2/results_{opt_name}.json', 'w') as f:\n",
        "        json.dump(results, f, indent=4)\n",
        "\n",
        "    return results\n",
        "\n",
        "#مقایسه سیستماتیک بین بهینه ساز های مختلف\n",
        "def train_and_compare_optimizers():\n",
        "    setup()\n",
        "    train_ds, val_ds, test_ds, test_images, test_labels = load_and_preprocess_data()\n",
        "\n",
        "    optimizers = {\n",
        "        'Adam': Adam(learning_rate=0.001),\n",
        "        'RMSprop': RMSprop(learning_rate=0.001),\n",
        "        'SGD': SGD(learning_rate=0.01, momentum=0.9),\n",
        "        'Nadam': Nadam(learning_rate=0.001)\n",
        "    }\n",
        "\n",
        "    all_results = []\n",
        "\n",
        "    for opt_name, optimizer in optimizers.items():\n",
        "        print(f\"\\nTraining with {opt_name} optimizer...\")\n",
        "\n",
        "        model = build_optimized_model()\n",
        "        model.compile(\n",
        "            optimizer=optimizer,\n",
        "            loss=tf.keras.losses.CategoricalCrossentropy(label_smoothing=0.1),\n",
        "            metrics=['accuracy']\n",
        "        )\n",
        "\n",
        "        callbacks = [\n",
        "            EarlyStopping(monitor='val_accuracy', patience=15, restore_best_weights=True),\n",
        "            ReduceLROnPlateau(monitor='val_loss', factor=0.5, patience=5, min_lr=1e-6),\n",
        "            ModelCheckpoint(\n",
        "                f'output_phase2/best_model_{opt_name}.h5',\n",
        "                monitor='val_accuracy',\n",
        "                save_best_only=True,\n",
        "                mode='max'\n",
        "            )\n",
        "        ]\n",
        "\n",
        "        history = model.fit(\n",
        "            train_ds,\n",
        "            epochs=50,\n",
        "            validation_data=val_ds,\n",
        "            callbacks=callbacks,\n",
        "            verbose=1\n",
        "        )\n",
        "\n",
        "        plot_learning_curves(history.history, f'learning_curves_{opt_name}')\n",
        "        results = evaluate_model(model, test_ds, opt_name)\n",
        "\n",
        "        # اضافه کردن train accuracy به نتایج\n",
        "        results['train_accuracy'] = max(history.history['accuracy'])\n",
        "        all_results.append(results)\n",
        "\n",
        "        # Visualize predictions for the first model\n",
        "        if opt_name == list(optimizers.keys())[0]:\n",
        "            visualize_predictions(model, test_images, test_labels)\n",
        "\n",
        "        print(f\"\\nResults for {opt_name}:\")\n",
        "        print(f\"Train Accuracy: {results['train_accuracy']:.4f}\")\n",
        "        print(f\"Test Accuracy: {results['test_accuracy']:.4f}\")\n",
        "        print(f\"Test Loss: {results['test_loss']:.4f}\")\n",
        "        print(f\"Precision: {results['precision']:.4f}\")\n",
        "        print(f\"Recall: {results['recall']:.4f}\")\n",
        "        print(f\"F1 Score: {results['f1_score']:.4f}\")\n",
        "\n",
        "    # Save comparison results\n",
        "    with open('output_phase2/optimizers_comparison.json', 'w') as f:\n",
        "        json.dump(all_results, f, indent=4)\n",
        "\n",
        "    print(\"\\nOptimizers Comparison:\")\n",
        "    for result in all_results:\n",
        "        print(f\"{result['optimizer']}: Train Accuracy={result['train_accuracy']:.4f}, Test Accuracy={result['test_accuracy']:.4f}, Test Loss={result['test_loss']:.4f}\")\n",
        "\n",
        "    return all_results\n"
      ]
    },
    {
      "cell_type": "code",
      "execution_count": null,
      "metadata": {
        "colab": {
          "base_uri": "https://localhost:8080/"
        },
        "id": "nfl0RkkohC7C",
        "outputId": "a19a36ed-076c-4333-a485-0aa46b4cd2df"
      },
      "outputs": [
        {
          "name": "stdout",
          "output_type": "stream",
          "text": [
            "1 Physical GPUs, 1 Logical GPUs\n",
            "Compute dtype: float16\n",
            "Variable dtype: float32\n",
            "Downloading data from https://www.cs.toronto.edu/~kriz/cifar-10-python.tar.gz\n",
            "\u001b[1m170498071/170498071\u001b[0m \u001b[32m━━━━━━━━━━━━━━━━━━━━\u001b[0m\u001b[37m\u001b[0m \u001b[1m12s\u001b[0m 0us/step\n",
            "\n",
            "Training with Adam optimizer...\n"
          ]
        },
        {
          "name": "stderr",
          "output_type": "stream",
          "text": [
            "/usr/local/lib/python3.11/dist-packages/keras/src/layers/convolutional/base_conv.py:107: UserWarning: Do not pass an `input_shape`/`input_dim` argument to a layer. When using Sequential models, prefer using an `Input(shape)` object as the first layer in the model instead.\n",
            "  super().__init__(activity_regularizer=activity_regularizer, **kwargs)\n"
          ]
        },
        {
          "name": "stdout",
          "output_type": "stream",
          "text": [
            "Epoch 1/50\n",
            "\u001b[1m176/176\u001b[0m \u001b[32m━━━━━━━━━━━━━━━━━━━━\u001b[0m\u001b[37m\u001b[0m \u001b[1m0s\u001b[0m 135ms/step - accuracy: 0.3189 - loss: 2.5802"
          ]
        },
        {
          "name": "stderr",
          "output_type": "stream",
          "text": [
            "WARNING:absl:You are saving your model as an HDF5 file via `model.save()` or `keras.saving.save_model(model)`. This file format is considered legacy. We recommend using instead the native Keras format, e.g. `model.save('my_model.keras')` or `keras.saving.save_model(model, 'my_model.keras')`. \n"
          ]
        },
        {
          "name": "stdout",
          "output_type": "stream",
          "text": [
            "\b\b\b\b\b\b\b\b\b\b\b\b\b\b\b\b\b\b\b\b\b\b\b\b\b\b\b\b\b\b\b\b\b\b\b\b\b\b\b\b\b\b\b\b\b\b\b\b\b\b\b\b\b\b\b\b\b\b\b\b\b\b\b\b\b\b\b\b\b\b\b\b\b\b\b\b\r\u001b[1m176/176\u001b[0m \u001b[32m━━━━━━━━━━━━━━━━━━━━\u001b[0m\u001b[37m\u001b[0m \u001b[1m57s\u001b[0m 168ms/step - accuracy: 0.3193 - loss: 2.5780 - val_accuracy: 0.1010 - val_loss: 3.4859 - learning_rate: 0.0010\n",
            "Epoch 2/50\n",
            "\u001b[1m175/176\u001b[0m \u001b[32m━━━━━━━━━━━━━━━━━━━\u001b[0m\u001b[37m━\u001b[0m \u001b[1m0s\u001b[0m 20ms/step - accuracy: 0.5333 - loss: 1.7062"
          ]
        },
        {
          "name": "stderr",
          "output_type": "stream",
          "text": [
            "WARNING:absl:You are saving your model as an HDF5 file via `model.save()` or `keras.saving.save_model(model)`. This file format is considered legacy. We recommend using instead the native Keras format, e.g. `model.save('my_model.keras')` or `keras.saving.save_model(model, 'my_model.keras')`. \n"
          ]
        },
        {
          "name": "stdout",
          "output_type": "stream",
          "text": [
            "\b\b\b\b\b\b\b\b\b\b\b\b\b\b\b\b\b\b\b\b\b\b\b\b\b\b\b\b\b\b\b\b\b\b\b\b\b\b\b\b\b\b\b\b\b\b\b\b\b\b\b\b\b\b\b\b\b\b\b\b\b\b\b\b\b\b\b\b\b\b\b\b\b\b\b\r\u001b[1m176/176\u001b[0m \u001b[32m━━━━━━━━━━━━━━━━━━━━\u001b[0m\u001b[37m\u001b[0m \u001b[1m4s\u001b[0m 21ms/step - accuracy: 0.5336 - loss: 1.7054 - val_accuracy: 0.1384 - val_loss: 3.0016 - learning_rate: 0.0010\n",
            "Epoch 3/50\n",
            "\u001b[1m175/176\u001b[0m \u001b[32m━━━━━━━━━━━━━━━━━━━\u001b[0m\u001b[37m━\u001b[0m \u001b[1m0s\u001b[0m 19ms/step - accuracy: 0.6367 - loss: 1.4729"
          ]
        },
        {
          "name": "stderr",
          "output_type": "stream",
          "text": [
            "WARNING:absl:You are saving your model as an HDF5 file via `model.save()` or `keras.saving.save_model(model)`. This file format is considered legacy. We recommend using instead the native Keras format, e.g. `model.save('my_model.keras')` or `keras.saving.save_model(model, 'my_model.keras')`. \n"
          ]
        },
        {
          "name": "stdout",
          "output_type": "stream",
          "text": [
            "\b\b\b\b\b\b\b\b\b\b\b\b\b\b\b\b\b\b\b\b\b\b\b\b\b\b\b\b\b\b\b\b\b\b\b\b\b\b\b\b\b\b\b\b\b\b\b\b\b\b\b\b\b\b\b\b\b\b\b\b\b\b\b\b\b\b\b\b\b\b\b\b\b\b\b\r\u001b[1m176/176\u001b[0m \u001b[32m━━━━━━━━━━━━━━━━━━━━\u001b[0m\u001b[37m\u001b[0m \u001b[1m5s\u001b[0m 21ms/step - accuracy: 0.6369 - loss: 1.4725 - val_accuracy: 0.3718 - val_loss: 1.9809 - learning_rate: 0.0010\n",
            "Epoch 4/50\n",
            "\u001b[1m175/176\u001b[0m \u001b[32m━━━━━━━━━━━━━━━━━━━\u001b[0m\u001b[37m━\u001b[0m \u001b[1m0s\u001b[0m 19ms/step - accuracy: 0.6911 - loss: 1.3571"
          ]
        },
        {
          "name": "stderr",
          "output_type": "stream",
          "text": [
            "WARNING:absl:You are saving your model as an HDF5 file via `model.save()` or `keras.saving.save_model(model)`. This file format is considered legacy. We recommend using instead the native Keras format, e.g. `model.save('my_model.keras')` or `keras.saving.save_model(model, 'my_model.keras')`. \n"
          ]
        },
        {
          "name": "stdout",
          "output_type": "stream",
          "text": [
            "\b\b\b\b\b\b\b\b\b\b\b\b\b\b\b\b\b\b\b\b\b\b\b\b\b\b\b\b\b\b\b\b\b\b\b\b\b\b\b\b\b\b\b\b\b\b\b\b\b\b\b\b\b\b\b\b\b\b\b\b\b\b\b\b\b\b\b\b\b\b\b\b\b\b\b\r\u001b[1m176/176\u001b[0m \u001b[32m━━━━━━━━━━━━━━━━━━━━\u001b[0m\u001b[37m\u001b[0m \u001b[1m4s\u001b[0m 21ms/step - accuracy: 0.6912 - loss: 1.3569 - val_accuracy: 0.7192 - val_loss: 1.2888 - learning_rate: 0.0010\n",
            "Epoch 5/50\n",
            "\u001b[1m175/176\u001b[0m \u001b[32m━━━━━━━━━━━━━━━━━━━\u001b[0m\u001b[37m━\u001b[0m \u001b[1m0s\u001b[0m 19ms/step - accuracy: 0.7229 - loss: 1.2909"
          ]
        },
        {
          "name": "stderr",
          "output_type": "stream",
          "text": [
            "WARNING:absl:You are saving your model as an HDF5 file via `model.save()` or `keras.saving.save_model(model)`. This file format is considered legacy. We recommend using instead the native Keras format, e.g. `model.save('my_model.keras')` or `keras.saving.save_model(model, 'my_model.keras')`. \n"
          ]
        },
        {
          "name": "stdout",
          "output_type": "stream",
          "text": [
            "\b\b\b\b\b\b\b\b\b\b\b\b\b\b\b\b\b\b\b\b\b\b\b\b\b\b\b\b\b\b\b\b\b\b\b\b\b\b\b\b\b\b\b\b\b\b\b\b\b\b\b\b\b\b\b\b\b\b\b\b\b\b\b\b\b\b\b\b\b\b\b\b\b\b\b\r\u001b[1m176/176\u001b[0m \u001b[32m━━━━━━━━━━━━━━━━━━━━\u001b[0m\u001b[37m\u001b[0m \u001b[1m4s\u001b[0m 21ms/step - accuracy: 0.7229 - loss: 1.2907 - val_accuracy: 0.7196 - val_loss: 1.2824 - learning_rate: 0.0010\n",
            "Epoch 6/50\n",
            "\u001b[1m176/176\u001b[0m \u001b[32m━━━━━━━━━━━━━━━━━━━━\u001b[0m\u001b[37m\u001b[0m \u001b[1m3s\u001b[0m 20ms/step - accuracy: 0.7466 - loss: 1.2398 - val_accuracy: 0.7168 - val_loss: 1.2992 - learning_rate: 0.0010\n",
            "Epoch 7/50\n",
            "\u001b[1m175/176\u001b[0m \u001b[32m━━━━━━━━━━━━━━━━━━━\u001b[0m\u001b[37m━\u001b[0m \u001b[1m0s\u001b[0m 20ms/step - accuracy: 0.7671 - loss: 1.1976"
          ]
        },
        {
          "name": "stderr",
          "output_type": "stream",
          "text": [
            "WARNING:absl:You are saving your model as an HDF5 file via `model.save()` or `keras.saving.save_model(model)`. This file format is considered legacy. We recommend using instead the native Keras format, e.g. `model.save('my_model.keras')` or `keras.saving.save_model(model, 'my_model.keras')`. \n"
          ]
        },
        {
          "name": "stdout",
          "output_type": "stream",
          "text": [
            "\b\b\b\b\b\b\b\b\b\b\b\b\b\b\b\b\b\b\b\b\b\b\b\b\b\b\b\b\b\b\b\b\b\b\b\b\b\b\b\b\b\b\b\b\b\b\b\b\b\b\b\b\b\b\b\b\b\b\b\b\b\b\b\b\b\b\b\b\b\b\b\b\b\b\b\r\u001b[1m176/176\u001b[0m \u001b[32m━━━━━━━━━━━━━━━━━━━━\u001b[0m\u001b[37m\u001b[0m \u001b[1m4s\u001b[0m 21ms/step - accuracy: 0.7672 - loss: 1.1975 - val_accuracy: 0.7526 - val_loss: 1.2218 - learning_rate: 0.0010\n",
            "Epoch 8/50\n",
            "\u001b[1m175/176\u001b[0m \u001b[32m━━━━━━━━━━━━━━━━━━━\u001b[0m\u001b[37m━\u001b[0m \u001b[1m0s\u001b[0m 19ms/step - accuracy: 0.7819 - loss: 1.1663"
          ]
        },
        {
          "name": "stderr",
          "output_type": "stream",
          "text": [
            "WARNING:absl:You are saving your model as an HDF5 file via `model.save()` or `keras.saving.save_model(model)`. This file format is considered legacy. We recommend using instead the native Keras format, e.g. `model.save('my_model.keras')` or `keras.saving.save_model(model, 'my_model.keras')`. \n"
          ]
        },
        {
          "name": "stdout",
          "output_type": "stream",
          "text": [
            "\b\b\b\b\b\b\b\b\b\b\b\b\b\b\b\b\b\b\b\b\b\b\b\b\b\b\b\b\b\b\b\b\b\b\b\b\b\b\b\b\b\b\b\b\b\b\b\b\b\b\b\b\b\b\b\b\b\b\b\b\b\b\b\b\b\b\b\b\b\b\b\b\b\b\b\r\u001b[1m176/176\u001b[0m \u001b[32m━━━━━━━━━━━━━━━━━━━━\u001b[0m\u001b[37m\u001b[0m \u001b[1m4s\u001b[0m 21ms/step - accuracy: 0.7820 - loss: 1.1662 - val_accuracy: 0.8050 - val_loss: 1.1057 - learning_rate: 0.0010\n",
            "Epoch 9/50\n",
            "\u001b[1m176/176\u001b[0m \u001b[32m━━━━━━━━━━━━━━━━━━━━\u001b[0m\u001b[37m\u001b[0m \u001b[1m4s\u001b[0m 20ms/step - accuracy: 0.7973 - loss: 1.1390 - val_accuracy: 0.7746 - val_loss: 1.1866 - learning_rate: 0.0010\n",
            "Epoch 10/50\n",
            "\u001b[1m175/176\u001b[0m \u001b[32m━━━━━━━━━━━━━━━━━━━\u001b[0m\u001b[37m━\u001b[0m \u001b[1m0s\u001b[0m 20ms/step - accuracy: 0.8135 - loss: 1.1063"
          ]
        },
        {
          "name": "stderr",
          "output_type": "stream",
          "text": [
            "WARNING:absl:You are saving your model as an HDF5 file via `model.save()` or `keras.saving.save_model(model)`. This file format is considered legacy. We recommend using instead the native Keras format, e.g. `model.save('my_model.keras')` or `keras.saving.save_model(model, 'my_model.keras')`. \n"
          ]
        },
        {
          "name": "stdout",
          "output_type": "stream",
          "text": [
            "\b\b\b\b\b\b\b\b\b\b\b\b\b\b\b\b\b\b\b\b\b\b\b\b\b\b\b\b\b\b\b\b\b\b\b\b\b\b\b\b\b\b\b\b\b\b\b\b\b\b\b\b\b\b\b\b\b\b\b\b\b\b\b\b\b\b\b\b\b\b\b\b\b\b\b\r\u001b[1m176/176\u001b[0m \u001b[32m━━━━━━━━━━━━━━━━━━━━\u001b[0m\u001b[37m\u001b[0m \u001b[1m4s\u001b[0m 21ms/step - accuracy: 0.8135 - loss: 1.1063 - val_accuracy: 0.8078 - val_loss: 1.1186 - learning_rate: 0.0010\n",
            "Epoch 11/50\n",
            "\u001b[1m175/176\u001b[0m \u001b[32m━━━━━━━━━━━━━━━━━━━\u001b[0m\u001b[37m━\u001b[0m \u001b[1m0s\u001b[0m 19ms/step - accuracy: 0.8190 - loss: 1.0910"
          ]
        },
        {
          "name": "stderr",
          "output_type": "stream",
          "text": [
            "WARNING:absl:You are saving your model as an HDF5 file via `model.save()` or `keras.saving.save_model(model)`. This file format is considered legacy. We recommend using instead the native Keras format, e.g. `model.save('my_model.keras')` or `keras.saving.save_model(model, 'my_model.keras')`. \n"
          ]
        },
        {
          "name": "stdout",
          "output_type": "stream",
          "text": [
            "\b\b\b\b\b\b\b\b\b\b\b\b\b\b\b\b\b\b\b\b\b\b\b\b\b\b\b\b\b\b\b\b\b\b\b\b\b\b\b\b\b\b\b\b\b\b\b\b\b\b\b\b\b\b\b\b\b\b\b\b\b\b\b\b\b\b\b\b\b\b\b\b\b\b\b\r\u001b[1m176/176\u001b[0m \u001b[32m━━━━━━━━━━━━━━━━━━━━\u001b[0m\u001b[37m\u001b[0m \u001b[1m4s\u001b[0m 21ms/step - accuracy: 0.8190 - loss: 1.0910 - val_accuracy: 0.8148 - val_loss: 1.1125 - learning_rate: 0.0010\n",
            "Epoch 12/50\n",
            "\u001b[1m176/176\u001b[0m \u001b[32m━━━━━━━━━━━━━━━━━━━━\u001b[0m\u001b[37m\u001b[0m \u001b[1m4s\u001b[0m 20ms/step - accuracy: 0.8316 - loss: 1.0711 - val_accuracy: 0.7950 - val_loss: 1.1383 - learning_rate: 0.0010\n",
            "Epoch 13/50\n",
            "\u001b[1m176/176\u001b[0m \u001b[32m━━━━━━━━━━━━━━━━━━━━\u001b[0m\u001b[37m\u001b[0m \u001b[1m4s\u001b[0m 20ms/step - accuracy: 0.8401 - loss: 1.0525 - val_accuracy: 0.8002 - val_loss: 1.1284 - learning_rate: 0.0010\n",
            "Epoch 14/50\n",
            "\u001b[1m175/176\u001b[0m \u001b[32m━━━━━━━━━━━━━━━━━━━\u001b[0m\u001b[37m━\u001b[0m \u001b[1m0s\u001b[0m 19ms/step - accuracy: 0.8587 - loss: 1.0217"
          ]
        },
        {
          "name": "stderr",
          "output_type": "stream",
          "text": [
            "WARNING:absl:You are saving your model as an HDF5 file via `model.save()` or `keras.saving.save_model(model)`. This file format is considered legacy. We recommend using instead the native Keras format, e.g. `model.save('my_model.keras')` or `keras.saving.save_model(model, 'my_model.keras')`. \n"
          ]
        },
        {
          "name": "stdout",
          "output_type": "stream",
          "text": [
            "\b\b\b\b\b\b\b\b\b\b\b\b\b\b\b\b\b\b\b\b\b\b\b\b\b\b\b\b\b\b\b\b\b\b\b\b\b\b\b\b\b\b\b\b\b\b\b\b\b\b\b\b\b\b\b\b\b\b\b\b\b\b\b\b\b\b\b\b\b\b\b\b\b\b\b\r\u001b[1m176/176\u001b[0m \u001b[32m━━━━━━━━━━━━━━━━━━━━\u001b[0m\u001b[37m\u001b[0m \u001b[1m4s\u001b[0m 20ms/step - accuracy: 0.8587 - loss: 1.0216 - val_accuracy: 0.8432 - val_loss: 1.0264 - learning_rate: 5.0000e-04\n",
            "Epoch 15/50\n",
            "\u001b[1m175/176\u001b[0m \u001b[32m━━━━━━━━━━━━━━━━━━━\u001b[0m\u001b[37m━\u001b[0m \u001b[1m0s\u001b[0m 19ms/step - accuracy: 0.8734 - loss: 0.9855"
          ]
        },
        {
          "name": "stderr",
          "output_type": "stream",
          "text": [
            "WARNING:absl:You are saving your model as an HDF5 file via `model.save()` or `keras.saving.save_model(model)`. This file format is considered legacy. We recommend using instead the native Keras format, e.g. `model.save('my_model.keras')` or `keras.saving.save_model(model, 'my_model.keras')`. \n"
          ]
        },
        {
          "name": "stdout",
          "output_type": "stream",
          "text": [
            "\b\b\b\b\b\b\b\b\b\b\b\b\b\b\b\b\b\b\b\b\b\b\b\b\b\b\b\b\b\b\b\b\b\b\b\b\b\b\b\b\b\b\b\b\b\b\b\b\b\b\b\b\b\b\b\b\b\b\b\b\b\b\b\b\b\b\b\b\b\b\b\b\b\b\b\r\u001b[1m176/176\u001b[0m \u001b[32m━━━━━━━━━━━━━━━━━━━━\u001b[0m\u001b[37m\u001b[0m \u001b[1m4s\u001b[0m 21ms/step - accuracy: 0.8734 - loss: 0.9855 - val_accuracy: 0.8498 - val_loss: 1.0095 - learning_rate: 5.0000e-04\n",
            "Epoch 16/50\n",
            "\u001b[1m176/176\u001b[0m \u001b[32m━━━━━━━━━━━━━━━━━━━━\u001b[0m\u001b[37m\u001b[0m \u001b[1m3s\u001b[0m 19ms/step - accuracy: 0.8809 - loss: 0.9668 - val_accuracy: 0.8496 - val_loss: 1.0284 - learning_rate: 5.0000e-04\n",
            "Epoch 17/50\n",
            "\u001b[1m175/176\u001b[0m \u001b[32m━━━━━━━━━━━━━━━━━━━\u001b[0m\u001b[37m━\u001b[0m \u001b[1m0s\u001b[0m 19ms/step - accuracy: 0.8851 - loss: 0.9566"
          ]
        },
        {
          "name": "stderr",
          "output_type": "stream",
          "text": [
            "WARNING:absl:You are saving your model as an HDF5 file via `model.save()` or `keras.saving.save_model(model)`. This file format is considered legacy. We recommend using instead the native Keras format, e.g. `model.save('my_model.keras')` or `keras.saving.save_model(model, 'my_model.keras')`. \n"
          ]
        },
        {
          "name": "stdout",
          "output_type": "stream",
          "text": [
            "\b\b\b\b\b\b\b\b\b\b\b\b\b\b\b\b\b\b\b\b\b\b\b\b\b\b\b\b\b\b\b\b\b\b\b\b\b\b\b\b\b\b\b\b\b\b\b\b\b\b\b\b\b\b\b\b\b\b\b\b\b\b\b\b\b\b\b\b\b\b\b\b\b\b\b\r\u001b[1m176/176\u001b[0m \u001b[32m━━━━━━━━━━━━━━━━━━━━\u001b[0m\u001b[37m\u001b[0m \u001b[1m5s\u001b[0m 20ms/step - accuracy: 0.8851 - loss: 0.9566 - val_accuracy: 0.8578 - val_loss: 0.9989 - learning_rate: 5.0000e-04\n",
            "Epoch 18/50\n",
            "\u001b[1m176/176\u001b[0m \u001b[32m━━━━━━━━━━━━━━━━━━━━\u001b[0m\u001b[37m\u001b[0m \u001b[1m5s\u001b[0m 20ms/step - accuracy: 0.8907 - loss: 0.9463 - val_accuracy: 0.8564 - val_loss: 0.9934 - learning_rate: 5.0000e-04\n",
            "Epoch 19/50\n",
            "\u001b[1m175/176\u001b[0m \u001b[32m━━━━━━━━━━━━━━━━━━━\u001b[0m\u001b[37m━\u001b[0m \u001b[1m0s\u001b[0m 19ms/step - accuracy: 0.8909 - loss: 0.9349"
          ]
        },
        {
          "name": "stderr",
          "output_type": "stream",
          "text": [
            "WARNING:absl:You are saving your model as an HDF5 file via `model.save()` or `keras.saving.save_model(model)`. This file format is considered legacy. We recommend using instead the native Keras format, e.g. `model.save('my_model.keras')` or `keras.saving.save_model(model, 'my_model.keras')`. \n"
          ]
        },
        {
          "name": "stdout",
          "output_type": "stream",
          "text": [
            "\b\b\b\b\b\b\b\b\b\b\b\b\b\b\b\b\b\b\b\b\b\b\b\b\b\b\b\b\b\b\b\b\b\b\b\b\b\b\b\b\b\b\b\b\b\b\b\b\b\b\b\b\b\b\b\b\b\b\b\b\b\b\b\b\b\b\b\b\b\b\b\b\b\b\b\r\u001b[1m176/176\u001b[0m \u001b[32m━━━━━━━━━━━━━━━━━━━━\u001b[0m\u001b[37m\u001b[0m \u001b[1m5s\u001b[0m 21ms/step - accuracy: 0.8909 - loss: 0.9349 - val_accuracy: 0.8684 - val_loss: 0.9747 - learning_rate: 5.0000e-04\n",
            "Epoch 20/50\n",
            "\u001b[1m176/176\u001b[0m \u001b[32m━━━━━━━━━━━━━━━━━━━━\u001b[0m\u001b[37m\u001b[0m \u001b[1m4s\u001b[0m 20ms/step - accuracy: 0.8949 - loss: 0.9295 - val_accuracy: 0.8612 - val_loss: 0.9771 - learning_rate: 5.0000e-04\n",
            "Epoch 21/50\n",
            "\u001b[1m176/176\u001b[0m \u001b[32m━━━━━━━━━━━━━━━━━━━━\u001b[0m\u001b[37m\u001b[0m \u001b[1m4s\u001b[0m 20ms/step - accuracy: 0.8980 - loss: 0.9204 - val_accuracy: 0.8658 - val_loss: 0.9633 - learning_rate: 5.0000e-04\n",
            "Epoch 22/50\n",
            "\u001b[1m176/176\u001b[0m \u001b[32m━━━━━━━━━━━━━━━━━━━━\u001b[0m\u001b[37m\u001b[0m \u001b[1m4s\u001b[0m 20ms/step - accuracy: 0.9003 - loss: 0.9158 - val_accuracy: 0.8632 - val_loss: 0.9780 - learning_rate: 5.0000e-04\n",
            "Epoch 23/50\n",
            "\u001b[1m175/176\u001b[0m \u001b[32m━━━━━━━━━━━━━━━━━━━\u001b[0m\u001b[37m━\u001b[0m \u001b[1m0s\u001b[0m 19ms/step - accuracy: 0.9086 - loss: 0.9030"
          ]
        },
        {
          "name": "stderr",
          "output_type": "stream",
          "text": [
            "WARNING:absl:You are saving your model as an HDF5 file via `model.save()` or `keras.saving.save_model(model)`. This file format is considered legacy. We recommend using instead the native Keras format, e.g. `model.save('my_model.keras')` or `keras.saving.save_model(model, 'my_model.keras')`. \n"
          ]
        },
        {
          "name": "stdout",
          "output_type": "stream",
          "text": [
            "\b\b\b\b\b\b\b\b\b\b\b\b\b\b\b\b\b\b\b\b\b\b\b\b\b\b\b\b\b\b\b\b\b\b\b\b\b\b\b\b\b\b\b\b\b\b\b\b\b\b\b\b\b\b\b\b\b\b\b\b\b\b\b\b\b\b\b\b\b\b\b\b\b\b\b\r\u001b[1m176/176\u001b[0m \u001b[32m━━━━━━━━━━━━━━━━━━━━\u001b[0m\u001b[37m\u001b[0m \u001b[1m4s\u001b[0m 20ms/step - accuracy: 0.9086 - loss: 0.9030 - val_accuracy: 0.8714 - val_loss: 0.9635 - learning_rate: 5.0000e-04\n",
            "Epoch 24/50\n",
            "\u001b[1m176/176\u001b[0m \u001b[32m━━━━━━━━━━━━━━━━━━━━\u001b[0m\u001b[37m\u001b[0m \u001b[1m4s\u001b[0m 20ms/step - accuracy: 0.9096 - loss: 0.8991 - val_accuracy: 0.8644 - val_loss: 0.9727 - learning_rate: 5.0000e-04\n",
            "Epoch 25/50\n",
            "\u001b[1m176/176\u001b[0m \u001b[32m━━━━━━━━━━━━━━━━━━━━\u001b[0m\u001b[37m\u001b[0m \u001b[1m4s\u001b[0m 21ms/step - accuracy: 0.9109 - loss: 0.8960 - val_accuracy: 0.8618 - val_loss: 0.9804 - learning_rate: 5.0000e-04\n",
            "Epoch 26/50\n",
            "\u001b[1m176/176\u001b[0m \u001b[32m━━━━━━━━━━━━━━━━━━━━\u001b[0m\u001b[37m\u001b[0m \u001b[1m4s\u001b[0m 20ms/step - accuracy: 0.9171 - loss: 0.8874 - val_accuracy: 0.8662 - val_loss: 0.9763 - learning_rate: 5.0000e-04\n",
            "Epoch 27/50\n",
            "\u001b[1m175/176\u001b[0m \u001b[32m━━━━━━━━━━━━━━━━━━━\u001b[0m\u001b[37m━\u001b[0m \u001b[1m0s\u001b[0m 19ms/step - accuracy: 0.9200 - loss: 0.8744"
          ]
        },
        {
          "name": "stderr",
          "output_type": "stream",
          "text": [
            "WARNING:absl:You are saving your model as an HDF5 file via `model.save()` or `keras.saving.save_model(model)`. This file format is considered legacy. We recommend using instead the native Keras format, e.g. `model.save('my_model.keras')` or `keras.saving.save_model(model, 'my_model.keras')`. \n"
          ]
        },
        {
          "name": "stdout",
          "output_type": "stream",
          "text": [
            "\b\b\b\b\b\b\b\b\b\b\b\b\b\b\b\b\b\b\b\b\b\b\b\b\b\b\b\b\b\b\b\b\b\b\b\b\b\b\b\b\b\b\b\b\b\b\b\b\b\b\b\b\b\b\b\b\b\b\b\b\b\b\b\b\b\b\b\b\b\b\b\b\b\b\b\r\u001b[1m176/176\u001b[0m \u001b[32m━━━━━━━━━━━━━━━━━━━━\u001b[0m\u001b[37m\u001b[0m \u001b[1m4s\u001b[0m 21ms/step - accuracy: 0.9201 - loss: 0.8743 - val_accuracy: 0.8760 - val_loss: 0.9456 - learning_rate: 2.5000e-04\n",
            "Epoch 28/50\n",
            "\u001b[1m175/176\u001b[0m \u001b[32m━━━━━━━━━━━━━━━━━━━\u001b[0m\u001b[37m━\u001b[0m \u001b[1m0s\u001b[0m 20ms/step - accuracy: 0.9313 - loss: 0.8526"
          ]
        },
        {
          "name": "stderr",
          "output_type": "stream",
          "text": [
            "WARNING:absl:You are saving your model as an HDF5 file via `model.save()` or `keras.saving.save_model(model)`. This file format is considered legacy. We recommend using instead the native Keras format, e.g. `model.save('my_model.keras')` or `keras.saving.save_model(model, 'my_model.keras')`. \n"
          ]
        },
        {
          "name": "stdout",
          "output_type": "stream",
          "text": [
            "\b\b\b\b\b\b\b\b\b\b\b\b\b\b\b\b\b\b\b\b\b\b\b\b\b\b\b\b\b\b\b\b\b\b\b\b\b\b\b\b\b\b\b\b\b\b\b\b\b\b\b\b\b\b\b\b\b\b\b\b\b\b\b\b\b\b\b\b\b\b\b\b\b\b\b\r\u001b[1m176/176\u001b[0m \u001b[32m━━━━━━━━━━━━━━━━━━━━\u001b[0m\u001b[37m\u001b[0m \u001b[1m5s\u001b[0m 22ms/step - accuracy: 0.9313 - loss: 0.8526 - val_accuracy: 0.8824 - val_loss: 0.9420 - learning_rate: 2.5000e-04\n",
            "Epoch 29/50\n",
            "\u001b[1m176/176\u001b[0m \u001b[32m━━━━━━━━━━━━━━━━━━━━\u001b[0m\u001b[37m\u001b[0m \u001b[1m4s\u001b[0m 20ms/step - accuracy: 0.9331 - loss: 0.8456 - val_accuracy: 0.8780 - val_loss: 0.9438 - learning_rate: 2.5000e-04\n",
            "Epoch 30/50\n",
            "\u001b[1m176/176\u001b[0m \u001b[32m━━━━━━━━━━━━━━━━━━━━\u001b[0m\u001b[37m\u001b[0m \u001b[1m4s\u001b[0m 20ms/step - accuracy: 0.9366 - loss: 0.8374 - val_accuracy: 0.8782 - val_loss: 0.9386 - learning_rate: 2.5000e-04\n",
            "Epoch 31/50\n",
            "\u001b[1m176/176\u001b[0m \u001b[32m━━━━━━━━━━━━━━━━━━━━\u001b[0m\u001b[37m\u001b[0m \u001b[1m4s\u001b[0m 20ms/step - accuracy: 0.9412 - loss: 0.8275 - val_accuracy: 0.8800 - val_loss: 0.9323 - learning_rate: 2.5000e-04\n",
            "Epoch 32/50\n",
            "\u001b[1m176/176\u001b[0m \u001b[32m━━━━━━━━━━━━━━━━━━━━\u001b[0m\u001b[37m\u001b[0m \u001b[1m5s\u001b[0m 20ms/step - accuracy: 0.9405 - loss: 0.8232 - val_accuracy: 0.8808 - val_loss: 0.9280 - learning_rate: 2.5000e-04\n",
            "Epoch 33/50\n",
            "\u001b[1m175/176\u001b[0m \u001b[32m━━━━━━━━━━━━━━━━━━━\u001b[0m\u001b[37m━\u001b[0m \u001b[1m0s\u001b[0m 20ms/step - accuracy: 0.9415 - loss: 0.8197"
          ]
        },
        {
          "name": "stderr",
          "output_type": "stream",
          "text": [
            "WARNING:absl:You are saving your model as an HDF5 file via `model.save()` or `keras.saving.save_model(model)`. This file format is considered legacy. We recommend using instead the native Keras format, e.g. `model.save('my_model.keras')` or `keras.saving.save_model(model, 'my_model.keras')`. \n"
          ]
        },
        {
          "name": "stdout",
          "output_type": "stream",
          "text": [
            "\b\b\b\b\b\b\b\b\b\b\b\b\b\b\b\b\b\b\b\b\b\b\b\b\b\b\b\b\b\b\b\b\b\b\b\b\b\b\b\b\b\b\b\b\b\b\b\b\b\b\b\b\b\b\b\b\b\b\b\b\b\b\b\b\b\b\b\b\b\b\b\b\b\b\b\r\u001b[1m176/176\u001b[0m \u001b[32m━━━━━━━━━━━━━━━━━━━━\u001b[0m\u001b[37m\u001b[0m \u001b[1m4s\u001b[0m 21ms/step - accuracy: 0.9415 - loss: 0.8197 - val_accuracy: 0.8828 - val_loss: 0.9190 - learning_rate: 2.5000e-04\n",
            "Epoch 34/50\n",
            "\u001b[1m176/176\u001b[0m \u001b[32m━━━━━━━━━━━━━━━━━━━━\u001b[0m\u001b[37m\u001b[0m \u001b[1m4s\u001b[0m 21ms/step - accuracy: 0.9430 - loss: 0.8133 - val_accuracy: 0.8816 - val_loss: 0.9325 - learning_rate: 2.5000e-04\n",
            "Epoch 35/50\n",
            "\u001b[1m175/176\u001b[0m \u001b[32m━━━━━━━━━━━━━━━━━━━\u001b[0m\u001b[37m━\u001b[0m \u001b[1m0s\u001b[0m 19ms/step - accuracy: 0.9465 - loss: 0.8071"
          ]
        },
        {
          "name": "stderr",
          "output_type": "stream",
          "text": [
            "WARNING:absl:You are saving your model as an HDF5 file via `model.save()` or `keras.saving.save_model(model)`. This file format is considered legacy. We recommend using instead the native Keras format, e.g. `model.save('my_model.keras')` or `keras.saving.save_model(model, 'my_model.keras')`. \n"
          ]
        },
        {
          "name": "stdout",
          "output_type": "stream",
          "text": [
            "\b\b\b\b\b\b\b\b\b\b\b\b\b\b\b\b\b\b\b\b\b\b\b\b\b\b\b\b\b\b\b\b\b\b\b\b\b\b\b\b\b\b\b\b\b\b\b\b\b\b\b\b\b\b\b\b\b\b\b\b\b\b\b\b\b\b\b\b\b\b\b\b\b\b\b\r\u001b[1m176/176\u001b[0m \u001b[32m━━━━━━━━━━━━━━━━━━━━\u001b[0m\u001b[37m\u001b[0m \u001b[1m4s\u001b[0m 21ms/step - accuracy: 0.9465 - loss: 0.8071 - val_accuracy: 0.8858 - val_loss: 0.9176 - learning_rate: 2.5000e-04\n",
            "Epoch 36/50\n",
            "\u001b[1m176/176\u001b[0m \u001b[32m━━━━━━━━━━━━━━━━━━━━\u001b[0m\u001b[37m\u001b[0m \u001b[1m4s\u001b[0m 20ms/step - accuracy: 0.9471 - loss: 0.8034 - val_accuracy: 0.8748 - val_loss: 0.9457 - learning_rate: 2.5000e-04\n",
            "Epoch 37/50\n",
            "\u001b[1m176/176\u001b[0m \u001b[32m━━━━━━━━━━━━━━━━━━━━\u001b[0m\u001b[37m\u001b[0m \u001b[1m4s\u001b[0m 21ms/step - accuracy: 0.9511 - loss: 0.7962 - val_accuracy: 0.8808 - val_loss: 0.9164 - learning_rate: 2.5000e-04\n",
            "Epoch 38/50\n",
            "\u001b[1m176/176\u001b[0m \u001b[32m━━━━━━━━━━━━━━━━━━━━\u001b[0m\u001b[37m\u001b[0m \u001b[1m4s\u001b[0m 21ms/step - accuracy: 0.9515 - loss: 0.7941 - val_accuracy: 0.8858 - val_loss: 0.9153 - learning_rate: 2.5000e-04\n",
            "Epoch 39/50\n",
            "\u001b[1m176/176\u001b[0m \u001b[32m━━━━━━━━━━━━━━━━━━━━\u001b[0m\u001b[37m\u001b[0m \u001b[1m4s\u001b[0m 20ms/step - accuracy: 0.9483 - loss: 0.7947 - val_accuracy: 0.8822 - val_loss: 0.9187 - learning_rate: 2.5000e-04\n",
            "Epoch 40/50\n",
            "\u001b[1m176/176\u001b[0m \u001b[32m━━━━━━━━━━━━━━━━━━━━\u001b[0m\u001b[37m\u001b[0m \u001b[1m5s\u001b[0m 20ms/step - accuracy: 0.9531 - loss: 0.7857 - val_accuracy: 0.8844 - val_loss: 0.9217 - learning_rate: 2.5000e-04\n",
            "Epoch 41/50\n",
            "\u001b[1m175/176\u001b[0m \u001b[32m━━━━━━━━━━━━━━━━━━━\u001b[0m\u001b[37m━\u001b[0m \u001b[1m0s\u001b[0m 20ms/step - accuracy: 0.9514 - loss: 0.7870"
          ]
        },
        {
          "name": "stderr",
          "output_type": "stream",
          "text": [
            "WARNING:absl:You are saving your model as an HDF5 file via `model.save()` or `keras.saving.save_model(model)`. This file format is considered legacy. We recommend using instead the native Keras format, e.g. `model.save('my_model.keras')` or `keras.saving.save_model(model, 'my_model.keras')`. \n"
          ]
        },
        {
          "name": "stdout",
          "output_type": "stream",
          "text": [
            "\b\b\b\b\b\b\b\b\b\b\b\b\b\b\b\b\b\b\b\b\b\b\b\b\b\b\b\b\b\b\b\b\b\b\b\b\b\b\b\b\b\b\b\b\b\b\b\b\b\b\b\b\b\b\b\b\b\b\b\b\b\b\b\b\b\b\b\b\b\b\b\b\b\b\b\r\u001b[1m176/176\u001b[0m \u001b[32m━━━━━━━━━━━━━━━━━━━━\u001b[0m\u001b[37m\u001b[0m \u001b[1m4s\u001b[0m 21ms/step - accuracy: 0.9514 - loss: 0.7870 - val_accuracy: 0.8870 - val_loss: 0.9053 - learning_rate: 2.5000e-04\n",
            "Epoch 42/50\n",
            "\u001b[1m175/176\u001b[0m \u001b[32m━━━━━━━━━━━━━━━━━━━\u001b[0m\u001b[37m━\u001b[0m \u001b[1m0s\u001b[0m 19ms/step - accuracy: 0.9557 - loss: 0.7778"
          ]
        },
        {
          "name": "stderr",
          "output_type": "stream",
          "text": [
            "WARNING:absl:You are saving your model as an HDF5 file via `model.save()` or `keras.saving.save_model(model)`. This file format is considered legacy. We recommend using instead the native Keras format, e.g. `model.save('my_model.keras')` or `keras.saving.save_model(model, 'my_model.keras')`. \n"
          ]
        },
        {
          "name": "stdout",
          "output_type": "stream",
          "text": [
            "\b\b\b\b\b\b\b\b\b\b\b\b\b\b\b\b\b\b\b\b\b\b\b\b\b\b\b\b\b\b\b\b\b\b\b\b\b\b\b\b\b\b\b\b\b\b\b\b\b\b\b\b\b\b\b\b\b\b\b\b\b\b\b\b\b\b\b\b\b\b\b\b\b\b\b\r\u001b[1m176/176\u001b[0m \u001b[32m━━━━━━━━━━━━━━━━━━━━\u001b[0m\u001b[37m\u001b[0m \u001b[1m4s\u001b[0m 21ms/step - accuracy: 0.9557 - loss: 0.7779 - val_accuracy: 0.8894 - val_loss: 0.9028 - learning_rate: 2.5000e-04\n",
            "Epoch 43/50\n",
            "\u001b[1m176/176\u001b[0m \u001b[32m━━━━━━━━━━━━━━━━━━━━\u001b[0m\u001b[37m\u001b[0m \u001b[1m5s\u001b[0m 21ms/step - accuracy: 0.9553 - loss: 0.7781 - val_accuracy: 0.8834 - val_loss: 0.9173 - learning_rate: 2.5000e-04\n",
            "Epoch 44/50\n",
            "\u001b[1m176/176\u001b[0m \u001b[32m━━━━━━━━━━━━━━━━━━━━\u001b[0m\u001b[37m\u001b[0m \u001b[1m5s\u001b[0m 20ms/step - accuracy: 0.9552 - loss: 0.7765 - val_accuracy: 0.8858 - val_loss: 0.9174 - learning_rate: 2.5000e-04\n",
            "Epoch 45/50\n",
            "\u001b[1m175/176\u001b[0m \u001b[32m━━━━━━━━━━━━━━━━━━━\u001b[0m\u001b[37m━\u001b[0m \u001b[1m0s\u001b[0m 19ms/step - accuracy: 0.9566 - loss: 0.7720"
          ]
        },
        {
          "name": "stderr",
          "output_type": "stream",
          "text": [
            "WARNING:absl:You are saving your model as an HDF5 file via `model.save()` or `keras.saving.save_model(model)`. This file format is considered legacy. We recommend using instead the native Keras format, e.g. `model.save('my_model.keras')` or `keras.saving.save_model(model, 'my_model.keras')`. \n"
          ]
        },
        {
          "name": "stdout",
          "output_type": "stream",
          "text": [
            "\b\b\b\b\b\b\b\b\b\b\b\b\b\b\b\b\b\b\b\b\b\b\b\b\b\b\b\b\b\b\b\b\b\b\b\b\b\b\b\b\b\b\b\b\b\b\b\b\b\b\b\b\b\b\b\b\b\b\b\b\b\b\b\b\b\b\b\b\b\b\b\b\b\b\b\r\u001b[1m176/176\u001b[0m \u001b[32m━━━━━━━━━━━━━━━━━━━━\u001b[0m\u001b[37m\u001b[0m \u001b[1m5s\u001b[0m 21ms/step - accuracy: 0.9566 - loss: 0.7720 - val_accuracy: 0.8898 - val_loss: 0.8985 - learning_rate: 2.5000e-04\n",
            "Epoch 46/50\n",
            "\u001b[1m176/176\u001b[0m \u001b[32m━━━━━━━━━━━━━━━━━━━━\u001b[0m\u001b[37m\u001b[0m \u001b[1m4s\u001b[0m 20ms/step - accuracy: 0.9546 - loss: 0.7750 - val_accuracy: 0.8772 - val_loss: 0.9266 - learning_rate: 2.5000e-04\n",
            "Epoch 47/50\n",
            "\u001b[1m176/176\u001b[0m \u001b[32m━━━━━━━━━━━━━━━━━━━━\u001b[0m\u001b[37m\u001b[0m \u001b[1m3s\u001b[0m 20ms/step - accuracy: 0.9571 - loss: 0.7695 - val_accuracy: 0.8826 - val_loss: 0.9066 - learning_rate: 2.5000e-04\n",
            "Epoch 48/50\n",
            "\u001b[1m176/176\u001b[0m \u001b[32m━━━━━━━━━━━━━━━━━━━━\u001b[0m\u001b[37m\u001b[0m \u001b[1m4s\u001b[0m 20ms/step - accuracy: 0.9581 - loss: 0.7673 - val_accuracy: 0.8888 - val_loss: 0.9069 - learning_rate: 2.5000e-04\n",
            "Epoch 49/50\n",
            "\u001b[1m176/176\u001b[0m \u001b[32m━━━━━━━━━━━━━━━━━━━━\u001b[0m\u001b[37m\u001b[0m \u001b[1m4s\u001b[0m 21ms/step - accuracy: 0.9612 - loss: 0.7609 - val_accuracy: 0.8896 - val_loss: 0.8961 - learning_rate: 2.5000e-04\n",
            "Epoch 50/50\n",
            "\u001b[1m175/176\u001b[0m \u001b[32m━━━━━━━━━━━━━━━━━━━\u001b[0m\u001b[37m━\u001b[0m \u001b[1m0s\u001b[0m 19ms/step - accuracy: 0.9591 - loss: 0.7620"
          ]
        },
        {
          "name": "stderr",
          "output_type": "stream",
          "text": [
            "WARNING:absl:You are saving your model as an HDF5 file via `model.save()` or `keras.saving.save_model(model)`. This file format is considered legacy. We recommend using instead the native Keras format, e.g. `model.save('my_model.keras')` or `keras.saving.save_model(model, 'my_model.keras')`. \n"
          ]
        },
        {
          "name": "stdout",
          "output_type": "stream",
          "text": [
            "\u001b[1m176/176\u001b[0m \u001b[32m━━━━━━━━━━━━━━━━━━━━\u001b[0m\u001b[37m\u001b[0m \u001b[1m5s\u001b[0m 21ms/step - accuracy: 0.9591 - loss: 0.7620 - val_accuracy: 0.8958 - val_loss: 0.8916 - learning_rate: 2.5000e-04\n",
            "\u001b[1m1/1\u001b[0m \u001b[32m━━━━━━━━━━━━━━━━━━━━\u001b[0m\u001b[37m\u001b[0m \u001b[1m1s\u001b[0m 1s/step\n",
            "\n",
            "Results for Adam:\n",
            "Train Accuracy: 0.9612\n",
            "Test Accuracy: 0.8794\n",
            "Test Loss: 0.9192\n",
            "Precision: 0.8802\n",
            "Recall: 0.8794\n",
            "F1 Score: 0.8784\n",
            "\n",
            "Training with RMSprop optimizer...\n",
            "Epoch 1/50\n"
          ]
        },
        {
          "name": "stderr",
          "output_type": "stream",
          "text": [
            "/usr/local/lib/python3.11/dist-packages/keras/src/layers/convolutional/base_conv.py:107: UserWarning: Do not pass an `input_shape`/`input_dim` argument to a layer. When using Sequential models, prefer using an `Input(shape)` object as the first layer in the model instead.\n",
            "  super().__init__(activity_regularizer=activity_regularizer, **kwargs)\n"
          ]
        },
        {
          "name": "stdout",
          "output_type": "stream",
          "text": [
            "\u001b[1m176/176\u001b[0m \u001b[32m━━━━━━━━━━━━━━━━━━━━\u001b[0m\u001b[37m\u001b[0m \u001b[1m0s\u001b[0m 58ms/step - accuracy: 0.3286 - loss: 2.5424"
          ]
        },
        {
          "name": "stderr",
          "output_type": "stream",
          "text": [
            "WARNING:absl:You are saving your model as an HDF5 file via `model.save()` or `keras.saving.save_model(model)`. This file format is considered legacy. We recommend using instead the native Keras format, e.g. `model.save('my_model.keras')` or `keras.saving.save_model(model, 'my_model.keras')`. \n"
          ]
        },
        {
          "name": "stdout",
          "output_type": "stream",
          "text": [
            "\b\b\b\b\b\b\b\b\b\b\b\b\b\b\b\b\b\b\b\b\b\b\b\b\b\b\b\b\b\b\b\b\b\b\b\b\b\b\b\b\b\b\b\b\b\b\b\b\b\b\b\b\b\b\b\b\b\b\b\b\b\b\b\b\b\b\b\b\b\b\b\b\b\b\b\r\u001b[1m176/176\u001b[0m \u001b[32m━━━━━━━━━━━━━━━━━━━━\u001b[0m\u001b[37m\u001b[0m \u001b[1m22s\u001b[0m 69ms/step - accuracy: 0.3291 - loss: 2.5402 - val_accuracy: 0.1604 - val_loss: 3.0287 - learning_rate: 0.0010\n",
            "Epoch 2/50\n",
            "\u001b[1m176/176\u001b[0m \u001b[32m━━━━━━━━━━━━━━━━━━━━\u001b[0m\u001b[37m\u001b[0m \u001b[1m0s\u001b[0m 20ms/step - accuracy: 0.5781 - loss: 1.6704"
          ]
        },
        {
          "name": "stderr",
          "output_type": "stream",
          "text": [
            "WARNING:absl:You are saving your model as an HDF5 file via `model.save()` or `keras.saving.save_model(model)`. This file format is considered legacy. We recommend using instead the native Keras format, e.g. `model.save('my_model.keras')` or `keras.saving.save_model(model, 'my_model.keras')`. \n"
          ]
        },
        {
          "name": "stdout",
          "output_type": "stream",
          "text": [
            "\b\b\b\b\b\b\b\b\b\b\b\b\b\b\b\b\b\b\b\b\b\b\b\b\b\b\b\b\b\b\b\b\b\b\b\b\b\b\b\b\b\b\b\b\b\b\b\b\b\b\b\b\b\b\b\b\b\b\b\b\b\b\b\b\b\b\b\b\b\b\b\b\b\b\b\r\u001b[1m176/176\u001b[0m \u001b[32m━━━━━━━━━━━━━━━━━━━━\u001b[0m\u001b[37m\u001b[0m \u001b[1m5s\u001b[0m 21ms/step - accuracy: 0.5783 - loss: 1.6700 - val_accuracy: 0.2354 - val_loss: 2.4732 - learning_rate: 0.0010\n",
            "Epoch 3/50\n",
            "\u001b[1m175/176\u001b[0m \u001b[32m━━━━━━━━━━━━━━━━━━━\u001b[0m\u001b[37m━\u001b[0m \u001b[1m0s\u001b[0m 19ms/step - accuracy: 0.6717 - loss: 1.4680"
          ]
        },
        {
          "name": "stderr",
          "output_type": "stream",
          "text": [
            "WARNING:absl:You are saving your model as an HDF5 file via `model.save()` or `keras.saving.save_model(model)`. This file format is considered legacy. We recommend using instead the native Keras format, e.g. `model.save('my_model.keras')` or `keras.saving.save_model(model, 'my_model.keras')`. \n"
          ]
        },
        {
          "name": "stdout",
          "output_type": "stream",
          "text": [
            "\b\b\b\b\b\b\b\b\b\b\b\b\b\b\b\b\b\b\b\b\b\b\b\b\b\b\b\b\b\b\b\b\b\b\b\b\b\b\b\b\b\b\b\b\b\b\b\b\b\b\b\b\b\b\b\b\b\b\b\b\b\b\b\b\b\b\b\b\b\b\b\b\b\b\b\r\u001b[1m176/176\u001b[0m \u001b[32m━━━━━━━━━━━━━━━━━━━━\u001b[0m\u001b[37m\u001b[0m \u001b[1m4s\u001b[0m 21ms/step - accuracy: 0.6719 - loss: 1.4675 - val_accuracy: 0.4326 - val_loss: 1.8703 - learning_rate: 0.0010\n",
            "Epoch 4/50\n",
            "\u001b[1m175/176\u001b[0m \u001b[32m━━━━━━━━━━━━━━━━━━━\u001b[0m\u001b[37m━\u001b[0m \u001b[1m0s\u001b[0m 20ms/step - accuracy: 0.7234 - loss: 1.3374"
          ]
        },
        {
          "name": "stderr",
          "output_type": "stream",
          "text": [
            "WARNING:absl:You are saving your model as an HDF5 file via `model.save()` or `keras.saving.save_model(model)`. This file format is considered legacy. We recommend using instead the native Keras format, e.g. `model.save('my_model.keras')` or `keras.saving.save_model(model, 'my_model.keras')`. \n"
          ]
        },
        {
          "name": "stdout",
          "output_type": "stream",
          "text": [
            "\b\b\b\b\b\b\b\b\b\b\b\b\b\b\b\b\b\b\b\b\b\b\b\b\b\b\b\b\b\b\b\b\b\b\b\b\b\b\b\b\b\b\b\b\b\b\b\b\b\b\b\b\b\b\b\b\b\b\b\b\b\b\b\b\b\b\b\b\b\b\b\b\b\b\b\r\u001b[1m176/176\u001b[0m \u001b[32m━━━━━━━━━━━━━━━━━━━━\u001b[0m\u001b[37m\u001b[0m \u001b[1m4s\u001b[0m 21ms/step - accuracy: 0.7235 - loss: 1.3371 - val_accuracy: 0.7134 - val_loss: 1.3296 - learning_rate: 0.0010\n",
            "Epoch 5/50\n",
            "\u001b[1m175/176\u001b[0m \u001b[32m━━━━━━━━━━━━━━━━━━━\u001b[0m\u001b[37m━\u001b[0m \u001b[1m0s\u001b[0m 20ms/step - accuracy: 0.7573 - loss: 1.2475"
          ]
        },
        {
          "name": "stderr",
          "output_type": "stream",
          "text": [
            "WARNING:absl:You are saving your model as an HDF5 file via `model.save()` or `keras.saving.save_model(model)`. This file format is considered legacy. We recommend using instead the native Keras format, e.g. `model.save('my_model.keras')` or `keras.saving.save_model(model, 'my_model.keras')`. \n"
          ]
        },
        {
          "name": "stdout",
          "output_type": "stream",
          "text": [
            "\b\b\b\b\b\b\b\b\b\b\b\b\b\b\b\b\b\b\b\b\b\b\b\b\b\b\b\b\b\b\b\b\b\b\b\b\b\b\b\b\b\b\b\b\b\b\b\b\b\b\b\b\b\b\b\b\b\b\b\b\b\b\b\b\b\b\b\b\b\b\b\b\b\b\b\r\u001b[1m176/176\u001b[0m \u001b[32m━━━━━━━━━━━━━━━━━━━━\u001b[0m\u001b[37m\u001b[0m \u001b[1m4s\u001b[0m 21ms/step - accuracy: 0.7574 - loss: 1.2474 - val_accuracy: 0.7206 - val_loss: 1.3363 - learning_rate: 0.0010\n",
            "Epoch 6/50\n",
            "\u001b[1m175/176\u001b[0m \u001b[32m━━━━━━━━━━━━━━━━━━━\u001b[0m\u001b[37m━\u001b[0m \u001b[1m0s\u001b[0m 20ms/step - accuracy: 0.7784 - loss: 1.1969"
          ]
        },
        {
          "name": "stderr",
          "output_type": "stream",
          "text": [
            "WARNING:absl:You are saving your model as an HDF5 file via `model.save()` or `keras.saving.save_model(model)`. This file format is considered legacy. We recommend using instead the native Keras format, e.g. `model.save('my_model.keras')` or `keras.saving.save_model(model, 'my_model.keras')`. \n"
          ]
        },
        {
          "name": "stdout",
          "output_type": "stream",
          "text": [
            "\b\b\b\b\b\b\b\b\b\b\b\b\b\b\b\b\b\b\b\b\b\b\b\b\b\b\b\b\b\b\b\b\b\b\b\b\b\b\b\b\b\b\b\b\b\b\b\b\b\b\b\b\b\b\b\b\b\b\b\b\b\b\b\b\b\b\b\b\b\b\b\b\b\b\b\r\u001b[1m176/176\u001b[0m \u001b[32m━━━━━━━━━━━━━━━━━━━━\u001b[0m\u001b[37m\u001b[0m \u001b[1m4s\u001b[0m 21ms/step - accuracy: 0.7784 - loss: 1.1968 - val_accuracy: 0.7668 - val_loss: 1.2084 - learning_rate: 0.0010\n",
            "Epoch 7/50\n",
            "\u001b[1m175/176\u001b[0m \u001b[32m━━━━━━━━━━━━━━━━━━━\u001b[0m\u001b[37m━\u001b[0m \u001b[1m0s\u001b[0m 20ms/step - accuracy: 0.8001 - loss: 1.1465"
          ]
        },
        {
          "name": "stderr",
          "output_type": "stream",
          "text": [
            "WARNING:absl:You are saving your model as an HDF5 file via `model.save()` or `keras.saving.save_model(model)`. This file format is considered legacy. We recommend using instead the native Keras format, e.g. `model.save('my_model.keras')` or `keras.saving.save_model(model, 'my_model.keras')`. \n"
          ]
        },
        {
          "name": "stdout",
          "output_type": "stream",
          "text": [
            "\b\b\b\b\b\b\b\b\b\b\b\b\b\b\b\b\b\b\b\b\b\b\b\b\b\b\b\b\b\b\b\b\b\b\b\b\b\b\b\b\b\b\b\b\b\b\b\b\b\b\b\b\b\b\b\b\b\b\b\b\b\b\b\b\b\b\b\b\b\b\b\b\b\b\b\r\u001b[1m176/176\u001b[0m \u001b[32m━━━━━━━━━━━━━━━━━━━━\u001b[0m\u001b[37m\u001b[0m \u001b[1m4s\u001b[0m 22ms/step - accuracy: 0.8001 - loss: 1.1465 - val_accuracy: 0.8032 - val_loss: 1.1303 - learning_rate: 0.0010\n",
            "Epoch 8/50\n",
            "\u001b[1m176/176\u001b[0m \u001b[32m━━━━━━━━━━━━━━━━━━━━\u001b[0m\u001b[37m\u001b[0m \u001b[1m5s\u001b[0m 20ms/step - accuracy: 0.8158 - loss: 1.1150 - val_accuracy: 0.7928 - val_loss: 1.1679 - learning_rate: 0.0010\n",
            "Epoch 9/50\n",
            "\u001b[1m175/176\u001b[0m \u001b[32m━━━━━━━━━━━━━━━━━━━\u001b[0m\u001b[37m━\u001b[0m \u001b[1m0s\u001b[0m 19ms/step - accuracy: 0.8313 - loss: 1.0850"
          ]
        },
        {
          "name": "stderr",
          "output_type": "stream",
          "text": [
            "WARNING:absl:You are saving your model as an HDF5 file via `model.save()` or `keras.saving.save_model(model)`. This file format is considered legacy. We recommend using instead the native Keras format, e.g. `model.save('my_model.keras')` or `keras.saving.save_model(model, 'my_model.keras')`. \n"
          ]
        },
        {
          "name": "stdout",
          "output_type": "stream",
          "text": [
            "\b\b\b\b\b\b\b\b\b\b\b\b\b\b\b\b\b\b\b\b\b\b\b\b\b\b\b\b\b\b\b\b\b\b\b\b\b\b\b\b\b\b\b\b\b\b\b\b\b\b\b\b\b\b\b\b\b\b\b\b\b\b\b\b\b\b\b\b\b\b\b\b\b\b\b\r\u001b[1m176/176\u001b[0m \u001b[32m━━━━━━━━━━━━━━━━━━━━\u001b[0m\u001b[37m\u001b[0m \u001b[1m4s\u001b[0m 21ms/step - accuracy: 0.8313 - loss: 1.0850 - val_accuracy: 0.8268 - val_loss: 1.0862 - learning_rate: 0.0010\n",
            "Epoch 10/50\n",
            "\u001b[1m175/176\u001b[0m \u001b[32m━━━━━━━━━━━━━━━━━━━\u001b[0m\u001b[37m━\u001b[0m \u001b[1m0s\u001b[0m 20ms/step - accuracy: 0.8408 - loss: 1.0641"
          ]
        },
        {
          "name": "stderr",
          "output_type": "stream",
          "text": [
            "WARNING:absl:You are saving your model as an HDF5 file via `model.save()` or `keras.saving.save_model(model)`. This file format is considered legacy. We recommend using instead the native Keras format, e.g. `model.save('my_model.keras')` or `keras.saving.save_model(model, 'my_model.keras')`. \n"
          ]
        },
        {
          "name": "stdout",
          "output_type": "stream",
          "text": [
            "\b\b\b\b\b\b\b\b\b\b\b\b\b\b\b\b\b\b\b\b\b\b\b\b\b\b\b\b\b\b\b\b\b\b\b\b\b\b\b\b\b\b\b\b\b\b\b\b\b\b\b\b\b\b\b\b\b\b\b\b\b\b\b\b\b\b\b\b\b\b\b\b\b\b\b\r\u001b[1m176/176\u001b[0m \u001b[32m━━━━━━━━━━━━━━━━━━━━\u001b[0m\u001b[37m\u001b[0m \u001b[1m4s\u001b[0m 21ms/step - accuracy: 0.8408 - loss: 1.0641 - val_accuracy: 0.8348 - val_loss: 1.0625 - learning_rate: 0.0010\n",
            "Epoch 11/50\n",
            "\u001b[1m175/176\u001b[0m \u001b[32m━━━━━━━━━━━━━━━━━━━\u001b[0m\u001b[37m━\u001b[0m \u001b[1m0s\u001b[0m 19ms/step - accuracy: 0.8460 - loss: 1.0497"
          ]
        },
        {
          "name": "stderr",
          "output_type": "stream",
          "text": [
            "WARNING:absl:You are saving your model as an HDF5 file via `model.save()` or `keras.saving.save_model(model)`. This file format is considered legacy. We recommend using instead the native Keras format, e.g. `model.save('my_model.keras')` or `keras.saving.save_model(model, 'my_model.keras')`. \n"
          ]
        },
        {
          "name": "stdout",
          "output_type": "stream",
          "text": [
            "\b\b\b\b\b\b\b\b\b\b\b\b\b\b\b\b\b\b\b\b\b\b\b\b\b\b\b\b\b\b\b\b\b\b\b\b\b\b\b\b\b\b\b\b\b\b\b\b\b\b\b\b\b\b\b\b\b\b\b\b\b\b\b\b\b\b\b\b\b\b\b\b\b\b\b\r\u001b[1m176/176\u001b[0m \u001b[32m━━━━━━━━━━━━━━━━━━━━\u001b[0m\u001b[37m\u001b[0m \u001b[1m5s\u001b[0m 21ms/step - accuracy: 0.8460 - loss: 1.0496 - val_accuracy: 0.8460 - val_loss: 1.0386 - learning_rate: 0.0010\n",
            "Epoch 12/50\n",
            "\u001b[1m176/176\u001b[0m \u001b[32m━━━━━━━━━━━━━━━━━━━━\u001b[0m\u001b[37m\u001b[0m \u001b[1m5s\u001b[0m 20ms/step - accuracy: 0.8576 - loss: 1.0258 - val_accuracy: 0.8148 - val_loss: 1.0988 - learning_rate: 0.0010\n",
            "Epoch 13/50\n",
            "\u001b[1m176/176\u001b[0m \u001b[32m━━━━━━━━━━━━━━━━━━━━\u001b[0m\u001b[37m\u001b[0m \u001b[1m5s\u001b[0m 20ms/step - accuracy: 0.8684 - loss: 1.0059 - val_accuracy: 0.8388 - val_loss: 1.0625 - learning_rate: 0.0010\n",
            "Epoch 14/50\n",
            "\u001b[1m175/176\u001b[0m \u001b[32m━━━━━━━━━━━━━━━━━━━\u001b[0m\u001b[37m━\u001b[0m \u001b[1m0s\u001b[0m 20ms/step - accuracy: 0.8711 - loss: 1.0009"
          ]
        },
        {
          "name": "stderr",
          "output_type": "stream",
          "text": [
            "WARNING:absl:You are saving your model as an HDF5 file via `model.save()` or `keras.saving.save_model(model)`. This file format is considered legacy. We recommend using instead the native Keras format, e.g. `model.save('my_model.keras')` or `keras.saving.save_model(model, 'my_model.keras')`. \n"
          ]
        },
        {
          "name": "stdout",
          "output_type": "stream",
          "text": [
            "\b\b\b\b\b\b\b\b\b\b\b\b\b\b\b\b\b\b\b\b\b\b\b\b\b\b\b\b\b\b\b\b\b\b\b\b\b\b\b\b\b\b\b\b\b\b\b\b\b\b\b\b\b\b\b\b\b\b\b\b\b\b\b\b\b\b\b\b\b\b\b\b\b\b\b\r\u001b[1m176/176\u001b[0m \u001b[32m━━━━━━━━━━━━━━━━━━━━\u001b[0m\u001b[37m\u001b[0m \u001b[1m4s\u001b[0m 21ms/step - accuracy: 0.8711 - loss: 1.0009 - val_accuracy: 0.8480 - val_loss: 1.0388 - learning_rate: 0.0010\n",
            "Epoch 15/50\n",
            "\u001b[1m176/176\u001b[0m \u001b[32m━━━━━━━━━━━━━━━━━━━━\u001b[0m\u001b[37m\u001b[0m \u001b[1m5s\u001b[0m 20ms/step - accuracy: 0.8777 - loss: 0.9858 - val_accuracy: 0.8076 - val_loss: 1.1227 - learning_rate: 0.0010\n",
            "Epoch 16/50\n",
            "\u001b[1m176/176\u001b[0m \u001b[32m━━━━━━━━━━━━━━━━━━━━\u001b[0m\u001b[37m\u001b[0m \u001b[1m5s\u001b[0m 20ms/step - accuracy: 0.8816 - loss: 0.9793 - val_accuracy: 0.8160 - val_loss: 1.0885 - learning_rate: 0.0010\n",
            "Epoch 17/50\n",
            "\u001b[1m175/176\u001b[0m \u001b[32m━━━━━━━━━━━━━━━━━━━\u001b[0m\u001b[37m━\u001b[0m \u001b[1m0s\u001b[0m 19ms/step - accuracy: 0.9006 - loss: 0.9373"
          ]
        },
        {
          "name": "stderr",
          "output_type": "stream",
          "text": [
            "WARNING:absl:You are saving your model as an HDF5 file via `model.save()` or `keras.saving.save_model(model)`. This file format is considered legacy. We recommend using instead the native Keras format, e.g. `model.save('my_model.keras')` or `keras.saving.save_model(model, 'my_model.keras')`. \n"
          ]
        },
        {
          "name": "stdout",
          "output_type": "stream",
          "text": [
            "\b\b\b\b\b\b\b\b\b\b\b\b\b\b\b\b\b\b\b\b\b\b\b\b\b\b\b\b\b\b\b\b\b\b\b\b\b\b\b\b\b\b\b\b\b\b\b\b\b\b\b\b\b\b\b\b\b\b\b\b\b\b\b\b\b\b\b\b\b\b\b\b\b\b\b\r\u001b[1m176/176\u001b[0m \u001b[32m━━━━━━━━━━━━━━━━━━━━\u001b[0m\u001b[37m\u001b[0m \u001b[1m4s\u001b[0m 20ms/step - accuracy: 0.9007 - loss: 0.9372 - val_accuracy: 0.8758 - val_loss: 0.9694 - learning_rate: 5.0000e-04\n",
            "Epoch 18/50\n",
            "\u001b[1m176/176\u001b[0m \u001b[32m━━━━━━━━━━━━━━━━━━━━\u001b[0m\u001b[37m\u001b[0m \u001b[1m5s\u001b[0m 20ms/step - accuracy: 0.9104 - loss: 0.9138 - val_accuracy: 0.8452 - val_loss: 1.0181 - learning_rate: 5.0000e-04\n",
            "Epoch 19/50\n",
            "\u001b[1m175/176\u001b[0m \u001b[32m━━━━━━━━━━━━━━━━━━━\u001b[0m\u001b[37m━\u001b[0m \u001b[1m0s\u001b[0m 19ms/step - accuracy: 0.9135 - loss: 0.9012"
          ]
        },
        {
          "name": "stderr",
          "output_type": "stream",
          "text": [
            "WARNING:absl:You are saving your model as an HDF5 file via `model.save()` or `keras.saving.save_model(model)`. This file format is considered legacy. We recommend using instead the native Keras format, e.g. `model.save('my_model.keras')` or `keras.saving.save_model(model, 'my_model.keras')`. \n"
          ]
        },
        {
          "name": "stdout",
          "output_type": "stream",
          "text": [
            "\b\b\b\b\b\b\b\b\b\b\b\b\b\b\b\b\b\b\b\b\b\b\b\b\b\b\b\b\b\b\b\b\b\b\b\b\b\b\b\b\b\b\b\b\b\b\b\b\b\b\b\b\b\b\b\b\b\b\b\b\b\b\b\b\b\b\b\b\b\b\b\b\b\b\b\r\u001b[1m176/176\u001b[0m \u001b[32m━━━━━━━━━━━━━━━━━━━━\u001b[0m\u001b[37m\u001b[0m \u001b[1m4s\u001b[0m 20ms/step - accuracy: 0.9135 - loss: 0.9012 - val_accuracy: 0.8804 - val_loss: 0.9491 - learning_rate: 5.0000e-04\n",
            "Epoch 20/50\n",
            "\u001b[1m176/176\u001b[0m \u001b[32m━━━━━━━━━━━━━━━━━━━━\u001b[0m\u001b[37m\u001b[0m \u001b[1m4s\u001b[0m 20ms/step - accuracy: 0.9204 - loss: 0.8844 - val_accuracy: 0.8384 - val_loss: 1.0439 - learning_rate: 5.0000e-04\n",
            "Epoch 21/50\n",
            "\u001b[1m176/176\u001b[0m \u001b[32m━━━━━━━━━━━━━━━━━━━━\u001b[0m\u001b[37m\u001b[0m \u001b[1m5s\u001b[0m 20ms/step - accuracy: 0.9240 - loss: 0.8714 - val_accuracy: 0.8796 - val_loss: 0.9426 - learning_rate: 5.0000e-04\n",
            "Epoch 22/50\n",
            "\u001b[1m175/176\u001b[0m \u001b[32m━━━━━━━━━━━━━━━━━━━\u001b[0m\u001b[37m━\u001b[0m \u001b[1m0s\u001b[0m 19ms/step - accuracy: 0.9253 - loss: 0.8673"
          ]
        },
        {
          "name": "stderr",
          "output_type": "stream",
          "text": [
            "WARNING:absl:You are saving your model as an HDF5 file via `model.save()` or `keras.saving.save_model(model)`. This file format is considered legacy. We recommend using instead the native Keras format, e.g. `model.save('my_model.keras')` or `keras.saving.save_model(model, 'my_model.keras')`. \n"
          ]
        },
        {
          "name": "stdout",
          "output_type": "stream",
          "text": [
            "\b\b\b\b\b\b\b\b\b\b\b\b\b\b\b\b\b\b\b\b\b\b\b\b\b\b\b\b\b\b\b\b\b\b\b\b\b\b\b\b\b\b\b\b\b\b\b\b\b\b\b\b\b\b\b\b\b\b\b\b\b\b\b\b\b\b\b\b\b\b\b\b\b\b\b\r\u001b[1m176/176\u001b[0m \u001b[32m━━━━━━━━━━━━━━━━━━━━\u001b[0m\u001b[37m\u001b[0m \u001b[1m5s\u001b[0m 21ms/step - accuracy: 0.9253 - loss: 0.8673 - val_accuracy: 0.8828 - val_loss: 0.9320 - learning_rate: 5.0000e-04\n",
            "Epoch 23/50\n",
            "\u001b[1m176/176\u001b[0m \u001b[32m━━━━━━━━━━━━━━━━━━━━\u001b[0m\u001b[37m\u001b[0m \u001b[1m5s\u001b[0m 20ms/step - accuracy: 0.9281 - loss: 0.8593 - val_accuracy: 0.8708 - val_loss: 0.9557 - learning_rate: 5.0000e-04\n",
            "Epoch 24/50\n",
            "\u001b[1m176/176\u001b[0m \u001b[32m━━━━━━━━━━━━━━━━━━━━\u001b[0m\u001b[37m\u001b[0m \u001b[1m4s\u001b[0m 20ms/step - accuracy: 0.9279 - loss: 0.8527 - val_accuracy: 0.8794 - val_loss: 0.9283 - learning_rate: 5.0000e-04\n",
            "Epoch 25/50\n",
            "\u001b[1m176/176\u001b[0m \u001b[32m━━━━━━━━━━━━━━━━━━━━\u001b[0m\u001b[37m\u001b[0m \u001b[1m5s\u001b[0m 20ms/step - accuracy: 0.9327 - loss: 0.8442 - val_accuracy: 0.8794 - val_loss: 0.9334 - learning_rate: 5.0000e-04\n",
            "Epoch 26/50\n",
            "\u001b[1m176/176\u001b[0m \u001b[32m━━━━━━━━━━━━━━━━━━━━\u001b[0m\u001b[37m\u001b[0m \u001b[1m4s\u001b[0m 20ms/step - accuracy: 0.9331 - loss: 0.8397 - val_accuracy: 0.8774 - val_loss: 0.9335 - learning_rate: 5.0000e-04\n",
            "Epoch 27/50\n",
            "\u001b[1m175/176\u001b[0m \u001b[32m━━━━━━━━━━━━━━━━━━━\u001b[0m\u001b[37m━\u001b[0m \u001b[1m0s\u001b[0m 20ms/step - accuracy: 0.9352 - loss: 0.8327"
          ]
        },
        {
          "name": "stderr",
          "output_type": "stream",
          "text": [
            "WARNING:absl:You are saving your model as an HDF5 file via `model.save()` or `keras.saving.save_model(model)`. This file format is considered legacy. We recommend using instead the native Keras format, e.g. `model.save('my_model.keras')` or `keras.saving.save_model(model, 'my_model.keras')`. \n"
          ]
        },
        {
          "name": "stdout",
          "output_type": "stream",
          "text": [
            "\b\b\b\b\b\b\b\b\b\b\b\b\b\b\b\b\b\b\b\b\b\b\b\b\b\b\b\b\b\b\b\b\b\b\b\b\b\b\b\b\b\b\b\b\b\b\b\b\b\b\b\b\b\b\b\b\b\b\b\b\b\b\b\b\b\b\b\b\b\b\b\b\b\b\b\r\u001b[1m176/176\u001b[0m \u001b[32m━━━━━━━━━━━━━━━━━━━━\u001b[0m\u001b[37m\u001b[0m \u001b[1m4s\u001b[0m 21ms/step - accuracy: 0.9352 - loss: 0.8327 - val_accuracy: 0.8832 - val_loss: 0.9271 - learning_rate: 5.0000e-04\n",
            "Epoch 28/50\n",
            "\u001b[1m175/176\u001b[0m \u001b[32m━━━━━━━━━━━━━━━━━━━\u001b[0m\u001b[37m━\u001b[0m \u001b[1m0s\u001b[0m 20ms/step - accuracy: 0.9353 - loss: 0.8281"
          ]
        },
        {
          "name": "stderr",
          "output_type": "stream",
          "text": [
            "WARNING:absl:You are saving your model as an HDF5 file via `model.save()` or `keras.saving.save_model(model)`. This file format is considered legacy. We recommend using instead the native Keras format, e.g. `model.save('my_model.keras')` or `keras.saving.save_model(model, 'my_model.keras')`. \n"
          ]
        },
        {
          "name": "stdout",
          "output_type": "stream",
          "text": [
            "\b\b\b\b\b\b\b\b\b\b\b\b\b\b\b\b\b\b\b\b\b\b\b\b\b\b\b\b\b\b\b\b\b\b\b\b\b\b\b\b\b\b\b\b\b\b\b\b\b\b\b\b\b\b\b\b\b\b\b\b\b\b\b\b\b\b\b\b\b\b\b\b\b\b\b\r\u001b[1m176/176\u001b[0m \u001b[32m━━━━━━━━━━━━━━━━━━━━\u001b[0m\u001b[37m\u001b[0m \u001b[1m4s\u001b[0m 21ms/step - accuracy: 0.9353 - loss: 0.8281 - val_accuracy: 0.8848 - val_loss: 0.9099 - learning_rate: 5.0000e-04\n",
            "Epoch 29/50\n",
            "\u001b[1m176/176\u001b[0m \u001b[32m━━━━━━━━━━━━━━━━━━━━\u001b[0m\u001b[37m\u001b[0m \u001b[1m5s\u001b[0m 20ms/step - accuracy: 0.9408 - loss: 0.8221 - val_accuracy: 0.8712 - val_loss: 0.9317 - learning_rate: 5.0000e-04\n",
            "Epoch 30/50\n",
            "\u001b[1m176/176\u001b[0m \u001b[32m━━━━━━━━━━━━━━━━━━━━\u001b[0m\u001b[37m\u001b[0m \u001b[1m5s\u001b[0m 20ms/step - accuracy: 0.9385 - loss: 0.8191 - val_accuracy: 0.8722 - val_loss: 0.9319 - learning_rate: 5.0000e-04\n",
            "Epoch 31/50\n",
            "\u001b[1m176/176\u001b[0m \u001b[32m━━━━━━━━━━━━━━━━━━━━\u001b[0m\u001b[37m\u001b[0m \u001b[1m4s\u001b[0m 21ms/step - accuracy: 0.9417 - loss: 0.8127 - val_accuracy: 0.8436 - val_loss: 1.0060 - learning_rate: 5.0000e-04\n",
            "Epoch 32/50\n",
            "\u001b[1m176/176\u001b[0m \u001b[32m━━━━━━━━━━━━━━━━━━━━\u001b[0m\u001b[37m\u001b[0m \u001b[1m4s\u001b[0m 20ms/step - accuracy: 0.9414 - loss: 0.8122 - val_accuracy: 0.8716 - val_loss: 0.9337 - learning_rate: 5.0000e-04\n",
            "Epoch 33/50\n",
            "\u001b[1m175/176\u001b[0m \u001b[32m━━━━━━━━━━━━━━━━━━━\u001b[0m\u001b[37m━\u001b[0m \u001b[1m0s\u001b[0m 20ms/step - accuracy: 0.9446 - loss: 0.8029"
          ]
        },
        {
          "name": "stderr",
          "output_type": "stream",
          "text": [
            "WARNING:absl:You are saving your model as an HDF5 file via `model.save()` or `keras.saving.save_model(model)`. This file format is considered legacy. We recommend using instead the native Keras format, e.g. `model.save('my_model.keras')` or `keras.saving.save_model(model, 'my_model.keras')`. \n"
          ]
        },
        {
          "name": "stdout",
          "output_type": "stream",
          "text": [
            "\b\b\b\b\b\b\b\b\b\b\b\b\b\b\b\b\b\b\b\b\b\b\b\b\b\b\b\b\b\b\b\b\b\b\b\b\b\b\b\b\b\b\b\b\b\b\b\b\b\b\b\b\b\b\b\b\b\b\b\b\b\b\b\b\b\b\b\b\b\b\b\b\b\b\b\r\u001b[1m176/176\u001b[0m \u001b[32m━━━━━━━━━━━━━━━━━━━━\u001b[0m\u001b[37m\u001b[0m \u001b[1m4s\u001b[0m 21ms/step - accuracy: 0.9445 - loss: 0.8029 - val_accuracy: 0.8866 - val_loss: 0.8988 - learning_rate: 5.0000e-04\n",
            "Epoch 34/50\n",
            "\u001b[1m176/176\u001b[0m \u001b[32m━━━━━━━━━━━━━━━━━━━━\u001b[0m\u001b[37m\u001b[0m \u001b[1m4s\u001b[0m 21ms/step - accuracy: 0.9464 - loss: 0.7999 - val_accuracy: 0.8796 - val_loss: 0.9172 - learning_rate: 5.0000e-04\n",
            "Epoch 35/50\n",
            "\u001b[1m176/176\u001b[0m \u001b[32m━━━━━━━━━━━━━━━━━━━━\u001b[0m\u001b[37m\u001b[0m \u001b[1m5s\u001b[0m 20ms/step - accuracy: 0.9481 - loss: 0.7973 - val_accuracy: 0.8762 - val_loss: 0.9195 - learning_rate: 5.0000e-04\n",
            "Epoch 36/50\n",
            "\u001b[1m176/176\u001b[0m \u001b[32m━━━━━━━━━━━━━━━━━━━━\u001b[0m\u001b[37m\u001b[0m \u001b[1m5s\u001b[0m 20ms/step - accuracy: 0.9475 - loss: 0.7968 - val_accuracy: 0.8682 - val_loss: 0.9473 - learning_rate: 5.0000e-04\n",
            "Epoch 37/50\n",
            "\u001b[1m176/176\u001b[0m \u001b[32m━━━━━━━━━━━━━━━━━━━━\u001b[0m\u001b[37m\u001b[0m \u001b[1m5s\u001b[0m 20ms/step - accuracy: 0.9492 - loss: 0.7930 - val_accuracy: 0.8810 - val_loss: 0.9028 - learning_rate: 5.0000e-04\n",
            "Epoch 38/50\n",
            "\u001b[1m176/176\u001b[0m \u001b[32m━━━━━━━━━━━━━━━━━━━━\u001b[0m\u001b[37m\u001b[0m \u001b[1m4s\u001b[0m 20ms/step - accuracy: 0.9485 - loss: 0.7914 - val_accuracy: 0.8792 - val_loss: 0.9184 - learning_rate: 5.0000e-04\n",
            "Epoch 39/50\n",
            "\u001b[1m175/176\u001b[0m \u001b[32m━━━━━━━━━━━━━━━━━━━\u001b[0m\u001b[37m━\u001b[0m \u001b[1m0s\u001b[0m 20ms/step - accuracy: 0.9547 - loss: 0.7765"
          ]
        },
        {
          "name": "stderr",
          "output_type": "stream",
          "text": [
            "WARNING:absl:You are saving your model as an HDF5 file via `model.save()` or `keras.saving.save_model(model)`. This file format is considered legacy. We recommend using instead the native Keras format, e.g. `model.save('my_model.keras')` or `keras.saving.save_model(model, 'my_model.keras')`. \n"
          ]
        },
        {
          "name": "stdout",
          "output_type": "stream",
          "text": [
            "\b\b\b\b\b\b\b\b\b\b\b\b\b\b\b\b\b\b\b\b\b\b\b\b\b\b\b\b\b\b\b\b\b\b\b\b\b\b\b\b\b\b\b\b\b\b\b\b\b\b\b\b\b\b\b\b\b\b\b\b\b\b\b\b\b\b\b\b\b\b\b\b\b\b\b\r\u001b[1m176/176\u001b[0m \u001b[32m━━━━━━━━━━━━━━━━━━━━\u001b[0m\u001b[37m\u001b[0m \u001b[1m5s\u001b[0m 21ms/step - accuracy: 0.9547 - loss: 0.7765 - val_accuracy: 0.8900 - val_loss: 0.8914 - learning_rate: 2.5000e-04\n",
            "Epoch 40/50\n",
            "\u001b[1m175/176\u001b[0m \u001b[32m━━━━━━━━━━━━━━━━━━━\u001b[0m\u001b[37m━\u001b[0m \u001b[1m0s\u001b[0m 20ms/step - accuracy: 0.9607 - loss: 0.7655"
          ]
        },
        {
          "name": "stderr",
          "output_type": "stream",
          "text": [
            "WARNING:absl:You are saving your model as an HDF5 file via `model.save()` or `keras.saving.save_model(model)`. This file format is considered legacy. We recommend using instead the native Keras format, e.g. `model.save('my_model.keras')` or `keras.saving.save_model(model, 'my_model.keras')`. \n"
          ]
        },
        {
          "name": "stdout",
          "output_type": "stream",
          "text": [
            "\b\b\b\b\b\b\b\b\b\b\b\b\b\b\b\b\b\b\b\b\b\b\b\b\b\b\b\b\b\b\b\b\b\b\b\b\b\b\b\b\b\b\b\b\b\b\b\b\b\b\b\b\b\b\b\b\b\b\b\b\b\b\b\b\b\b\b\b\b\b\b\b\b\b\b\r\u001b[1m176/176\u001b[0m \u001b[32m━━━━━━━━━━━━━━━━━━━━\u001b[0m\u001b[37m\u001b[0m \u001b[1m5s\u001b[0m 21ms/step - accuracy: 0.9607 - loss: 0.7655 - val_accuracy: 0.8904 - val_loss: 0.8973 - learning_rate: 2.5000e-04\n",
            "Epoch 41/50\n",
            "\u001b[1m176/176\u001b[0m \u001b[32m━━━━━━━━━━━━━━━━━━━━\u001b[0m\u001b[37m\u001b[0m \u001b[1m5s\u001b[0m 20ms/step - accuracy: 0.9608 - loss: 0.7610 - val_accuracy: 0.8900 - val_loss: 0.8860 - learning_rate: 2.5000e-04\n",
            "Epoch 42/50\n",
            "\u001b[1m176/176\u001b[0m \u001b[32m━━━━━━━━━━━━━━━━━━━━\u001b[0m\u001b[37m\u001b[0m \u001b[1m5s\u001b[0m 20ms/step - accuracy: 0.9622 - loss: 0.7550 - val_accuracy: 0.8890 - val_loss: 0.8900 - learning_rate: 2.5000e-04\n",
            "Epoch 43/50\n",
            "\u001b[1m175/176\u001b[0m \u001b[32m━━━━━━━━━━━━━━━━━━━\u001b[0m\u001b[37m━\u001b[0m \u001b[1m0s\u001b[0m 20ms/step - accuracy: 0.9638 - loss: 0.7501"
          ]
        },
        {
          "name": "stderr",
          "output_type": "stream",
          "text": [
            "WARNING:absl:You are saving your model as an HDF5 file via `model.save()` or `keras.saving.save_model(model)`. This file format is considered legacy. We recommend using instead the native Keras format, e.g. `model.save('my_model.keras')` or `keras.saving.save_model(model, 'my_model.keras')`. \n"
          ]
        },
        {
          "name": "stdout",
          "output_type": "stream",
          "text": [
            "\b\b\b\b\b\b\b\b\b\b\b\b\b\b\b\b\b\b\b\b\b\b\b\b\b\b\b\b\b\b\b\b\b\b\b\b\b\b\b\b\b\b\b\b\b\b\b\b\b\b\b\b\b\b\b\b\b\b\b\b\b\b\b\b\b\b\b\b\b\b\b\b\b\b\b\r\u001b[1m176/176\u001b[0m \u001b[32m━━━━━━━━━━━━━━━━━━━━\u001b[0m\u001b[37m\u001b[0m \u001b[1m4s\u001b[0m 21ms/step - accuracy: 0.9638 - loss: 0.7501 - val_accuracy: 0.8906 - val_loss: 0.8824 - learning_rate: 2.5000e-04\n",
            "Epoch 44/50\n",
            "\u001b[1m176/176\u001b[0m \u001b[32m━━━━━━━━━━━━━━━━━━━━\u001b[0m\u001b[37m\u001b[0m \u001b[1m5s\u001b[0m 21ms/step - accuracy: 0.9628 - loss: 0.7500 - val_accuracy: 0.8844 - val_loss: 0.8946 - learning_rate: 2.5000e-04\n",
            "Epoch 45/50\n",
            "\u001b[1m176/176\u001b[0m \u001b[32m━━━━━━━━━━━━━━━━━━━━\u001b[0m\u001b[37m\u001b[0m \u001b[1m4s\u001b[0m 20ms/step - accuracy: 0.9657 - loss: 0.7438 - val_accuracy: 0.8896 - val_loss: 0.8770 - learning_rate: 2.5000e-04\n",
            "Epoch 46/50\n",
            "\u001b[1m176/176\u001b[0m \u001b[32m━━━━━━━━━━━━━━━━━━━━\u001b[0m\u001b[37m\u001b[0m \u001b[1m5s\u001b[0m 20ms/step - accuracy: 0.9651 - loss: 0.7430 - val_accuracy: 0.8882 - val_loss: 0.8817 - learning_rate: 2.5000e-04\n",
            "Epoch 47/50\n",
            "\u001b[1m175/176\u001b[0m \u001b[32m━━━━━━━━━━━━━━━━━━━\u001b[0m\u001b[37m━\u001b[0m \u001b[1m0s\u001b[0m 20ms/step - accuracy: 0.9681 - loss: 0.7378"
          ]
        },
        {
          "name": "stderr",
          "output_type": "stream",
          "text": [
            "WARNING:absl:You are saving your model as an HDF5 file via `model.save()` or `keras.saving.save_model(model)`. This file format is considered legacy. We recommend using instead the native Keras format, e.g. `model.save('my_model.keras')` or `keras.saving.save_model(model, 'my_model.keras')`. \n"
          ]
        },
        {
          "name": "stdout",
          "output_type": "stream",
          "text": [
            "\b\b\b\b\b\b\b\b\b\b\b\b\b\b\b\b\b\b\b\b\b\b\b\b\b\b\b\b\b\b\b\b\b\b\b\b\b\b\b\b\b\b\b\b\b\b\b\b\b\b\b\b\b\b\b\b\b\b\b\b\b\b\b\b\b\b\b\b\b\b\b\b\b\b\b\r\u001b[1m176/176\u001b[0m \u001b[32m━━━━━━━━━━━━━━━━━━━━\u001b[0m\u001b[37m\u001b[0m \u001b[1m5s\u001b[0m 21ms/step - accuracy: 0.9681 - loss: 0.7378 - val_accuracy: 0.8952 - val_loss: 0.8641 - learning_rate: 2.5000e-04\n",
            "Epoch 48/50\n",
            "\u001b[1m176/176\u001b[0m \u001b[32m━━━━━━━━━━━━━━━━━━━━\u001b[0m\u001b[37m\u001b[0m \u001b[1m5s\u001b[0m 20ms/step - accuracy: 0.9685 - loss: 0.7341 - val_accuracy: 0.8892 - val_loss: 0.8786 - learning_rate: 2.5000e-04\n",
            "Epoch 49/50\n",
            "\u001b[1m176/176\u001b[0m \u001b[32m━━━━━━━━━━━━━━━━━━━━\u001b[0m\u001b[37m\u001b[0m \u001b[1m5s\u001b[0m 21ms/step - accuracy: 0.9673 - loss: 0.7339 - val_accuracy: 0.8884 - val_loss: 0.8780 - learning_rate: 2.5000e-04\n",
            "Epoch 50/50\n",
            "\u001b[1m176/176\u001b[0m \u001b[32m━━━━━━━━━━━━━━━━━━━━\u001b[0m\u001b[37m\u001b[0m \u001b[1m5s\u001b[0m 20ms/step - accuracy: 0.9679 - loss: 0.7304 - val_accuracy: 0.8916 - val_loss: 0.8713 - learning_rate: 2.5000e-04\n",
            "\n",
            "Results for RMSprop:\n",
            "Train Accuracy: 0.9682\n",
            "Test Accuracy: 0.8832\n",
            "Test Loss: 0.8871\n",
            "Precision: 0.8835\n",
            "Recall: 0.8832\n",
            "F1 Score: 0.8820\n",
            "\n",
            "Training with SGD optimizer...\n",
            "Epoch 1/50\n"
          ]
        },
        {
          "name": "stderr",
          "output_type": "stream",
          "text": [
            "/usr/local/lib/python3.11/dist-packages/keras/src/layers/convolutional/base_conv.py:107: UserWarning: Do not pass an `input_shape`/`input_dim` argument to a layer. When using Sequential models, prefer using an `Input(shape)` object as the first layer in the model instead.\n",
            "  super().__init__(activity_regularizer=activity_regularizer, **kwargs)\n"
          ]
        },
        {
          "name": "stdout",
          "output_type": "stream",
          "text": [
            "\u001b[1m176/176\u001b[0m \u001b[32m━━━━━━━━━━━━━━━━━━━━\u001b[0m\u001b[37m\u001b[0m \u001b[1m0s\u001b[0m 55ms/step - accuracy: 0.2792 - loss: 2.6668"
          ]
        },
        {
          "name": "stderr",
          "output_type": "stream",
          "text": [
            "WARNING:absl:You are saving your model as an HDF5 file via `model.save()` or `keras.saving.save_model(model)`. This file format is considered legacy. We recommend using instead the native Keras format, e.g. `model.save('my_model.keras')` or `keras.saving.save_model(model, 'my_model.keras')`. \n"
          ]
        },
        {
          "name": "stdout",
          "output_type": "stream",
          "text": [
            "\b\b\b\b\b\b\b\b\b\b\b\b\b\b\b\b\b\b\b\b\b\b\b\b\b\b\b\b\b\b\b\b\b\b\b\b\b\b\b\b\b\b\b\b\b\b\b\b\b\b\b\b\b\b\b\b\b\b\b\b\b\b\b\b\b\b\b\b\b\b\b\b\b\b\b\r\u001b[1m176/176\u001b[0m \u001b[32m━━━━━━━━━━━━━━━━━━━━\u001b[0m\u001b[37m\u001b[0m \u001b[1m21s\u001b[0m 66ms/step - accuracy: 0.2796 - loss: 2.6642 - val_accuracy: 0.1070 - val_loss: 2.9198 - learning_rate: 0.0100\n",
            "Epoch 2/50\n",
            "\u001b[1m175/176\u001b[0m \u001b[32m━━━━━━━━━━━━━━━━━━━\u001b[0m\u001b[37m━\u001b[0m \u001b[1m0s\u001b[0m 20ms/step - accuracy: 0.4755 - loss: 1.7593"
          ]
        },
        {
          "name": "stderr",
          "output_type": "stream",
          "text": [
            "WARNING:absl:You are saving your model as an HDF5 file via `model.save()` or `keras.saving.save_model(model)`. This file format is considered legacy. We recommend using instead the native Keras format, e.g. `model.save('my_model.keras')` or `keras.saving.save_model(model, 'my_model.keras')`. \n"
          ]
        },
        {
          "name": "stdout",
          "output_type": "stream",
          "text": [
            "\b\b\b\b\b\b\b\b\b\b\b\b\b\b\b\b\b\b\b\b\b\b\b\b\b\b\b\b\b\b\b\b\b\b\b\b\b\b\b\b\b\b\b\b\b\b\b\b\b\b\b\b\b\b\b\b\b\b\b\b\b\b\b\b\b\b\b\b\b\b\b\b\b\b\b\r\u001b[1m176/176\u001b[0m \u001b[32m━━━━━━━━━━━━━━━━━━━━\u001b[0m\u001b[37m\u001b[0m \u001b[1m4s\u001b[0m 22ms/step - accuracy: 0.4757 - loss: 1.7590 - val_accuracy: 0.3202 - val_loss: 2.3542 - learning_rate: 0.0100\n",
            "Epoch 3/50\n",
            "\u001b[1m175/176\u001b[0m \u001b[32m━━━━━━━━━━━━━━━━━━━\u001b[0m\u001b[37m━\u001b[0m \u001b[1m0s\u001b[0m 19ms/step - accuracy: 0.5407 - loss: 1.6302"
          ]
        },
        {
          "name": "stderr",
          "output_type": "stream",
          "text": [
            "WARNING:absl:You are saving your model as an HDF5 file via `model.save()` or `keras.saving.save_model(model)`. This file format is considered legacy. We recommend using instead the native Keras format, e.g. `model.save('my_model.keras')` or `keras.saving.save_model(model, 'my_model.keras')`. \n"
          ]
        },
        {
          "name": "stdout",
          "output_type": "stream",
          "text": [
            "\b\b\b\b\b\b\b\b\b\b\b\b\b\b\b\b\b\b\b\b\b\b\b\b\b\b\b\b\b\b\b\b\b\b\b\b\b\b\b\b\b\b\b\b\b\b\b\b\b\b\b\b\b\b\b\b\b\b\b\b\b\b\b\b\b\b\b\b\b\b\b\b\b\b\b\r\u001b[1m176/176\u001b[0m \u001b[32m━━━━━━━━━━━━━━━━━━━━\u001b[0m\u001b[37m\u001b[0m \u001b[1m4s\u001b[0m 21ms/step - accuracy: 0.5409 - loss: 1.6299 - val_accuracy: 0.4842 - val_loss: 1.7482 - learning_rate: 0.0100\n",
            "Epoch 4/50\n",
            "\u001b[1m175/176\u001b[0m \u001b[32m━━━━━━━━━━━━━━━━━━━\u001b[0m\u001b[37m━\u001b[0m \u001b[1m0s\u001b[0m 20ms/step - accuracy: 0.5864 - loss: 1.5460"
          ]
        },
        {
          "name": "stderr",
          "output_type": "stream",
          "text": [
            "WARNING:absl:You are saving your model as an HDF5 file via `model.save()` or `keras.saving.save_model(model)`. This file format is considered legacy. We recommend using instead the native Keras format, e.g. `model.save('my_model.keras')` or `keras.saving.save_model(model, 'my_model.keras')`. \n"
          ]
        },
        {
          "name": "stdout",
          "output_type": "stream",
          "text": [
            "\b\b\b\b\b\b\b\b\b\b\b\b\b\b\b\b\b\b\b\b\b\b\b\b\b\b\b\b\b\b\b\b\b\b\b\b\b\b\b\b\b\b\b\b\b\b\b\b\b\b\b\b\b\b\b\b\b\b\b\b\b\b\b\b\b\b\b\b\b\b\b\b\b\b\b\r\u001b[1m176/176\u001b[0m \u001b[32m━━━━━━━━━━━━━━━━━━━━\u001b[0m\u001b[37m\u001b[0m \u001b[1m4s\u001b[0m 21ms/step - accuracy: 0.5865 - loss: 1.5458 - val_accuracy: 0.5748 - val_loss: 1.5757 - learning_rate: 0.0100\n",
            "Epoch 5/50\n",
            "\u001b[1m175/176\u001b[0m \u001b[32m━━━━━━━━━━━━━━━━━━━\u001b[0m\u001b[37m━\u001b[0m \u001b[1m0s\u001b[0m 20ms/step - accuracy: 0.6204 - loss: 1.4777"
          ]
        },
        {
          "name": "stderr",
          "output_type": "stream",
          "text": [
            "WARNING:absl:You are saving your model as an HDF5 file via `model.save()` or `keras.saving.save_model(model)`. This file format is considered legacy. We recommend using instead the native Keras format, e.g. `model.save('my_model.keras')` or `keras.saving.save_model(model, 'my_model.keras')`. \n"
          ]
        },
        {
          "name": "stdout",
          "output_type": "stream",
          "text": [
            "\b\b\b\b\b\b\b\b\b\b\b\b\b\b\b\b\b\b\b\b\b\b\b\b\b\b\b\b\b\b\b\b\b\b\b\b\b\b\b\b\b\b\b\b\b\b\b\b\b\b\b\b\b\b\b\b\b\b\b\b\b\b\b\b\b\b\b\b\b\b\b\b\b\b\b\r\u001b[1m176/176\u001b[0m \u001b[32m━━━━━━━━━━━━━━━━━━━━\u001b[0m\u001b[37m\u001b[0m \u001b[1m5s\u001b[0m 22ms/step - accuracy: 0.6205 - loss: 1.4775 - val_accuracy: 0.5908 - val_loss: 1.5564 - learning_rate: 0.0100\n",
            "Epoch 6/50\n",
            "\u001b[1m175/176\u001b[0m \u001b[32m━━━━━━━━━━━━━━━━━━━\u001b[0m\u001b[37m━\u001b[0m \u001b[1m0s\u001b[0m 20ms/step - accuracy: 0.6435 - loss: 1.4272"
          ]
        },
        {
          "name": "stderr",
          "output_type": "stream",
          "text": [
            "WARNING:absl:You are saving your model as an HDF5 file via `model.save()` or `keras.saving.save_model(model)`. This file format is considered legacy. We recommend using instead the native Keras format, e.g. `model.save('my_model.keras')` or `keras.saving.save_model(model, 'my_model.keras')`. \n"
          ]
        },
        {
          "name": "stdout",
          "output_type": "stream",
          "text": [
            "\b\b\b\b\b\b\b\b\b\b\b\b\b\b\b\b\b\b\b\b\b\b\b\b\b\b\b\b\b\b\b\b\b\b\b\b\b\b\b\b\b\b\b\b\b\b\b\b\b\b\b\b\b\b\b\b\b\b\b\b\b\b\b\b\b\b\b\b\b\b\b\b\b\b\b\r\u001b[1m176/176\u001b[0m \u001b[32m━━━━━━━━━━━━━━━━━━━━\u001b[0m\u001b[37m\u001b[0m \u001b[1m5s\u001b[0m 22ms/step - accuracy: 0.6437 - loss: 1.4270 - val_accuracy: 0.6438 - val_loss: 1.4248 - learning_rate: 0.0100\n",
            "Epoch 7/50\n",
            "\u001b[1m175/176\u001b[0m \u001b[32m━━━━━━━━━━━━━━━━━━━\u001b[0m\u001b[37m━\u001b[0m \u001b[1m0s\u001b[0m 20ms/step - accuracy: 0.6721 - loss: 1.3816"
          ]
        },
        {
          "name": "stderr",
          "output_type": "stream",
          "text": [
            "WARNING:absl:You are saving your model as an HDF5 file via `model.save()` or `keras.saving.save_model(model)`. This file format is considered legacy. We recommend using instead the native Keras format, e.g. `model.save('my_model.keras')` or `keras.saving.save_model(model, 'my_model.keras')`. \n"
          ]
        },
        {
          "name": "stdout",
          "output_type": "stream",
          "text": [
            "\b\b\b\b\b\b\b\b\b\b\b\b\b\b\b\b\b\b\b\b\b\b\b\b\b\b\b\b\b\b\b\b\b\b\b\b\b\b\b\b\b\b\b\b\b\b\b\b\b\b\b\b\b\b\b\b\b\b\b\b\b\b\b\b\b\b\b\b\b\b\b\b\b\b\b\r\u001b[1m176/176\u001b[0m \u001b[32m━━━━━━━━━━━━━━━━━━━━\u001b[0m\u001b[37m\u001b[0m \u001b[1m4s\u001b[0m 21ms/step - accuracy: 0.6721 - loss: 1.3814 - val_accuracy: 0.6524 - val_loss: 1.4377 - learning_rate: 0.0100\n",
            "Epoch 8/50\n",
            "\u001b[1m175/176\u001b[0m \u001b[32m━━━━━━━━━━━━━━━━━━━\u001b[0m\u001b[37m━\u001b[0m \u001b[1m0s\u001b[0m 20ms/step - accuracy: 0.6857 - loss: 1.3503"
          ]
        },
        {
          "name": "stderr",
          "output_type": "stream",
          "text": [
            "WARNING:absl:You are saving your model as an HDF5 file via `model.save()` or `keras.saving.save_model(model)`. This file format is considered legacy. We recommend using instead the native Keras format, e.g. `model.save('my_model.keras')` or `keras.saving.save_model(model, 'my_model.keras')`. \n"
          ]
        },
        {
          "name": "stdout",
          "output_type": "stream",
          "text": [
            "\b\b\b\b\b\b\b\b\b\b\b\b\b\b\b\b\b\b\b\b\b\b\b\b\b\b\b\b\b\b\b\b\b\b\b\b\b\b\b\b\b\b\b\b\b\b\b\b\b\b\b\b\b\b\b\b\b\b\b\b\b\b\b\b\b\b\b\b\b\b\b\b\b\b\b\r\u001b[1m176/176\u001b[0m \u001b[32m━━━━━━━━━━━━━━━━━━━━\u001b[0m\u001b[37m\u001b[0m \u001b[1m5s\u001b[0m 21ms/step - accuracy: 0.6858 - loss: 1.3502 - val_accuracy: 0.7144 - val_loss: 1.2725 - learning_rate: 0.0100\n",
            "Epoch 9/50\n",
            "\u001b[1m175/176\u001b[0m \u001b[32m━━━━━━━━━━━━━━━━━━━\u001b[0m\u001b[37m━\u001b[0m \u001b[1m0s\u001b[0m 20ms/step - accuracy: 0.7005 - loss: 1.3137"
          ]
        },
        {
          "name": "stderr",
          "output_type": "stream",
          "text": [
            "WARNING:absl:You are saving your model as an HDF5 file via `model.save()` or `keras.saving.save_model(model)`. This file format is considered legacy. We recommend using instead the native Keras format, e.g. `model.save('my_model.keras')` or `keras.saving.save_model(model, 'my_model.keras')`. \n"
          ]
        },
        {
          "name": "stdout",
          "output_type": "stream",
          "text": [
            "\b\b\b\b\b\b\b\b\b\b\b\b\b\b\b\b\b\b\b\b\b\b\b\b\b\b\b\b\b\b\b\b\b\b\b\b\b\b\b\b\b\b\b\b\b\b\b\b\b\b\b\b\b\b\b\b\b\b\b\b\b\b\b\b\b\b\b\b\b\b\b\b\b\b\b\r\u001b[1m176/176\u001b[0m \u001b[32m━━━━━━━━━━━━━━━━━━━━\u001b[0m\u001b[37m\u001b[0m \u001b[1m5s\u001b[0m 21ms/step - accuracy: 0.7005 - loss: 1.3136 - val_accuracy: 0.7196 - val_loss: 1.2776 - learning_rate: 0.0100\n",
            "Epoch 10/50\n",
            "\u001b[1m175/176\u001b[0m \u001b[32m━━━━━━━━━━━━━━━━━━━\u001b[0m\u001b[37m━\u001b[0m \u001b[1m0s\u001b[0m 20ms/step - accuracy: 0.7163 - loss: 1.2923"
          ]
        },
        {
          "name": "stderr",
          "output_type": "stream",
          "text": [
            "WARNING:absl:You are saving your model as an HDF5 file via `model.save()` or `keras.saving.save_model(model)`. This file format is considered legacy. We recommend using instead the native Keras format, e.g. `model.save('my_model.keras')` or `keras.saving.save_model(model, 'my_model.keras')`. \n"
          ]
        },
        {
          "name": "stdout",
          "output_type": "stream",
          "text": [
            "\b\b\b\b\b\b\b\b\b\b\b\b\b\b\b\b\b\b\b\b\b\b\b\b\b\b\b\b\b\b\b\b\b\b\b\b\b\b\b\b\b\b\b\b\b\b\b\b\b\b\b\b\b\b\b\b\b\b\b\b\b\b\b\b\b\b\b\b\b\b\b\b\b\b\b\r\u001b[1m176/176\u001b[0m \u001b[32m━━━━━━━━━━━━━━━━━━━━\u001b[0m\u001b[37m\u001b[0m \u001b[1m4s\u001b[0m 21ms/step - accuracy: 0.7163 - loss: 1.2923 - val_accuracy: 0.7512 - val_loss: 1.2349 - learning_rate: 0.0100\n",
            "Epoch 11/50\n",
            "\u001b[1m176/176\u001b[0m \u001b[32m━━━━━━━━━━━━━━━━━━━━\u001b[0m\u001b[37m\u001b[0m \u001b[1m4s\u001b[0m 21ms/step - accuracy: 0.7219 - loss: 1.2738 - val_accuracy: 0.7252 - val_loss: 1.2709 - learning_rate: 0.0100\n",
            "Epoch 12/50\n",
            "\u001b[1m175/176\u001b[0m \u001b[32m━━━━━━━━━━━━━━━━━━━\u001b[0m\u001b[37m━\u001b[0m \u001b[1m0s\u001b[0m 20ms/step - accuracy: 0.7374 - loss: 1.2439"
          ]
        },
        {
          "name": "stderr",
          "output_type": "stream",
          "text": [
            "WARNING:absl:You are saving your model as an HDF5 file via `model.save()` or `keras.saving.save_model(model)`. This file format is considered legacy. We recommend using instead the native Keras format, e.g. `model.save('my_model.keras')` or `keras.saving.save_model(model, 'my_model.keras')`. \n"
          ]
        },
        {
          "name": "stdout",
          "output_type": "stream",
          "text": [
            "\b\b\b\b\b\b\b\b\b\b\b\b\b\b\b\b\b\b\b\b\b\b\b\b\b\b\b\b\b\b\b\b\b\b\b\b\b\b\b\b\b\b\b\b\b\b\b\b\b\b\b\b\b\b\b\b\b\b\b\b\b\b\b\b\b\b\b\b\b\b\b\b\b\b\b\r\u001b[1m176/176\u001b[0m \u001b[32m━━━━━━━━━━━━━━━━━━━━\u001b[0m\u001b[37m\u001b[0m \u001b[1m5s\u001b[0m 21ms/step - accuracy: 0.7374 - loss: 1.2439 - val_accuracy: 0.7524 - val_loss: 1.2155 - learning_rate: 0.0100\n",
            "Epoch 13/50\n",
            "\u001b[1m175/176\u001b[0m \u001b[32m━━━━━━━━━━━━━━━━━━━\u001b[0m\u001b[37m━\u001b[0m \u001b[1m0s\u001b[0m 20ms/step - accuracy: 0.7449 - loss: 1.2310"
          ]
        },
        {
          "name": "stderr",
          "output_type": "stream",
          "text": [
            "WARNING:absl:You are saving your model as an HDF5 file via `model.save()` or `keras.saving.save_model(model)`. This file format is considered legacy. We recommend using instead the native Keras format, e.g. `model.save('my_model.keras')` or `keras.saving.save_model(model, 'my_model.keras')`. \n"
          ]
        },
        {
          "name": "stdout",
          "output_type": "stream",
          "text": [
            "\b\b\b\b\b\b\b\b\b\b\b\b\b\b\b\b\b\b\b\b\b\b\b\b\b\b\b\b\b\b\b\b\b\b\b\b\b\b\b\b\b\b\b\b\b\b\b\b\b\b\b\b\b\b\b\b\b\b\b\b\b\b\b\b\b\b\b\b\b\b\b\b\b\b\b\r\u001b[1m176/176\u001b[0m \u001b[32m━━━━━━━━━━━━━━━━━━━━\u001b[0m\u001b[37m\u001b[0m \u001b[1m4s\u001b[0m 22ms/step - accuracy: 0.7449 - loss: 1.2309 - val_accuracy: 0.7554 - val_loss: 1.1928 - learning_rate: 0.0100\n",
            "Epoch 14/50\n",
            "\u001b[1m176/176\u001b[0m \u001b[32m━━━━━━━━━━━━━━━━━━━━\u001b[0m\u001b[37m\u001b[0m \u001b[1m4s\u001b[0m 21ms/step - accuracy: 0.7477 - loss: 1.2218 - val_accuracy: 0.6930 - val_loss: 1.3369 - learning_rate: 0.0100\n",
            "Epoch 15/50\n",
            "\u001b[1m175/176\u001b[0m \u001b[32m━━━━━━━━━━━━━━━━━━━\u001b[0m\u001b[37m━\u001b[0m \u001b[1m0s\u001b[0m 20ms/step - accuracy: 0.7564 - loss: 1.2014"
          ]
        },
        {
          "name": "stderr",
          "output_type": "stream",
          "text": [
            "WARNING:absl:You are saving your model as an HDF5 file via `model.save()` or `keras.saving.save_model(model)`. This file format is considered legacy. We recommend using instead the native Keras format, e.g. `model.save('my_model.keras')` or `keras.saving.save_model(model, 'my_model.keras')`. \n"
          ]
        },
        {
          "name": "stdout",
          "output_type": "stream",
          "text": [
            "\b\b\b\b\b\b\b\b\b\b\b\b\b\b\b\b\b\b\b\b\b\b\b\b\b\b\b\b\b\b\b\b\b\b\b\b\b\b\b\b\b\b\b\b\b\b\b\b\b\b\b\b\b\b\b\b\b\b\b\b\b\b\b\b\b\b\b\b\b\b\b\b\b\b\b\r\u001b[1m176/176\u001b[0m \u001b[32m━━━━━━━━━━━━━━━━━━━━\u001b[0m\u001b[37m\u001b[0m \u001b[1m4s\u001b[0m 21ms/step - accuracy: 0.7564 - loss: 1.2014 - val_accuracy: 0.7882 - val_loss: 1.1371 - learning_rate: 0.0100\n",
            "Epoch 16/50\n",
            "\u001b[1m175/176\u001b[0m \u001b[32m━━━━━━━━━━━━━━━━━━━\u001b[0m\u001b[37m━\u001b[0m \u001b[1m0s\u001b[0m 20ms/step - accuracy: 0.7664 - loss: 1.1851"
          ]
        },
        {
          "name": "stderr",
          "output_type": "stream",
          "text": [
            "WARNING:absl:You are saving your model as an HDF5 file via `model.save()` or `keras.saving.save_model(model)`. This file format is considered legacy. We recommend using instead the native Keras format, e.g. `model.save('my_model.keras')` or `keras.saving.save_model(model, 'my_model.keras')`. \n"
          ]
        },
        {
          "name": "stdout",
          "output_type": "stream",
          "text": [
            "\b\b\b\b\b\b\b\b\b\b\b\b\b\b\b\b\b\b\b\b\b\b\b\b\b\b\b\b\b\b\b\b\b\b\b\b\b\b\b\b\b\b\b\b\b\b\b\b\b\b\b\b\b\b\b\b\b\b\b\b\b\b\b\b\b\b\b\b\b\b\b\b\b\b\b\r\u001b[1m176/176\u001b[0m \u001b[32m━━━━━━━━━━━━━━━━━━━━\u001b[0m\u001b[37m\u001b[0m \u001b[1m4s\u001b[0m 22ms/step - accuracy: 0.7664 - loss: 1.1850 - val_accuracy: 0.7900 - val_loss: 1.1378 - learning_rate: 0.0100\n",
            "Epoch 17/50\n",
            "\u001b[1m176/176\u001b[0m \u001b[32m━━━━━━━━━━━━━━━━━━━━\u001b[0m\u001b[37m\u001b[0m \u001b[1m5s\u001b[0m 20ms/step - accuracy: 0.7716 - loss: 1.1686 - val_accuracy: 0.7836 - val_loss: 1.1342 - learning_rate: 0.0100\n",
            "Epoch 18/50\n",
            "\u001b[1m176/176\u001b[0m \u001b[32m━━━━━━━━━━━━━━━━━━━━\u001b[0m\u001b[37m\u001b[0m \u001b[1m5s\u001b[0m 21ms/step - accuracy: 0.7766 - loss: 1.1582 - val_accuracy: 0.7792 - val_loss: 1.1506 - learning_rate: 0.0100\n",
            "Epoch 19/50\n",
            "\u001b[1m175/176\u001b[0m \u001b[32m━━━━━━━━━━━━━━━━━━━\u001b[0m\u001b[37m━\u001b[0m \u001b[1m0s\u001b[0m 20ms/step - accuracy: 0.7840 - loss: 1.1452"
          ]
        },
        {
          "name": "stderr",
          "output_type": "stream",
          "text": [
            "WARNING:absl:You are saving your model as an HDF5 file via `model.save()` or `keras.saving.save_model(model)`. This file format is considered legacy. We recommend using instead the native Keras format, e.g. `model.save('my_model.keras')` or `keras.saving.save_model(model, 'my_model.keras')`. \n"
          ]
        },
        {
          "name": "stdout",
          "output_type": "stream",
          "text": [
            "\b\b\b\b\b\b\b\b\b\b\b\b\b\b\b\b\b\b\b\b\b\b\b\b\b\b\b\b\b\b\b\b\b\b\b\b\b\b\b\b\b\b\b\b\b\b\b\b\b\b\b\b\b\b\b\b\b\b\b\b\b\b\b\b\b\b\b\b\b\b\b\b\b\b\b\r\u001b[1m176/176\u001b[0m \u001b[32m━━━━━━━━━━━━━━━━━━━━\u001b[0m\u001b[37m\u001b[0m \u001b[1m4s\u001b[0m 22ms/step - accuracy: 0.7840 - loss: 1.1451 - val_accuracy: 0.7918 - val_loss: 1.1211 - learning_rate: 0.0100\n",
            "Epoch 20/50\n",
            "\u001b[1m175/176\u001b[0m \u001b[32m━━━━━━━━━━━━━━━━━━━\u001b[0m\u001b[37m━\u001b[0m \u001b[1m0s\u001b[0m 20ms/step - accuracy: 0.7887 - loss: 1.1362"
          ]
        },
        {
          "name": "stderr",
          "output_type": "stream",
          "text": [
            "WARNING:absl:You are saving your model as an HDF5 file via `model.save()` or `keras.saving.save_model(model)`. This file format is considered legacy. We recommend using instead the native Keras format, e.g. `model.save('my_model.keras')` or `keras.saving.save_model(model, 'my_model.keras')`. \n"
          ]
        },
        {
          "name": "stdout",
          "output_type": "stream",
          "text": [
            "\b\b\b\b\b\b\b\b\b\b\b\b\b\b\b\b\b\b\b\b\b\b\b\b\b\b\b\b\b\b\b\b\b\b\b\b\b\b\b\b\b\b\b\b\b\b\b\b\b\b\b\b\b\b\b\b\b\b\b\b\b\b\b\b\b\b\b\b\b\b\b\b\b\b\b\r\u001b[1m176/176\u001b[0m \u001b[32m━━━━━━━━━━━━━━━━━━━━\u001b[0m\u001b[37m\u001b[0m \u001b[1m4s\u001b[0m 21ms/step - accuracy: 0.7887 - loss: 1.1362 - val_accuracy: 0.8060 - val_loss: 1.0978 - learning_rate: 0.0100\n",
            "Epoch 21/50\n",
            "\u001b[1m176/176\u001b[0m \u001b[32m━━━━━━━━━━━━━━━━━━━━\u001b[0m\u001b[37m\u001b[0m \u001b[1m4s\u001b[0m 21ms/step - accuracy: 0.7956 - loss: 1.1236 - val_accuracy: 0.7934 - val_loss: 1.1218 - learning_rate: 0.0100\n",
            "Epoch 22/50\n",
            "\u001b[1m176/176\u001b[0m \u001b[32m━━━━━━━━━━━━━━━━━━━━\u001b[0m\u001b[37m\u001b[0m \u001b[1m5s\u001b[0m 21ms/step - accuracy: 0.7971 - loss: 1.1135 - val_accuracy: 0.7692 - val_loss: 1.1590 - learning_rate: 0.0100\n",
            "Epoch 23/50\n",
            "\u001b[1m175/176\u001b[0m \u001b[32m━━━━━━━━━━━━━━━━━━━\u001b[0m\u001b[37m━\u001b[0m \u001b[1m0s\u001b[0m 20ms/step - accuracy: 0.8024 - loss: 1.1052"
          ]
        },
        {
          "name": "stderr",
          "output_type": "stream",
          "text": [
            "WARNING:absl:You are saving your model as an HDF5 file via `model.save()` or `keras.saving.save_model(model)`. This file format is considered legacy. We recommend using instead the native Keras format, e.g. `model.save('my_model.keras')` or `keras.saving.save_model(model, 'my_model.keras')`. \n"
          ]
        },
        {
          "name": "stdout",
          "output_type": "stream",
          "text": [
            "\b\b\b\b\b\b\b\b\b\b\b\b\b\b\b\b\b\b\b\b\b\b\b\b\b\b\b\b\b\b\b\b\b\b\b\b\b\b\b\b\b\b\b\b\b\b\b\b\b\b\b\b\b\b\b\b\b\b\b\b\b\b\b\b\b\b\b\b\b\b\b\b\b\b\b\r\u001b[1m176/176\u001b[0m \u001b[32m━━━━━━━━━━━━━━━━━━━━\u001b[0m\u001b[37m\u001b[0m \u001b[1m5s\u001b[0m 21ms/step - accuracy: 0.8024 - loss: 1.1052 - val_accuracy: 0.8140 - val_loss: 1.0791 - learning_rate: 0.0100\n",
            "Epoch 24/50\n",
            "\u001b[1m176/176\u001b[0m \u001b[32m━━━━━━━━━━━━━━━━━━━━\u001b[0m\u001b[37m\u001b[0m \u001b[1m5s\u001b[0m 21ms/step - accuracy: 0.8086 - loss: 1.0976 - val_accuracy: 0.8078 - val_loss: 1.0875 - learning_rate: 0.0100\n",
            "Epoch 25/50\n",
            "\u001b[1m175/176\u001b[0m \u001b[32m━━━━━━━━━━━━━━━━━━━\u001b[0m\u001b[37m━\u001b[0m \u001b[1m0s\u001b[0m 20ms/step - accuracy: 0.8131 - loss: 1.0863"
          ]
        },
        {
          "name": "stderr",
          "output_type": "stream",
          "text": [
            "WARNING:absl:You are saving your model as an HDF5 file via `model.save()` or `keras.saving.save_model(model)`. This file format is considered legacy. We recommend using instead the native Keras format, e.g. `model.save('my_model.keras')` or `keras.saving.save_model(model, 'my_model.keras')`. \n"
          ]
        },
        {
          "name": "stdout",
          "output_type": "stream",
          "text": [
            "\b\b\b\b\b\b\b\b\b\b\b\b\b\b\b\b\b\b\b\b\b\b\b\b\b\b\b\b\b\b\b\b\b\b\b\b\b\b\b\b\b\b\b\b\b\b\b\b\b\b\b\b\b\b\b\b\b\b\b\b\b\b\b\b\b\b\b\b\b\b\b\b\b\b\b\r\u001b[1m176/176\u001b[0m \u001b[32m━━━━━━━━━━━━━━━━━━━━\u001b[0m\u001b[37m\u001b[0m \u001b[1m4s\u001b[0m 21ms/step - accuracy: 0.8131 - loss: 1.0863 - val_accuracy: 0.8224 - val_loss: 1.0579 - learning_rate: 0.0100\n",
            "Epoch 26/50\n",
            "\u001b[1m176/176\u001b[0m \u001b[32m━━━━━━━━━━━━━━━━━━━━\u001b[0m\u001b[37m\u001b[0m \u001b[1m5s\u001b[0m 20ms/step - accuracy: 0.8184 - loss: 1.0746 - val_accuracy: 0.8090 - val_loss: 1.0771 - learning_rate: 0.0100\n",
            "Epoch 27/50\n",
            "\u001b[1m176/176\u001b[0m \u001b[32m━━━━━━━━━━━━━━━━━━━━\u001b[0m\u001b[37m\u001b[0m \u001b[1m5s\u001b[0m 21ms/step - accuracy: 0.8196 - loss: 1.0721 - val_accuracy: 0.7574 - val_loss: 1.1908 - learning_rate: 0.0100\n",
            "Epoch 28/50\n",
            "\u001b[1m176/176\u001b[0m \u001b[32m━━━━━━━━━━━━━━━━━━━━\u001b[0m\u001b[37m\u001b[0m \u001b[1m5s\u001b[0m 21ms/step - accuracy: 0.8271 - loss: 1.0589 - val_accuracy: 0.7850 - val_loss: 1.1291 - learning_rate: 0.0100\n",
            "Epoch 29/50\n",
            "\u001b[1m175/176\u001b[0m \u001b[32m━━━━━━━━━━━━━━━━━━━\u001b[0m\u001b[37m━\u001b[0m \u001b[1m0s\u001b[0m 20ms/step - accuracy: 0.8286 - loss: 1.0546"
          ]
        },
        {
          "name": "stderr",
          "output_type": "stream",
          "text": [
            "WARNING:absl:You are saving your model as an HDF5 file via `model.save()` or `keras.saving.save_model(model)`. This file format is considered legacy. We recommend using instead the native Keras format, e.g. `model.save('my_model.keras')` or `keras.saving.save_model(model, 'my_model.keras')`. \n"
          ]
        },
        {
          "name": "stdout",
          "output_type": "stream",
          "text": [
            "\b\b\b\b\b\b\b\b\b\b\b\b\b\b\b\b\b\b\b\b\b\b\b\b\b\b\b\b\b\b\b\b\b\b\b\b\b\b\b\b\b\b\b\b\b\b\b\b\b\b\b\b\b\b\b\b\b\b\b\b\b\b\b\b\b\b\b\b\b\b\b\b\b\b\b\r\u001b[1m176/176\u001b[0m \u001b[32m━━━━━━━━━━━━━━━━━━━━\u001b[0m\u001b[37m\u001b[0m \u001b[1m4s\u001b[0m 22ms/step - accuracy: 0.8286 - loss: 1.0546 - val_accuracy: 0.8268 - val_loss: 1.0381 - learning_rate: 0.0100\n",
            "Epoch 30/50\n",
            "\u001b[1m175/176\u001b[0m \u001b[32m━━━━━━━━━━━━━━━━━━━\u001b[0m\u001b[37m━\u001b[0m \u001b[1m0s\u001b[0m 20ms/step - accuracy: 0.8299 - loss: 1.0482"
          ]
        },
        {
          "name": "stderr",
          "output_type": "stream",
          "text": [
            "WARNING:absl:You are saving your model as an HDF5 file via `model.save()` or `keras.saving.save_model(model)`. This file format is considered legacy. We recommend using instead the native Keras format, e.g. `model.save('my_model.keras')` or `keras.saving.save_model(model, 'my_model.keras')`. \n"
          ]
        },
        {
          "name": "stdout",
          "output_type": "stream",
          "text": [
            "\b\b\b\b\b\b\b\b\b\b\b\b\b\b\b\b\b\b\b\b\b\b\b\b\b\b\b\b\b\b\b\b\b\b\b\b\b\b\b\b\b\b\b\b\b\b\b\b\b\b\b\b\b\b\b\b\b\b\b\b\b\b\b\b\b\b\b\b\b\b\b\b\b\b\b\r\u001b[1m176/176\u001b[0m \u001b[32m━━━━━━━━━━━━━━━━━━━━\u001b[0m\u001b[37m\u001b[0m \u001b[1m5s\u001b[0m 21ms/step - accuracy: 0.8299 - loss: 1.0481 - val_accuracy: 0.8314 - val_loss: 1.0241 - learning_rate: 0.0100\n",
            "Epoch 31/50\n",
            "\u001b[1m176/176\u001b[0m \u001b[32m━━━━━━━━━━━━━━━━━━━━\u001b[0m\u001b[37m\u001b[0m \u001b[1m4s\u001b[0m 20ms/step - accuracy: 0.8367 - loss: 1.0351 - val_accuracy: 0.8148 - val_loss: 1.0726 - learning_rate: 0.0100\n",
            "Epoch 32/50\n",
            "\u001b[1m176/176\u001b[0m \u001b[32m━━━━━━━━━━━━━━━━━━━━\u001b[0m\u001b[37m\u001b[0m \u001b[1m4s\u001b[0m 21ms/step - accuracy: 0.8418 - loss: 1.0268 - val_accuracy: 0.8182 - val_loss: 1.0625 - learning_rate: 0.0100\n",
            "Epoch 33/50\n",
            "\u001b[1m175/176\u001b[0m \u001b[32m━━━━━━━━━━━━━━━━━━━\u001b[0m\u001b[37m━\u001b[0m \u001b[1m0s\u001b[0m 20ms/step - accuracy: 0.8436 - loss: 1.0222"
          ]
        },
        {
          "name": "stderr",
          "output_type": "stream",
          "text": [
            "WARNING:absl:You are saving your model as an HDF5 file via `model.save()` or `keras.saving.save_model(model)`. This file format is considered legacy. We recommend using instead the native Keras format, e.g. `model.save('my_model.keras')` or `keras.saving.save_model(model, 'my_model.keras')`. \n"
          ]
        },
        {
          "name": "stdout",
          "output_type": "stream",
          "text": [
            "\b\b\b\b\b\b\b\b\b\b\b\b\b\b\b\b\b\b\b\b\b\b\b\b\b\b\b\b\b\b\b\b\b\b\b\b\b\b\b\b\b\b\b\b\b\b\b\b\b\b\b\b\b\b\b\b\b\b\b\b\b\b\b\b\b\b\b\b\b\b\b\b\b\b\b\r\u001b[1m176/176\u001b[0m \u001b[32m━━━━━━━━━━━━━━━━━━━━\u001b[0m\u001b[37m\u001b[0m \u001b[1m4s\u001b[0m 21ms/step - accuracy: 0.8436 - loss: 1.0221 - val_accuracy: 0.8322 - val_loss: 1.0364 - learning_rate: 0.0100\n",
            "Epoch 34/50\n",
            "\u001b[1m175/176\u001b[0m \u001b[32m━━━━━━━━━━━━━━━━━━━\u001b[0m\u001b[37m━\u001b[0m \u001b[1m0s\u001b[0m 19ms/step - accuracy: 0.8472 - loss: 1.0105"
          ]
        },
        {
          "name": "stderr",
          "output_type": "stream",
          "text": [
            "WARNING:absl:You are saving your model as an HDF5 file via `model.save()` or `keras.saving.save_model(model)`. This file format is considered legacy. We recommend using instead the native Keras format, e.g. `model.save('my_model.keras')` or `keras.saving.save_model(model, 'my_model.keras')`. \n"
          ]
        },
        {
          "name": "stdout",
          "output_type": "stream",
          "text": [
            "\b\b\b\b\b\b\b\b\b\b\b\b\b\b\b\b\b\b\b\b\b\b\b\b\b\b\b\b\b\b\b\b\b\b\b\b\b\b\b\b\b\b\b\b\b\b\b\b\b\b\b\b\b\b\b\b\b\b\b\b\b\b\b\b\b\b\b\b\b\b\b\b\b\b\b\r\u001b[1m176/176\u001b[0m \u001b[32m━━━━━━━━━━━━━━━━━━━━\u001b[0m\u001b[37m\u001b[0m \u001b[1m4s\u001b[0m 21ms/step - accuracy: 0.8472 - loss: 1.0105 - val_accuracy: 0.8354 - val_loss: 1.0317 - learning_rate: 0.0100\n",
            "Epoch 35/50\n",
            "\u001b[1m176/176\u001b[0m \u001b[32m━━━━━━━━━━━━━━━━━━━━\u001b[0m\u001b[37m\u001b[0m \u001b[1m4s\u001b[0m 21ms/step - accuracy: 0.8489 - loss: 1.0053 - val_accuracy: 0.8300 - val_loss: 1.0440 - learning_rate: 0.0100\n",
            "Epoch 36/50\n",
            "\u001b[1m175/176\u001b[0m \u001b[32m━━━━━━━━━━━━━━━━━━━\u001b[0m\u001b[37m━\u001b[0m \u001b[1m0s\u001b[0m 20ms/step - accuracy: 0.8537 - loss: 0.9967"
          ]
        },
        {
          "name": "stderr",
          "output_type": "stream",
          "text": [
            "WARNING:absl:You are saving your model as an HDF5 file via `model.save()` or `keras.saving.save_model(model)`. This file format is considered legacy. We recommend using instead the native Keras format, e.g. `model.save('my_model.keras')` or `keras.saving.save_model(model, 'my_model.keras')`. \n"
          ]
        },
        {
          "name": "stdout",
          "output_type": "stream",
          "text": [
            "\b\b\b\b\b\b\b\b\b\b\b\b\b\b\b\b\b\b\b\b\b\b\b\b\b\b\b\b\b\b\b\b\b\b\b\b\b\b\b\b\b\b\b\b\b\b\b\b\b\b\b\b\b\b\b\b\b\b\b\b\b\b\b\b\b\b\b\b\b\b\b\b\b\b\b\r\u001b[1m176/176\u001b[0m \u001b[32m━━━━━━━━━━━━━━━━━━━━\u001b[0m\u001b[37m\u001b[0m \u001b[1m4s\u001b[0m 21ms/step - accuracy: 0.8538 - loss: 0.9966 - val_accuracy: 0.8484 - val_loss: 0.9959 - learning_rate: 0.0050\n",
            "Epoch 37/50\n",
            "\u001b[1m176/176\u001b[0m \u001b[32m━━━━━━━━━━━━━━━━━━━━\u001b[0m\u001b[37m\u001b[0m \u001b[1m4s\u001b[0m 20ms/step - accuracy: 0.8675 - loss: 0.9765 - val_accuracy: 0.8410 - val_loss: 1.0036 - learning_rate: 0.0050\n",
            "Epoch 38/50\n",
            "\u001b[1m175/176\u001b[0m \u001b[32m━━━━━━━━━━━━━━━━━━━\u001b[0m\u001b[37m━\u001b[0m \u001b[1m0s\u001b[0m 20ms/step - accuracy: 0.8661 - loss: 0.9767"
          ]
        },
        {
          "name": "stderr",
          "output_type": "stream",
          "text": [
            "WARNING:absl:You are saving your model as an HDF5 file via `model.save()` or `keras.saving.save_model(model)`. This file format is considered legacy. We recommend using instead the native Keras format, e.g. `model.save('my_model.keras')` or `keras.saving.save_model(model, 'my_model.keras')`. \n"
          ]
        },
        {
          "name": "stdout",
          "output_type": "stream",
          "text": [
            "\b\b\b\b\b\b\b\b\b\b\b\b\b\b\b\b\b\b\b\b\b\b\b\b\b\b\b\b\b\b\b\b\b\b\b\b\b\b\b\b\b\b\b\b\b\b\b\b\b\b\b\b\b\b\b\b\b\b\b\b\b\b\b\b\b\b\b\b\b\b\b\b\b\b\b\r\u001b[1m176/176\u001b[0m \u001b[32m━━━━━━━━━━━━━━━━━━━━\u001b[0m\u001b[37m\u001b[0m \u001b[1m5s\u001b[0m 21ms/step - accuracy: 0.8661 - loss: 0.9766 - val_accuracy: 0.8502 - val_loss: 0.9922 - learning_rate: 0.0050\n",
            "Epoch 39/50\n",
            "\u001b[1m176/176\u001b[0m \u001b[32m━━━━━━━━━━━━━━━━━━━━\u001b[0m\u001b[37m\u001b[0m \u001b[1m5s\u001b[0m 20ms/step - accuracy: 0.8650 - loss: 0.9713 - val_accuracy: 0.8400 - val_loss: 1.0036 - learning_rate: 0.0050\n",
            "Epoch 40/50\n",
            "\u001b[1m175/176\u001b[0m \u001b[32m━━━━━━━━━━━━━━━━━━━\u001b[0m\u001b[37m━\u001b[0m \u001b[1m0s\u001b[0m 20ms/step - accuracy: 0.8669 - loss: 0.9703"
          ]
        },
        {
          "name": "stderr",
          "output_type": "stream",
          "text": [
            "WARNING:absl:You are saving your model as an HDF5 file via `model.save()` or `keras.saving.save_model(model)`. This file format is considered legacy. We recommend using instead the native Keras format, e.g. `model.save('my_model.keras')` or `keras.saving.save_model(model, 'my_model.keras')`. \n"
          ]
        },
        {
          "name": "stdout",
          "output_type": "stream",
          "text": [
            "\b\b\b\b\b\b\b\b\b\b\b\b\b\b\b\b\b\b\b\b\b\b\b\b\b\b\b\b\b\b\b\b\b\b\b\b\b\b\b\b\b\b\b\b\b\b\b\b\b\b\b\b\b\b\b\b\b\b\b\b\b\b\b\b\b\b\b\b\b\b\b\b\b\b\b\r\u001b[1m176/176\u001b[0m \u001b[32m━━━━━━━━━━━━━━━━━━━━\u001b[0m\u001b[37m\u001b[0m \u001b[1m5s\u001b[0m 21ms/step - accuracy: 0.8669 - loss: 0.9703 - val_accuracy: 0.8582 - val_loss: 0.9786 - learning_rate: 0.0050\n",
            "Epoch 41/50\n",
            "\u001b[1m176/176\u001b[0m \u001b[32m━━━━━━━━━━━━━━━━━━━━\u001b[0m\u001b[37m\u001b[0m \u001b[1m4s\u001b[0m 21ms/step - accuracy: 0.8718 - loss: 0.9620 - val_accuracy: 0.8492 - val_loss: 0.9930 - learning_rate: 0.0050\n",
            "Epoch 42/50\n",
            "\u001b[1m176/176\u001b[0m \u001b[32m━━━━━━━━━━━━━━━━━━━━\u001b[0m\u001b[37m\u001b[0m \u001b[1m4s\u001b[0m 20ms/step - accuracy: 0.8737 - loss: 0.9596 - val_accuracy: 0.8334 - val_loss: 1.0243 - learning_rate: 0.0050\n",
            "Epoch 43/50\n",
            "\u001b[1m176/176\u001b[0m \u001b[32m━━━━━━━━━━━━━━━━━━━━\u001b[0m\u001b[37m\u001b[0m \u001b[1m5s\u001b[0m 20ms/step - accuracy: 0.8758 - loss: 0.9551 - val_accuracy: 0.8582 - val_loss: 0.9754 - learning_rate: 0.0050\n",
            "Epoch 44/50\n",
            "\u001b[1m176/176\u001b[0m \u001b[32m━━━━━━━━━━━━━━━━━━━━\u001b[0m\u001b[37m\u001b[0m \u001b[1m4s\u001b[0m 21ms/step - accuracy: 0.8758 - loss: 0.9514 - val_accuracy: 0.8576 - val_loss: 0.9771 - learning_rate: 0.0050\n",
            "Epoch 45/50\n",
            "\u001b[1m176/176\u001b[0m \u001b[32m━━━━━━━━━━━━━━━━━━━━\u001b[0m\u001b[37m\u001b[0m \u001b[1m4s\u001b[0m 20ms/step - accuracy: 0.8750 - loss: 0.9527 - val_accuracy: 0.8562 - val_loss: 0.9713 - learning_rate: 0.0050\n",
            "Epoch 46/50\n",
            "\u001b[1m175/176\u001b[0m \u001b[32m━━━━━━━━━━━━━━━━━━━\u001b[0m\u001b[37m━\u001b[0m \u001b[1m0s\u001b[0m 19ms/step - accuracy: 0.8784 - loss: 0.9467"
          ]
        },
        {
          "name": "stderr",
          "output_type": "stream",
          "text": [
            "WARNING:absl:You are saving your model as an HDF5 file via `model.save()` or `keras.saving.save_model(model)`. This file format is considered legacy. We recommend using instead the native Keras format, e.g. `model.save('my_model.keras')` or `keras.saving.save_model(model, 'my_model.keras')`. \n"
          ]
        },
        {
          "name": "stdout",
          "output_type": "stream",
          "text": [
            "\b\b\b\b\b\b\b\b\b\b\b\b\b\b\b\b\b\b\b\b\b\b\b\b\b\b\b\b\b\b\b\b\b\b\b\b\b\b\b\b\b\b\b\b\b\b\b\b\b\b\b\b\b\b\b\b\b\b\b\b\b\b\b\b\b\b\b\b\b\b\b\b\b\b\b\r\u001b[1m176/176\u001b[0m \u001b[32m━━━━━━━━━━━━━━━━━━━━\u001b[0m\u001b[37m\u001b[0m \u001b[1m4s\u001b[0m 21ms/step - accuracy: 0.8784 - loss: 0.9466 - val_accuracy: 0.8614 - val_loss: 0.9644 - learning_rate: 0.0050\n",
            "Epoch 47/50\n",
            "\u001b[1m176/176\u001b[0m \u001b[32m━━━━━━━━━━━━━━━━━━━━\u001b[0m\u001b[37m\u001b[0m \u001b[1m5s\u001b[0m 21ms/step - accuracy: 0.8785 - loss: 0.9440 - val_accuracy: 0.8366 - val_loss: 1.0170 - learning_rate: 0.0050\n",
            "Epoch 48/50\n",
            "\u001b[1m176/176\u001b[0m \u001b[32m━━━━━━━━━━━━━━━━━━━━\u001b[0m\u001b[37m\u001b[0m \u001b[1m4s\u001b[0m 21ms/step - accuracy: 0.8791 - loss: 0.9424 - val_accuracy: 0.8488 - val_loss: 0.9868 - learning_rate: 0.0050\n",
            "Epoch 49/50\n",
            "\u001b[1m176/176\u001b[0m \u001b[32m━━━━━━━━━━━━━━━━━━━━\u001b[0m\u001b[37m\u001b[0m \u001b[1m4s\u001b[0m 21ms/step - accuracy: 0.8792 - loss: 0.9419 - val_accuracy: 0.8510 - val_loss: 0.9809 - learning_rate: 0.0050\n",
            "Epoch 50/50\n",
            "\u001b[1m176/176\u001b[0m \u001b[32m━━━━━━━━━━━━━━━━━━━━\u001b[0m\u001b[37m\u001b[0m \u001b[1m4s\u001b[0m 21ms/step - accuracy: 0.8846 - loss: 0.9320 - val_accuracy: 0.8578 - val_loss: 0.9691 - learning_rate: 0.0050\n",
            "\n",
            "Results for SGD:\n",
            "Train Accuracy: 0.8834\n",
            "Test Accuracy: 0.8552\n",
            "Test Loss: 0.9821\n",
            "Precision: 0.8565\n",
            "Recall: 0.8552\n",
            "F1 Score: 0.8545\n",
            "\n",
            "Training with Nadam optimizer...\n",
            "Epoch 1/50\n"
          ]
        },
        {
          "name": "stderr",
          "output_type": "stream",
          "text": [
            "/usr/local/lib/python3.11/dist-packages/keras/src/layers/convolutional/base_conv.py:107: UserWarning: Do not pass an `input_shape`/`input_dim` argument to a layer. When using Sequential models, prefer using an `Input(shape)` object as the first layer in the model instead.\n",
            "  super().__init__(activity_regularizer=activity_regularizer, **kwargs)\n"
          ]
        },
        {
          "name": "stdout",
          "output_type": "stream",
          "text": [
            "\u001b[1m176/176\u001b[0m \u001b[32m━━━━━━━━━━━━━━━━━━━━\u001b[0m\u001b[37m\u001b[0m \u001b[1m0s\u001b[0m 63ms/step - accuracy: 0.3108 - loss: 2.6293"
          ]
        },
        {
          "name": "stderr",
          "output_type": "stream",
          "text": [
            "WARNING:absl:You are saving your model as an HDF5 file via `model.save()` or `keras.saving.save_model(model)`. This file format is considered legacy. We recommend using instead the native Keras format, e.g. `model.save('my_model.keras')` or `keras.saving.save_model(model, 'my_model.keras')`. \n"
          ]
        },
        {
          "name": "stdout",
          "output_type": "stream",
          "text": [
            "\b\b\b\b\b\b\b\b\b\b\b\b\b\b\b\b\b\b\b\b\b\b\b\b\b\b\b\b\b\b\b\b\b\b\b\b\b\b\b\b\b\b\b\b\b\b\b\b\b\b\b\b\b\b\b\b\b\b\b\b\b\b\b\b\b\b\b\b\b\b\b\b\b\b\b\r\u001b[1m176/176\u001b[0m \u001b[32m━━━━━━━━━━━━━━━━━━━━\u001b[0m\u001b[37m\u001b[0m \u001b[1m27s\u001b[0m 73ms/step - accuracy: 0.3112 - loss: 2.6271 - val_accuracy: 0.1130 - val_loss: 3.6181 - learning_rate: 0.0010\n",
            "Epoch 2/50\n",
            "\u001b[1m176/176\u001b[0m \u001b[32m━━━━━━━━━━━━━━━━━━━━\u001b[0m\u001b[37m\u001b[0m \u001b[1m0s\u001b[0m 21ms/step - accuracy: 0.5316 - loss: 1.7276"
          ]
        },
        {
          "name": "stderr",
          "output_type": "stream",
          "text": [
            "WARNING:absl:You are saving your model as an HDF5 file via `model.save()` or `keras.saving.save_model(model)`. This file format is considered legacy. We recommend using instead the native Keras format, e.g. `model.save('my_model.keras')` or `keras.saving.save_model(model, 'my_model.keras')`. \n"
          ]
        },
        {
          "name": "stdout",
          "output_type": "stream",
          "text": [
            "\b\b\b\b\b\b\b\b\b\b\b\b\b\b\b\b\b\b\b\b\b\b\b\b\b\b\b\b\b\b\b\b\b\b\b\b\b\b\b\b\b\b\b\b\b\b\b\b\b\b\b\b\b\b\b\b\b\b\b\b\b\b\b\b\b\b\b\b\b\b\b\b\b\b\b\r\u001b[1m176/176\u001b[0m \u001b[32m━━━━━━━━━━━━━━━━━━━━\u001b[0m\u001b[37m\u001b[0m \u001b[1m4s\u001b[0m 23ms/step - accuracy: 0.5318 - loss: 1.7272 - val_accuracy: 0.2172 - val_loss: 2.6611 - learning_rate: 0.0010\n",
            "Epoch 3/50\n",
            "\u001b[1m175/176\u001b[0m \u001b[32m━━━━━━━━━━━━━━━━━━━\u001b[0m\u001b[37m━\u001b[0m \u001b[1m0s\u001b[0m 20ms/step - accuracy: 0.6232 - loss: 1.5086"
          ]
        },
        {
          "name": "stderr",
          "output_type": "stream",
          "text": [
            "WARNING:absl:You are saving your model as an HDF5 file via `model.save()` or `keras.saving.save_model(model)`. This file format is considered legacy. We recommend using instead the native Keras format, e.g. `model.save('my_model.keras')` or `keras.saving.save_model(model, 'my_model.keras')`. \n"
          ]
        },
        {
          "name": "stdout",
          "output_type": "stream",
          "text": [
            "\b\b\b\b\b\b\b\b\b\b\b\b\b\b\b\b\b\b\b\b\b\b\b\b\b\b\b\b\b\b\b\b\b\b\b\b\b\b\b\b\b\b\b\b\b\b\b\b\b\b\b\b\b\b\b\b\b\b\b\b\b\b\b\b\b\b\b\b\b\b\b\b\b\b\b\r\u001b[1m176/176\u001b[0m \u001b[32m━━━━━━━━━━━━━━━━━━━━\u001b[0m\u001b[37m\u001b[0m \u001b[1m4s\u001b[0m 22ms/step - accuracy: 0.6234 - loss: 1.5081 - val_accuracy: 0.4380 - val_loss: 1.8789 - learning_rate: 0.0010\n",
            "Epoch 4/50\n",
            "\u001b[1m175/176\u001b[0m \u001b[32m━━━━━━━━━━━━━━━━━━━\u001b[0m\u001b[37m━\u001b[0m \u001b[1m0s\u001b[0m 20ms/step - accuracy: 0.6808 - loss: 1.3788"
          ]
        },
        {
          "name": "stderr",
          "output_type": "stream",
          "text": [
            "WARNING:absl:You are saving your model as an HDF5 file via `model.save()` or `keras.saving.save_model(model)`. This file format is considered legacy. We recommend using instead the native Keras format, e.g. `model.save('my_model.keras')` or `keras.saving.save_model(model, 'my_model.keras')`. \n"
          ]
        },
        {
          "name": "stdout",
          "output_type": "stream",
          "text": [
            "\b\b\b\b\b\b\b\b\b\b\b\b\b\b\b\b\b\b\b\b\b\b\b\b\b\b\b\b\b\b\b\b\b\b\b\b\b\b\b\b\b\b\b\b\b\b\b\b\b\b\b\b\b\b\b\b\b\b\b\b\b\b\b\b\b\b\b\b\b\b\b\b\b\b\b\r\u001b[1m176/176\u001b[0m \u001b[32m━━━━━━━━━━━━━━━━━━━━\u001b[0m\u001b[37m\u001b[0m \u001b[1m5s\u001b[0m 22ms/step - accuracy: 0.6810 - loss: 1.3785 - val_accuracy: 0.7006 - val_loss: 1.3190 - learning_rate: 0.0010\n",
            "Epoch 5/50\n",
            "\u001b[1m175/176\u001b[0m \u001b[32m━━━━━━━━━━━━━━━━━━━\u001b[0m\u001b[37m━\u001b[0m \u001b[1m0s\u001b[0m 21ms/step - accuracy: 0.7228 - loss: 1.2943"
          ]
        },
        {
          "name": "stderr",
          "output_type": "stream",
          "text": [
            "WARNING:absl:You are saving your model as an HDF5 file via `model.save()` or `keras.saving.save_model(model)`. This file format is considered legacy. We recommend using instead the native Keras format, e.g. `model.save('my_model.keras')` or `keras.saving.save_model(model, 'my_model.keras')`. \n"
          ]
        },
        {
          "name": "stdout",
          "output_type": "stream",
          "text": [
            "\b\b\b\b\b\b\b\b\b\b\b\b\b\b\b\b\b\b\b\b\b\b\b\b\b\b\b\b\b\b\b\b\b\b\b\b\b\b\b\b\b\b\b\b\b\b\b\b\b\b\b\b\b\b\b\b\b\b\b\b\b\b\b\b\b\b\b\b\b\b\b\b\b\b\b\r\u001b[1m176/176\u001b[0m \u001b[32m━━━━━━━━━━━━━━━━━━━━\u001b[0m\u001b[37m\u001b[0m \u001b[1m5s\u001b[0m 22ms/step - accuracy: 0.7228 - loss: 1.2942 - val_accuracy: 0.7326 - val_loss: 1.2635 - learning_rate: 0.0010\n",
            "Epoch 6/50\n",
            "\u001b[1m175/176\u001b[0m \u001b[32m━━━━━━━━━━━━━━━━━━━\u001b[0m\u001b[37m━\u001b[0m \u001b[1m0s\u001b[0m 20ms/step - accuracy: 0.7427 - loss: 1.2430"
          ]
        },
        {
          "name": "stderr",
          "output_type": "stream",
          "text": [
            "WARNING:absl:You are saving your model as an HDF5 file via `model.save()` or `keras.saving.save_model(model)`. This file format is considered legacy. We recommend using instead the native Keras format, e.g. `model.save('my_model.keras')` or `keras.saving.save_model(model, 'my_model.keras')`. \n"
          ]
        },
        {
          "name": "stdout",
          "output_type": "stream",
          "text": [
            "\b\b\b\b\b\b\b\b\b\b\b\b\b\b\b\b\b\b\b\b\b\b\b\b\b\b\b\b\b\b\b\b\b\b\b\b\b\b\b\b\b\b\b\b\b\b\b\b\b\b\b\b\b\b\b\b\b\b\b\b\b\b\b\b\b\b\b\b\b\b\b\b\b\b\b\r\u001b[1m176/176\u001b[0m \u001b[32m━━━━━━━━━━━━━━━━━━━━\u001b[0m\u001b[37m\u001b[0m \u001b[1m4s\u001b[0m 22ms/step - accuracy: 0.7428 - loss: 1.2429 - val_accuracy: 0.7612 - val_loss: 1.2013 - learning_rate: 0.0010\n",
            "Epoch 7/50\n",
            "\u001b[1m176/176\u001b[0m \u001b[32m━━━━━━━━━━━━━━━━━━━━\u001b[0m\u001b[37m\u001b[0m \u001b[1m4s\u001b[0m 20ms/step - accuracy: 0.7636 - loss: 1.2005 - val_accuracy: 0.7460 - val_loss: 1.2297 - learning_rate: 0.0010\n",
            "Epoch 8/50\n",
            "\u001b[1m175/176\u001b[0m \u001b[32m━━━━━━━━━━━━━━━━━━━\u001b[0m\u001b[37m━\u001b[0m \u001b[1m0s\u001b[0m 20ms/step - accuracy: 0.7857 - loss: 1.1630"
          ]
        },
        {
          "name": "stderr",
          "output_type": "stream",
          "text": [
            "WARNING:absl:You are saving your model as an HDF5 file via `model.save()` or `keras.saving.save_model(model)`. This file format is considered legacy. We recommend using instead the native Keras format, e.g. `model.save('my_model.keras')` or `keras.saving.save_model(model, 'my_model.keras')`. \n"
          ]
        },
        {
          "name": "stdout",
          "output_type": "stream",
          "text": [
            "\b\b\b\b\b\b\b\b\b\b\b\b\b\b\b\b\b\b\b\b\b\b\b\b\b\b\b\b\b\b\b\b\b\b\b\b\b\b\b\b\b\b\b\b\b\b\b\b\b\b\b\b\b\b\b\b\b\b\b\b\b\b\b\b\b\b\b\b\b\b\b\b\b\b\b\r\u001b[1m176/176\u001b[0m \u001b[32m━━━━━━━━━━━━━━━━━━━━\u001b[0m\u001b[37m\u001b[0m \u001b[1m4s\u001b[0m 22ms/step - accuracy: 0.7857 - loss: 1.1629 - val_accuracy: 0.7872 - val_loss: 1.1472 - learning_rate: 0.0010\n",
            "Epoch 9/50\n",
            "\u001b[1m175/176\u001b[0m \u001b[32m━━━━━━━━━━━━━━━━━━━\u001b[0m\u001b[37m━\u001b[0m \u001b[1m0s\u001b[0m 20ms/step - accuracy: 0.7967 - loss: 1.1321"
          ]
        },
        {
          "name": "stderr",
          "output_type": "stream",
          "text": [
            "WARNING:absl:You are saving your model as an HDF5 file via `model.save()` or `keras.saving.save_model(model)`. This file format is considered legacy. We recommend using instead the native Keras format, e.g. `model.save('my_model.keras')` or `keras.saving.save_model(model, 'my_model.keras')`. \n"
          ]
        },
        {
          "name": "stdout",
          "output_type": "stream",
          "text": [
            "\b\b\b\b\b\b\b\b\b\b\b\b\b\b\b\b\b\b\b\b\b\b\b\b\b\b\b\b\b\b\b\b\b\b\b\b\b\b\b\b\b\b\b\b\b\b\b\b\b\b\b\b\b\b\b\b\b\b\b\b\b\b\b\b\b\b\b\b\b\b\b\b\b\b\b\r\u001b[1m176/176\u001b[0m \u001b[32m━━━━━━━━━━━━━━━━━━━━\u001b[0m\u001b[37m\u001b[0m \u001b[1m4s\u001b[0m 22ms/step - accuracy: 0.7968 - loss: 1.1320 - val_accuracy: 0.8018 - val_loss: 1.1089 - learning_rate: 0.0010\n",
            "Epoch 10/50\n",
            "\u001b[1m175/176\u001b[0m \u001b[32m━━━━━━━━━━━━━━━━━━━\u001b[0m\u001b[37m━\u001b[0m \u001b[1m0s\u001b[0m 19ms/step - accuracy: 0.8130 - loss: 1.1055"
          ]
        },
        {
          "name": "stderr",
          "output_type": "stream",
          "text": [
            "WARNING:absl:You are saving your model as an HDF5 file via `model.save()` or `keras.saving.save_model(model)`. This file format is considered legacy. We recommend using instead the native Keras format, e.g. `model.save('my_model.keras')` or `keras.saving.save_model(model, 'my_model.keras')`. \n"
          ]
        },
        {
          "name": "stdout",
          "output_type": "stream",
          "text": [
            "\b\b\b\b\b\b\b\b\b\b\b\b\b\b\b\b\b\b\b\b\b\b\b\b\b\b\b\b\b\b\b\b\b\b\b\b\b\b\b\b\b\b\b\b\b\b\b\b\b\b\b\b\b\b\b\b\b\b\b\b\b\b\b\b\b\b\b\b\b\b\b\b\b\b\b\r\u001b[1m176/176\u001b[0m \u001b[32m━━━━━━━━━━━━━━━━━━━━\u001b[0m\u001b[37m\u001b[0m \u001b[1m4s\u001b[0m 21ms/step - accuracy: 0.8130 - loss: 1.1054 - val_accuracy: 0.8258 - val_loss: 1.0573 - learning_rate: 0.0010\n",
            "Epoch 11/50\n",
            "\u001b[1m176/176\u001b[0m \u001b[32m━━━━━━━━━━━━━━━━━━━━\u001b[0m\u001b[37m\u001b[0m \u001b[1m5s\u001b[0m 21ms/step - accuracy: 0.8228 - loss: 1.0851 - val_accuracy: 0.8212 - val_loss: 1.0795 - learning_rate: 0.0010\n",
            "Epoch 12/50\n",
            "\u001b[1m175/176\u001b[0m \u001b[32m━━━━━━━━━━━━━━━━━━━\u001b[0m\u001b[37m━\u001b[0m \u001b[1m0s\u001b[0m 19ms/step - accuracy: 0.8330 - loss: 1.0648"
          ]
        },
        {
          "name": "stderr",
          "output_type": "stream",
          "text": [
            "WARNING:absl:You are saving your model as an HDF5 file via `model.save()` or `keras.saving.save_model(model)`. This file format is considered legacy. We recommend using instead the native Keras format, e.g. `model.save('my_model.keras')` or `keras.saving.save_model(model, 'my_model.keras')`. \n"
          ]
        },
        {
          "name": "stdout",
          "output_type": "stream",
          "text": [
            "\b\b\b\b\b\b\b\b\b\b\b\b\b\b\b\b\b\b\b\b\b\b\b\b\b\b\b\b\b\b\b\b\b\b\b\b\b\b\b\b\b\b\b\b\b\b\b\b\b\b\b\b\b\b\b\b\b\b\b\b\b\b\b\b\b\b\b\b\b\b\b\b\b\b\b\r\u001b[1m176/176\u001b[0m \u001b[32m━━━━━━━━━━━━━━━━━━━━\u001b[0m\u001b[37m\u001b[0m \u001b[1m4s\u001b[0m 21ms/step - accuracy: 0.8330 - loss: 1.0647 - val_accuracy: 0.8362 - val_loss: 1.0544 - learning_rate: 0.0010\n",
            "Epoch 13/50\n",
            "\u001b[1m175/176\u001b[0m \u001b[32m━━━━━━━━━━━━━━━━━━━\u001b[0m\u001b[37m━\u001b[0m \u001b[1m0s\u001b[0m 19ms/step - accuracy: 0.8418 - loss: 1.0488"
          ]
        },
        {
          "name": "stderr",
          "output_type": "stream",
          "text": [
            "WARNING:absl:You are saving your model as an HDF5 file via `model.save()` or `keras.saving.save_model(model)`. This file format is considered legacy. We recommend using instead the native Keras format, e.g. `model.save('my_model.keras')` or `keras.saving.save_model(model, 'my_model.keras')`. \n"
          ]
        },
        {
          "name": "stdout",
          "output_type": "stream",
          "text": [
            "\b\b\b\b\b\b\b\b\b\b\b\b\b\b\b\b\b\b\b\b\b\b\b\b\b\b\b\b\b\b\b\b\b\b\b\b\b\b\b\b\b\b\b\b\b\b\b\b\b\b\b\b\b\b\b\b\b\b\b\b\b\b\b\b\b\b\b\b\b\b\b\b\b\b\b\r\u001b[1m176/176\u001b[0m \u001b[32m━━━━━━━━━━━━━━━━━━━━\u001b[0m\u001b[37m\u001b[0m \u001b[1m4s\u001b[0m 21ms/step - accuracy: 0.8418 - loss: 1.0488 - val_accuracy: 0.8402 - val_loss: 1.0459 - learning_rate: 0.0010\n",
            "Epoch 14/50\n",
            "\u001b[1m176/176\u001b[0m \u001b[32m━━━━━━━━━━━━━━━━━━━━\u001b[0m\u001b[37m\u001b[0m \u001b[1m4s\u001b[0m 21ms/step - accuracy: 0.8483 - loss: 1.0341 - val_accuracy: 0.8178 - val_loss: 1.0983 - learning_rate: 0.0010\n",
            "Epoch 15/50\n",
            "\u001b[1m176/176\u001b[0m \u001b[32m━━━━━━━━━━━━━━━━━━━━\u001b[0m\u001b[37m\u001b[0m \u001b[1m3s\u001b[0m 20ms/step - accuracy: 0.8576 - loss: 1.0208 - val_accuracy: 0.7962 - val_loss: 1.1310 - learning_rate: 0.0010\n",
            "Epoch 16/50\n",
            "\u001b[1m175/176\u001b[0m \u001b[32m━━━━━━━━━━━━━━━━━━━\u001b[0m\u001b[37m━\u001b[0m \u001b[1m0s\u001b[0m 19ms/step - accuracy: 0.8657 - loss: 1.0096"
          ]
        },
        {
          "name": "stderr",
          "output_type": "stream",
          "text": [
            "WARNING:absl:You are saving your model as an HDF5 file via `model.save()` or `keras.saving.save_model(model)`. This file format is considered legacy. We recommend using instead the native Keras format, e.g. `model.save('my_model.keras')` or `keras.saving.save_model(model, 'my_model.keras')`. \n"
          ]
        },
        {
          "name": "stdout",
          "output_type": "stream",
          "text": [
            "\b\b\b\b\b\b\b\b\b\b\b\b\b\b\b\b\b\b\b\b\b\b\b\b\b\b\b\b\b\b\b\b\b\b\b\b\b\b\b\b\b\b\b\b\b\b\b\b\b\b\b\b\b\b\b\b\b\b\b\b\b\b\b\b\b\b\b\b\b\b\b\b\b\b\b\r\u001b[1m176/176\u001b[0m \u001b[32m━━━━━━━━━━━━━━━━━━━━\u001b[0m\u001b[37m\u001b[0m \u001b[1m4s\u001b[0m 21ms/step - accuracy: 0.8657 - loss: 1.0096 - val_accuracy: 0.8502 - val_loss: 1.0276 - learning_rate: 0.0010\n",
            "Epoch 17/50\n",
            "\u001b[1m176/176\u001b[0m \u001b[32m━━━━━━━━━━━━━━━━━━━━\u001b[0m\u001b[37m\u001b[0m \u001b[1m4s\u001b[0m 21ms/step - accuracy: 0.8707 - loss: 1.0035 - val_accuracy: 0.8494 - val_loss: 1.0378 - learning_rate: 0.0010\n",
            "Epoch 18/50\n",
            "\u001b[1m175/176\u001b[0m \u001b[32m━━━━━━━━━━━━━━━━━━━\u001b[0m\u001b[37m━\u001b[0m \u001b[1m0s\u001b[0m 19ms/step - accuracy: 0.8731 - loss: 0.9965"
          ]
        },
        {
          "name": "stderr",
          "output_type": "stream",
          "text": [
            "WARNING:absl:You are saving your model as an HDF5 file via `model.save()` or `keras.saving.save_model(model)`. This file format is considered legacy. We recommend using instead the native Keras format, e.g. `model.save('my_model.keras')` or `keras.saving.save_model(model, 'my_model.keras')`. \n"
          ]
        },
        {
          "name": "stdout",
          "output_type": "stream",
          "text": [
            "\b\b\b\b\b\b\b\b\b\b\b\b\b\b\b\b\b\b\b\b\b\b\b\b\b\b\b\b\b\b\b\b\b\b\b\b\b\b\b\b\b\b\b\b\b\b\b\b\b\b\b\b\b\b\b\b\b\b\b\b\b\b\b\b\b\b\b\b\b\b\b\b\b\b\b\r\u001b[1m176/176\u001b[0m \u001b[32m━━━━━━━━━━━━━━━━━━━━\u001b[0m\u001b[37m\u001b[0m \u001b[1m4s\u001b[0m 21ms/step - accuracy: 0.8731 - loss: 0.9965 - val_accuracy: 0.8624 - val_loss: 1.0251 - learning_rate: 0.0010\n",
            "Epoch 19/50\n",
            "\u001b[1m176/176\u001b[0m \u001b[32m━━━━━━━━━━━━━━━━━━━━\u001b[0m\u001b[37m\u001b[0m \u001b[1m3s\u001b[0m 20ms/step - accuracy: 0.8840 - loss: 0.9838 - val_accuracy: 0.8460 - val_loss: 1.0527 - learning_rate: 0.0010\n",
            "Epoch 20/50\n",
            "\u001b[1m176/176\u001b[0m \u001b[32m━━━━━━━━━━━━━━━━━━━━\u001b[0m\u001b[37m\u001b[0m \u001b[1m5s\u001b[0m 21ms/step - accuracy: 0.8833 - loss: 0.9847 - val_accuracy: 0.8494 - val_loss: 1.0461 - learning_rate: 0.0010\n",
            "Epoch 21/50\n",
            "\u001b[1m175/176\u001b[0m \u001b[32m━━━━━━━━━━━━━━━━━━━\u001b[0m\u001b[37m━\u001b[0m \u001b[1m0s\u001b[0m 19ms/step - accuracy: 0.8875 - loss: 0.9788"
          ]
        },
        {
          "name": "stderr",
          "output_type": "stream",
          "text": [
            "WARNING:absl:You are saving your model as an HDF5 file via `model.save()` or `keras.saving.save_model(model)`. This file format is considered legacy. We recommend using instead the native Keras format, e.g. `model.save('my_model.keras')` or `keras.saving.save_model(model, 'my_model.keras')`. \n"
          ]
        },
        {
          "name": "stdout",
          "output_type": "stream",
          "text": [
            "\b\b\b\b\b\b\b\b\b\b\b\b\b\b\b\b\b\b\b\b\b\b\b\b\b\b\b\b\b\b\b\b\b\b\b\b\b\b\b\b\b\b\b\b\b\b\b\b\b\b\b\b\b\b\b\b\b\b\b\b\b\b\b\b\b\b\b\b\b\b\b\b\b\b\b\r\u001b[1m176/176\u001b[0m \u001b[32m━━━━━━━━━━━━━━━━━━━━\u001b[0m\u001b[37m\u001b[0m \u001b[1m4s\u001b[0m 21ms/step - accuracy: 0.8875 - loss: 0.9788 - val_accuracy: 0.8648 - val_loss: 1.0118 - learning_rate: 0.0010\n",
            "Epoch 22/50\n",
            "\u001b[1m176/176\u001b[0m \u001b[32m━━━━━━━━━━━━━━━━━━━━\u001b[0m\u001b[37m\u001b[0m \u001b[1m5s\u001b[0m 20ms/step - accuracy: 0.8910 - loss: 0.9704 - val_accuracy: 0.8538 - val_loss: 1.0414 - learning_rate: 0.0010\n",
            "Epoch 23/50\n",
            "\u001b[1m176/176\u001b[0m \u001b[32m━━━━━━━━━━━━━━━━━━━━\u001b[0m\u001b[37m\u001b[0m \u001b[1m5s\u001b[0m 20ms/step - accuracy: 0.8958 - loss: 0.9698 - val_accuracy: 0.8512 - val_loss: 1.0411 - learning_rate: 0.0010\n",
            "Epoch 24/50\n",
            "\u001b[1m175/176\u001b[0m \u001b[32m━━━━━━━━━━━━━━━━━━━\u001b[0m\u001b[37m━\u001b[0m \u001b[1m0s\u001b[0m 19ms/step - accuracy: 0.8997 - loss: 0.9630"
          ]
        },
        {
          "name": "stderr",
          "output_type": "stream",
          "text": [
            "WARNING:absl:You are saving your model as an HDF5 file via `model.save()` or `keras.saving.save_model(model)`. This file format is considered legacy. We recommend using instead the native Keras format, e.g. `model.save('my_model.keras')` or `keras.saving.save_model(model, 'my_model.keras')`. \n"
          ]
        },
        {
          "name": "stdout",
          "output_type": "stream",
          "text": [
            "\b\b\b\b\b\b\b\b\b\b\b\b\b\b\b\b\b\b\b\b\b\b\b\b\b\b\b\b\b\b\b\b\b\b\b\b\b\b\b\b\b\b\b\b\b\b\b\b\b\b\b\b\b\b\b\b\b\b\b\b\b\b\b\b\b\b\b\b\b\b\b\b\b\b\b\r\u001b[1m176/176\u001b[0m \u001b[32m━━━━━━━━━━━━━━━━━━━━\u001b[0m\u001b[37m\u001b[0m \u001b[1m4s\u001b[0m 20ms/step - accuracy: 0.8997 - loss: 0.9630 - val_accuracy: 0.8694 - val_loss: 1.0147 - learning_rate: 0.0010\n",
            "Epoch 25/50\n",
            "\u001b[1m176/176\u001b[0m \u001b[32m━━━━━━━━━━━━━━━━━━━━\u001b[0m\u001b[37m\u001b[0m \u001b[1m4s\u001b[0m 20ms/step - accuracy: 0.8982 - loss: 0.9630 - val_accuracy: 0.8482 - val_loss: 1.0611 - learning_rate: 0.0010\n",
            "Epoch 26/50\n",
            "\u001b[1m176/176\u001b[0m \u001b[32m━━━━━━━━━━━━━━━━━━━━\u001b[0m\u001b[37m\u001b[0m \u001b[1m4s\u001b[0m 21ms/step - accuracy: 0.9023 - loss: 0.9624 - val_accuracy: 0.8524 - val_loss: 1.0605 - learning_rate: 0.0010\n",
            "Epoch 27/50\n",
            "\u001b[1m175/176\u001b[0m \u001b[32m━━━━━━━━━━━━━━━━━━━\u001b[0m\u001b[37m━\u001b[0m \u001b[1m0s\u001b[0m 19ms/step - accuracy: 0.9147 - loss: 0.9331"
          ]
        },
        {
          "name": "stderr",
          "output_type": "stream",
          "text": [
            "WARNING:absl:You are saving your model as an HDF5 file via `model.save()` or `keras.saving.save_model(model)`. This file format is considered legacy. We recommend using instead the native Keras format, e.g. `model.save('my_model.keras')` or `keras.saving.save_model(model, 'my_model.keras')`. \n"
          ]
        },
        {
          "name": "stdout",
          "output_type": "stream",
          "text": [
            "\b\b\b\b\b\b\b\b\b\b\b\b\b\b\b\b\b\b\b\b\b\b\b\b\b\b\b\b\b\b\b\b\b\b\b\b\b\b\b\b\b\b\b\b\b\b\b\b\b\b\b\b\b\b\b\b\b\b\b\b\b\b\b\b\b\b\b\b\b\b\b\b\b\b\b\r\u001b[1m176/176\u001b[0m \u001b[32m━━━━━━━━━━━━━━━━━━━━\u001b[0m\u001b[37m\u001b[0m \u001b[1m4s\u001b[0m 20ms/step - accuracy: 0.9148 - loss: 0.9329 - val_accuracy: 0.8828 - val_loss: 0.9908 - learning_rate: 5.0000e-04\n",
            "Epoch 28/50\n",
            "\u001b[1m175/176\u001b[0m \u001b[32m━━━━━━━━━━━━━━━━━━━\u001b[0m\u001b[37m━\u001b[0m \u001b[1m0s\u001b[0m 19ms/step - accuracy: 0.9250 - loss: 0.9062"
          ]
        },
        {
          "name": "stderr",
          "output_type": "stream",
          "text": [
            "WARNING:absl:You are saving your model as an HDF5 file via `model.save()` or `keras.saving.save_model(model)`. This file format is considered legacy. We recommend using instead the native Keras format, e.g. `model.save('my_model.keras')` or `keras.saving.save_model(model, 'my_model.keras')`. \n"
          ]
        },
        {
          "name": "stdout",
          "output_type": "stream",
          "text": [
            "\b\b\b\b\b\b\b\b\b\b\b\b\b\b\b\b\b\b\b\b\b\b\b\b\b\b\b\b\b\b\b\b\b\b\b\b\b\b\b\b\b\b\b\b\b\b\b\b\b\b\b\b\b\b\b\b\b\b\b\b\b\b\b\b\b\b\b\b\b\b\b\b\b\b\b\r\u001b[1m176/176\u001b[0m \u001b[32m━━━━━━━━━━━━━━━━━━━━\u001b[0m\u001b[37m\u001b[0m \u001b[1m4s\u001b[0m 21ms/step - accuracy: 0.9250 - loss: 0.9061 - val_accuracy: 0.8832 - val_loss: 0.9694 - learning_rate: 5.0000e-04\n",
            "Epoch 29/50\n",
            "\u001b[1m176/176\u001b[0m \u001b[32m━━━━━━━━━━━━━━━━━━━━\u001b[0m\u001b[37m\u001b[0m \u001b[1m4s\u001b[0m 21ms/step - accuracy: 0.9289 - loss: 0.8859 - val_accuracy: 0.8830 - val_loss: 0.9687 - learning_rate: 5.0000e-04\n",
            "Epoch 30/50\n",
            "\u001b[1m175/176\u001b[0m \u001b[32m━━━━━━━━━━━━━━━━━━━\u001b[0m\u001b[37m━\u001b[0m \u001b[1m0s\u001b[0m 19ms/step - accuracy: 0.9343 - loss: 0.8743"
          ]
        },
        {
          "name": "stderr",
          "output_type": "stream",
          "text": [
            "WARNING:absl:You are saving your model as an HDF5 file via `model.save()` or `keras.saving.save_model(model)`. This file format is considered legacy. We recommend using instead the native Keras format, e.g. `model.save('my_model.keras')` or `keras.saving.save_model(model, 'my_model.keras')`. \n"
          ]
        },
        {
          "name": "stdout",
          "output_type": "stream",
          "text": [
            "\b\b\b\b\b\b\b\b\b\b\b\b\b\b\b\b\b\b\b\b\b\b\b\b\b\b\b\b\b\b\b\b\b\b\b\b\b\b\b\b\b\b\b\b\b\b\b\b\b\b\b\b\b\b\b\b\b\b\b\b\b\b\b\b\b\b\b\b\b\b\b\b\b\b\b\r\u001b[1m176/176\u001b[0m \u001b[32m━━━━━━━━━━━━━━━━━━━━\u001b[0m\u001b[37m\u001b[0m \u001b[1m5s\u001b[0m 21ms/step - accuracy: 0.9343 - loss: 0.8743 - val_accuracy: 0.8844 - val_loss: 0.9578 - learning_rate: 5.0000e-04\n",
            "Epoch 31/50\n",
            "\u001b[1m175/176\u001b[0m \u001b[32m━━━━━━━━━━━━━━━━━━━\u001b[0m\u001b[37m━\u001b[0m \u001b[1m0s\u001b[0m 19ms/step - accuracy: 0.9349 - loss: 0.8660"
          ]
        },
        {
          "name": "stderr",
          "output_type": "stream",
          "text": [
            "WARNING:absl:You are saving your model as an HDF5 file via `model.save()` or `keras.saving.save_model(model)`. This file format is considered legacy. We recommend using instead the native Keras format, e.g. `model.save('my_model.keras')` or `keras.saving.save_model(model, 'my_model.keras')`. \n"
          ]
        },
        {
          "name": "stdout",
          "output_type": "stream",
          "text": [
            "\b\b\b\b\b\b\b\b\b\b\b\b\b\b\b\b\b\b\b\b\b\b\b\b\b\b\b\b\b\b\b\b\b\b\b\b\b\b\b\b\b\b\b\b\b\b\b\b\b\b\b\b\b\b\b\b\b\b\b\b\b\b\b\b\b\b\b\b\b\b\b\b\b\b\b\r\u001b[1m176/176\u001b[0m \u001b[32m━━━━━━━━━━━━━━━━━━━━\u001b[0m\u001b[37m\u001b[0m \u001b[1m4s\u001b[0m 21ms/step - accuracy: 0.9349 - loss: 0.8660 - val_accuracy: 0.8910 - val_loss: 0.9439 - learning_rate: 5.0000e-04\n",
            "Epoch 32/50\n",
            "\u001b[1m176/176\u001b[0m \u001b[32m━━━━━━━━━━━━━━━━━━━━\u001b[0m\u001b[37m\u001b[0m \u001b[1m4s\u001b[0m 21ms/step - accuracy: 0.9384 - loss: 0.8559 - val_accuracy: 0.8696 - val_loss: 0.9929 - learning_rate: 5.0000e-04\n",
            "Epoch 33/50\n",
            "\u001b[1m176/176\u001b[0m \u001b[32m━━━━━━━━━━━━━━━━━━━━\u001b[0m\u001b[37m\u001b[0m \u001b[1m4s\u001b[0m 20ms/step - accuracy: 0.9404 - loss: 0.8497 - val_accuracy: 0.8864 - val_loss: 0.9405 - learning_rate: 5.0000e-04\n",
            "Epoch 34/50\n",
            "\u001b[1m176/176\u001b[0m \u001b[32m━━━━━━━━━━━━━━━━━━━━\u001b[0m\u001b[37m\u001b[0m \u001b[1m3s\u001b[0m 20ms/step - accuracy: 0.9395 - loss: 0.8464 - val_accuracy: 0.8908 - val_loss: 0.9402 - learning_rate: 5.0000e-04\n",
            "Epoch 35/50\n",
            "\u001b[1m176/176\u001b[0m \u001b[32m━━━━━━━━━━━━━━━━━━━━\u001b[0m\u001b[37m\u001b[0m \u001b[1m5s\u001b[0m 21ms/step - accuracy: 0.9391 - loss: 0.8429 - val_accuracy: 0.8888 - val_loss: 0.9335 - learning_rate: 5.0000e-04\n",
            "Epoch 36/50\n",
            "\u001b[1m176/176\u001b[0m \u001b[32m━━━━━━━━━━━━━━━━━━━━\u001b[0m\u001b[37m\u001b[0m \u001b[1m4s\u001b[0m 20ms/step - accuracy: 0.9390 - loss: 0.8417 - val_accuracy: 0.8842 - val_loss: 0.9432 - learning_rate: 5.0000e-04\n",
            "Epoch 37/50\n",
            "\u001b[1m176/176\u001b[0m \u001b[32m━━━━━━━━━━━━━━━━━━━━\u001b[0m\u001b[37m\u001b[0m \u001b[1m5s\u001b[0m 20ms/step - accuracy: 0.9429 - loss: 0.8365 - val_accuracy: 0.8742 - val_loss: 0.9697 - learning_rate: 5.0000e-04\n",
            "Epoch 38/50\n",
            "\u001b[1m176/176\u001b[0m \u001b[32m━━━━━━━━━━━━━━━━━━━━\u001b[0m\u001b[37m\u001b[0m \u001b[1m4s\u001b[0m 21ms/step - accuracy: 0.9441 - loss: 0.8288 - val_accuracy: 0.8790 - val_loss: 0.9581 - learning_rate: 5.0000e-04\n",
            "Epoch 39/50\n",
            "\u001b[1m176/176\u001b[0m \u001b[32m━━━━━━━━━━━━━━━━━━━━\u001b[0m\u001b[37m\u001b[0m \u001b[1m4s\u001b[0m 20ms/step - accuracy: 0.9441 - loss: 0.8274 - val_accuracy: 0.8760 - val_loss: 0.9451 - learning_rate: 5.0000e-04\n",
            "Epoch 40/50\n",
            "\u001b[1m176/176\u001b[0m \u001b[32m━━━━━━━━━━━━━━━━━━━━\u001b[0m\u001b[37m\u001b[0m \u001b[1m3s\u001b[0m 20ms/step - accuracy: 0.9455 - loss: 0.8291 - val_accuracy: 0.8738 - val_loss: 0.9729 - learning_rate: 5.0000e-04\n",
            "Epoch 41/50\n",
            "\u001b[1m174/176\u001b[0m \u001b[32m━━━━━━━━━━━━━━━━━━━\u001b[0m\u001b[37m━\u001b[0m \u001b[1m0s\u001b[0m 21ms/step - accuracy: 0.9519 - loss: 0.8100"
          ]
        },
        {
          "name": "stderr",
          "output_type": "stream",
          "text": [
            "WARNING:absl:You are saving your model as an HDF5 file via `model.save()` or `keras.saving.save_model(model)`. This file format is considered legacy. We recommend using instead the native Keras format, e.g. `model.save('my_model.keras')` or `keras.saving.save_model(model, 'my_model.keras')`. \n"
          ]
        },
        {
          "name": "stdout",
          "output_type": "stream",
          "text": [
            "\b\b\b\b\b\b\b\b\b\b\b\b\b\b\b\b\b\b\b\b\b\b\b\b\b\b\b\b\b\b\b\b\b\b\b\b\b\b\b\b\b\b\b\b\b\b\b\b\b\b\b\b\b\b\b\b\b\b\b\b\b\b\b\b\b\b\b\b\b\b\b\b\b\b\b\r\u001b[1m176/176\u001b[0m \u001b[32m━━━━━━━━━━━━━━━━━━━━\u001b[0m\u001b[37m\u001b[0m \u001b[1m6s\u001b[0m 22ms/step - accuracy: 0.9520 - loss: 0.8099 - val_accuracy: 0.8938 - val_loss: 0.9171 - learning_rate: 2.5000e-04\n",
            "Epoch 42/50\n",
            "\u001b[1m175/176\u001b[0m \u001b[32m━━━━━━━━━━━━━━━━━━━\u001b[0m\u001b[37m━\u001b[0m \u001b[1m0s\u001b[0m 19ms/step - accuracy: 0.9599 - loss: 0.7940"
          ]
        },
        {
          "name": "stderr",
          "output_type": "stream",
          "text": [
            "WARNING:absl:You are saving your model as an HDF5 file via `model.save()` or `keras.saving.save_model(model)`. This file format is considered legacy. We recommend using instead the native Keras format, e.g. `model.save('my_model.keras')` or `keras.saving.save_model(model, 'my_model.keras')`. \n"
          ]
        },
        {
          "name": "stdout",
          "output_type": "stream",
          "text": [
            "\b\b\b\b\b\b\b\b\b\b\b\b\b\b\b\b\b\b\b\b\b\b\b\b\b\b\b\b\b\b\b\b\b\b\b\b\b\b\b\b\b\b\b\b\b\b\b\b\b\b\b\b\b\b\b\b\b\b\b\b\b\b\b\b\b\b\b\b\b\b\b\b\b\b\b\r\u001b[1m176/176\u001b[0m \u001b[32m━━━━━━━━━━━━━━━━━━━━\u001b[0m\u001b[37m\u001b[0m \u001b[1m5s\u001b[0m 20ms/step - accuracy: 0.9599 - loss: 0.7940 - val_accuracy: 0.8976 - val_loss: 0.9057 - learning_rate: 2.5000e-04\n",
            "Epoch 43/50\n",
            "\u001b[1m176/176\u001b[0m \u001b[32m━━━━━━━━━━━━━━━━━━━━\u001b[0m\u001b[37m\u001b[0m \u001b[1m4s\u001b[0m 20ms/step - accuracy: 0.9582 - loss: 0.7885 - val_accuracy: 0.8956 - val_loss: 0.9115 - learning_rate: 2.5000e-04\n",
            "Epoch 44/50\n",
            "\u001b[1m176/176\u001b[0m \u001b[32m━━━━━━━━━━━━━━━━━━━━\u001b[0m\u001b[37m\u001b[0m \u001b[1m5s\u001b[0m 21ms/step - accuracy: 0.9624 - loss: 0.7790 - val_accuracy: 0.8946 - val_loss: 0.9122 - learning_rate: 2.5000e-04\n",
            "Epoch 45/50\n",
            "\u001b[1m176/176\u001b[0m \u001b[32m━━━━━━━━━━━━━━━━━━━━\u001b[0m\u001b[37m\u001b[0m \u001b[1m5s\u001b[0m 20ms/step - accuracy: 0.9611 - loss: 0.7781 - val_accuracy: 0.8968 - val_loss: 0.8995 - learning_rate: 2.5000e-04\n",
            "Epoch 46/50\n",
            "\u001b[1m176/176\u001b[0m \u001b[32m━━━━━━━━━━━━━━━━━━━━\u001b[0m\u001b[37m\u001b[0m \u001b[1m4s\u001b[0m 21ms/step - accuracy: 0.9640 - loss: 0.7698 - val_accuracy: 0.8942 - val_loss: 0.9093 - learning_rate: 2.5000e-04\n",
            "Epoch 47/50\n",
            "\u001b[1m176/176\u001b[0m \u001b[32m━━━━━━━━━━━━━━━━━━━━\u001b[0m\u001b[37m\u001b[0m \u001b[1m4s\u001b[0m 21ms/step - accuracy: 0.9650 - loss: 0.7640 - val_accuracy: 0.8890 - val_loss: 0.9124 - learning_rate: 2.5000e-04\n",
            "Epoch 48/50\n",
            "\u001b[1m176/176\u001b[0m \u001b[32m━━━━━━━━━━━━━━━━━━━━\u001b[0m\u001b[37m\u001b[0m \u001b[1m4s\u001b[0m 20ms/step - accuracy: 0.9654 - loss: 0.7619 - val_accuracy: 0.8954 - val_loss: 0.8985 - learning_rate: 2.5000e-04\n",
            "Epoch 49/50\n",
            "\u001b[1m176/176\u001b[0m \u001b[32m━━━━━━━━━━━━━━━━━━━━\u001b[0m\u001b[37m\u001b[0m \u001b[1m4s\u001b[0m 20ms/step - accuracy: 0.9661 - loss: 0.7589 - val_accuracy: 0.8920 - val_loss: 0.9039 - learning_rate: 2.5000e-04\n",
            "Epoch 50/50\n",
            "\u001b[1m176/176\u001b[0m \u001b[32m━━━━━━━━━━━━━━━━━━━━\u001b[0m\u001b[37m\u001b[0m \u001b[1m5s\u001b[0m 21ms/step - accuracy: 0.9679 - loss: 0.7533 - val_accuracy: 0.8950 - val_loss: 0.9057 - learning_rate: 2.5000e-04\n",
            "\n",
            "Results for Nadam:\n",
            "Train Accuracy: 0.9677\n",
            "Test Accuracy: 0.8850\n",
            "Test Loss: 0.9342\n",
            "Precision: 0.8850\n",
            "Recall: 0.8850\n",
            "F1 Score: 0.8839\n",
            "\n",
            "Optimizers Comparison:\n",
            "Adam: Train Accuracy=0.9612, Test Accuracy=0.8794, Test Loss=0.9192\n",
            "RMSprop: Train Accuracy=0.9682, Test Accuracy=0.8832, Test Loss=0.8871\n",
            "SGD: Train Accuracy=0.8834, Test Accuracy=0.8552, Test Loss=0.9821\n",
            "Nadam: Train Accuracy=0.9677, Test Accuracy=0.8850, Test Loss=0.9342\n",
            "\n",
            "Optimizers Comparison:\n",
            "Adam: Accuracy=0.8794, Loss=0.9192\n",
            "RMSprop: Accuracy=0.8832, Loss=0.8871\n",
            "SGD: Accuracy=0.8552, Loss=0.9821\n",
            "Nadam: Accuracy=0.8850, Loss=0.9342\n"
          ]
        }
      ],
      "source": [
        "\n",
        "\n",
        "# کلاس‌های CIFAR-10\n",
        "class_names = ['airplane', 'automobile', 'bird', 'cat', 'deer',\n",
        "               'dog', 'frog', 'horse', 'ship', 'truck']\n",
        "\n",
        "\n",
        "if __name__ == \"__main__\":\n",
        "    final_results = train_and_compare_optimizers()\n",
        "    print(\"\\nOptimizers Comparison:\")\n",
        "    for result in final_results:\n",
        "        print(f\"{result['optimizer']}: Accuracy={result['test_accuracy']:.4f}, Loss={result['test_loss']:.4f}\")"
      ]
    },
    {
      "cell_type": "markdown",
      "metadata": {},
      "source": [
        "# فاز 3"
      ]
    },
    {
      "cell_type": "markdown",
      "metadata": {},
      "source": [
        "### قسمت دوم  ,Dog, Cat Horse "
      ]
    },
    {
      "cell_type": "code",
      "execution_count": null,
      "metadata": {},
      "outputs": [],
      "source": [
        "!pip install keras-tuner\n",
        "import os\n",
        "import zipfile\n",
        "import numpy as np\n",
        "import tensorflow as tf\n",
        "from tensorflow.keras import models, layers, optimizers\n",
        "from tensorflow.keras.preprocessing.image import ImageDataGenerator\n",
        "from sklearn.metrics import classification_report, confusion_matrix, precision_recall_curve, roc_curve, auc\n",
        "import matplotlib.pyplot as plt\n",
        "import seaborn as sns\n",
        "from itertools import cycle\n",
        "import kerastuner as kt"
      ]
    },
    {
      "cell_type": "code",
      "execution_count": null,
      "metadata": {},
      "outputs": [],
      "source": [
        "# استخراج دیتاست\n",
        "def extract_dataset():\n",
        "    if not os.path.exists(EXTRACT_DIR):\n",
        "        with zipfile.ZipFile(ZIP_PATH, 'r') as zip_ref:\n",
        "            zip_ref.extractall('.')\n",
        "    print(\"Dataset extracted successfully.\")\n",
        "\n",
        "# پیش‌پردازش تصاویر\n",
        "def preprocess_image(image):\n",
        "    image = tf.image.resize(image, (32, 32))\n",
        "    image = tf.cast(image, tf.float32) / 255.0\n",
        "    return image\n",
        "\n",
        "# ایجاد دیتا جنریتور\n",
        "def create_data_generators():\n",
        "    train_datagen = ImageDataGenerator(\n",
        "        preprocessing_function=preprocess_image,\n",
        "        validation_split=0.2,\n",
        "        rotation_range=15,\n",
        "        width_shift_range=0.1,\n",
        "        height_shift_range=0.1,\n",
        "        horizontal_flip=True\n",
        "    )\n",
        "\n",
        "    test_datagen = ImageDataGenerator(\n",
        "        preprocessing_function=preprocess_image\n",
        "    )\n",
        "\n",
        "    train_generator = train_datagen.flow_from_directory(\n",
        "        EXTRACT_DIR,\n",
        "        target_size=(32, 32),\n",
        "        batch_size=32,\n",
        "        class_mode='categorical',\n",
        "        subset='training',\n",
        "        shuffle=True\n",
        "    )\n",
        "\n",
        "    val_generator = train_datagen.flow_from_directory(\n",
        "        EXTRACT_DIR,\n",
        "        target_size=(32, 32),\n",
        "        batch_size=32,\n",
        "        class_mode='categorical',\n",
        "        subset='validation',\n",
        "        shuffle=False\n",
        "    )\n",
        "\n",
        "    return train_generator, val_generator\n",
        "\n",
        "# مدل بیلدر برای هایپرپارامتر تیونینگ\n",
        "def build_model(hp):\n",
        "    base_model = models.load_model(MODEL_PATH)\n",
        "\n",
        "    # Freeze layers\n",
        "    for layer in base_model.layers[:-8]:\n",
        "        layer.trainable = False\n",
        "\n",
        "    # Remove old output layer\n",
        "    base_model.pop()\n",
        "\n",
        "    # Add new output layer\n",
        "    base_model.add(layers.Dense(NUM_CLASSES, activation='softmax', dtype='float32'))\n",
        "\n",
        "    # Define tunable hyperparameters\n",
        "    learning_rate = hp.Choice('learning_rate', values=[1e-2, 1e-3, 1e-4, 2e-4, 5e-4])\n",
        "    momentum = hp.Float('momentum', min_value=0.8, max_value=0.99, step=0.05)\n",
        "\n",
        "    # Compile model\n",
        "    base_model.compile(\n",
        "        optimizer=optimizers.Nadam(\n",
        "            learning_rate=learning_rate,\n",
        "            beta_1=momentum\n",
        "        ),\n",
        "        loss='categorical_crossentropy',\n",
        "        metrics=['accuracy']\n",
        "    )\n",
        "\n",
        "    return base_model\n",
        "\n",
        "# هایپرپارامتر تیونینگ\n",
        "def hyperparameter_tuning(train_gen, val_gen):\n",
        "    tuner = kt.BayesianOptimization(\n",
        "        build_model,\n",
        "        objective='val_accuracy',\n",
        "        max_trials=20,\n",
        "        executions_per_trial=1,\n",
        "        directory=os.path.join(OUTPUT_DIR, 'tuning'),\n",
        "        project_name='animal_classification'\n",
        "    )\n",
        "\n",
        "    early_stopping = tf.keras.callbacks.EarlyStopping(\n",
        "        monitor='val_loss',\n",
        "        patience=5,\n",
        "        restore_best_weights=True\n",
        "    )\n",
        "\n",
        "    tuner.search(\n",
        "        train_gen,\n",
        "        epochs=30,\n",
        "        validation_data=val_gen,\n",
        "        callbacks=[early_stopping],\n",
        "        verbose=1\n",
        "    )\n",
        "\n",
        "    # Get the optimal hyperparameters\n",
        "    best_hps = tuner.get_best_hyperparameters(num_trials=1)[0]\n",
        "\n",
        "    print(f\"\"\"\n",
        "    Optimal hyperparameters:\n",
        "    - Learning rate: {best_hps.get('learning_rate')}\n",
        "    - Momentum: {best_hps.get('momentum')}\n",
        "    \"\"\")\n",
        "\n",
        "    return tuner.get_best_models(num_models=1)[0], best_hps\n",
        "\n",
        "# رسم نمودارهای یادگیری\n",
        "def plot_training_history(history, model_name):\n",
        "    plt.figure(figsize=(12, 4))\n",
        "\n",
        "    plt.subplot(1, 2, 1)\n",
        "    plt.plot(history.history['accuracy'], label='Train Accuracy')\n",
        "    plt.plot(history.history['val_accuracy'], label='Validation Accuracy')\n",
        "    plt.title(f'{model_name} - Accuracy')\n",
        "    plt.xlabel('Epoch')\n",
        "    plt.ylabel('Accuracy')\n",
        "    plt.legend()\n",
        "\n",
        "    plt.subplot(1, 2, 2)\n",
        "    plt.plot(history.history['loss'], label='Train Loss')\n",
        "    plt.plot(history.history['val_loss'], label='Validation Loss')\n",
        "    plt.title(f'{model_name} - Loss')\n",
        "    plt.xlabel('Epoch')\n",
        "    plt.ylabel('Loss')\n",
        "    plt.legend()\n",
        "\n",
        "    plt.tight_layout()\n",
        "    plt.savefig(os.path.join(OUTPUT_DIR, f'training_history_{model_name}.png'))\n",
        "    plt.close()\n",
        "\n",
        "# رسم منحنی ROC\n",
        "def plot_roc_curve(y_true, y_score, model_name):\n",
        "    fpr = dict()\n",
        "    tpr = dict()\n",
        "    roc_auc = dict()\n",
        "    for i in range(NUM_CLASSES):\n",
        "        fpr[i], tpr[i], _ = roc_curve(y_true[:, i], y_score[:, i])\n",
        "        roc_auc[i] = auc(fpr[i], tpr[i])\n",
        "\n",
        "    fpr[\"micro\"], tpr[\"micro\"], _ = roc_curve(y_true.ravel(), y_score.ravel())\n",
        "    roc_auc[\"micro\"] = auc(fpr[\"micro\"], tpr[\"micro\"])\n",
        "\n",
        "    plt.figure(figsize=(8, 6))\n",
        "    colors = cycle(['aqua', 'darkorange', 'cornflowerblue'])\n",
        "    for i, color in zip(range(NUM_CLASSES), colors):\n",
        "        plt.plot(fpr[i], tpr[i], color=color, lw=2,\n",
        "                 label='ROC curve of class {0} (area = {1:0.2f})'\n",
        "                 ''.format(CLASS_NAMES[i], roc_auc[i]))\n",
        "\n",
        "    plt.plot([0, 1], [0, 1], 'k--', lw=2)\n",
        "    plt.xlim([0.0, 1.0])\n",
        "    plt.ylim([0.0, 1.05])\n",
        "    plt.xlabel('False Positive Rate')\n",
        "    plt.ylabel('True Positive Rate')\n",
        "    plt.title(f'{model_name} - ROC Curve')\n",
        "    plt.legend(loc=\"lower right\")\n",
        "    plt.savefig(os.path.join(OUTPUT_DIR, f'roc_curve_{model_name}.png'))\n",
        "    plt.close()\n",
        "\n",
        "# رسم Precision-Recall Curve\n",
        "def plot_precision_recall_curve(y_true, y_score, model_name):\n",
        "    precision = dict()\n",
        "    recall = dict()\n",
        "    for i in range(NUM_CLASSES):\n",
        "        precision[i], recall[i], _ = precision_recall_curve(y_true[:, i], y_score[:, i])\n",
        "        plt.plot(recall[i], precision[i], lw=2,\n",
        "                 label='Class {}'.format(CLASS_NAMES[i]))\n",
        "\n",
        "    plt.xlabel(\"Recall\")\n",
        "    plt.ylabel(\"Precision\")\n",
        "    plt.legend(loc=\"best\")\n",
        "    plt.title(f\"{model_name} - Precision vs Recall\")\n",
        "    plt.savefig(os.path.join(OUTPUT_DIR, f'precision_recall_{model_name}.png'))\n",
        "    plt.close()\n",
        "\n",
        "# مصورسازی نمونه‌های تست با پیش‌بینی‌ها\n",
        "def visualize_predictions(model, generator, model_name, num_samples=12):\n",
        "    x_batch, y_batch = next(generator)\n",
        "    y_pred = model.predict(x_batch)\n",
        "\n",
        "    y_pred_labels = np.argmax(y_pred, axis=1)\n",
        "    y_true_labels = np.argmax(y_batch, axis=1)\n",
        "\n",
        "    indices = np.random.choice(range(len(x_batch)), size=min(num_samples, len(x_batch)), replace=False)\n",
        "\n",
        "    plt.figure(figsize=(12, 8))\n",
        "    for i, idx in enumerate(indices):\n",
        "        plt.subplot(3, 4, i+1)\n",
        "        plt.imshow(x_batch[idx])\n",
        "        plt.title(f\"True: {CLASS_NAMES[y_true_labels[idx]]}\\nPred: {CLASS_NAMES[y_pred_labels[idx]]}\")\n",
        "        plt.axis('off')\n",
        "\n",
        "    plt.suptitle(f'{model_name} - Sample Predictions')\n",
        "    plt.tight_layout()\n",
        "    plt.savefig(os.path.join(OUTPUT_DIR, f'sample_predictions_{model_name}.png'))\n",
        "    plt.close()\n",
        "\n",
        "# آموزش مدل نهایی با بهترین هایپرپارامترها\n",
        "def train_final_model(model, train_gen, val_gen, best_hps):\n",
        "    # Add callbacks\n",
        "    callbacks = [\n",
        "        tf.keras.callbacks.EarlyStopping(patience=5, restore_best_weights=True),\n",
        "        tf.keras.callbacks.ReduceLROnPlateau(factor=0.1, patience=3)\n",
        "    ]\n",
        "\n",
        "    history = model.fit(\n",
        "        train_gen,\n",
        "        epochs=30,\n",
        "        validation_data=val_gen,\n",
        "        callbacks=callbacks,\n",
        "        verbose=1\n",
        "    )\n",
        "\n",
        "    return history\n",
        "\n",
        "# ارزیابی مدل\n",
        "def evaluate_model(model, generator, generator_name, model_name):\n",
        "    loss, accuracy = model.evaluate(generator, verbose=0)\n",
        "    print(f\"\\nنتایج برای داده‌های {generator_name}:\")\n",
        "    print(f\"- دقت: {accuracy:.4f}\")\n",
        "    print(f\"- خطا: {loss:.4f}\")\n",
        "\n",
        "    y_pred = model.predict(generator, verbose=0)\n",
        "    y_pred_classes = np.argmax(y_pred, axis=1)\n",
        "    y_true = generator.classes\n",
        "    y_true_onehot = tf.keras.utils.to_categorical(y_true, num_classes=NUM_CLASSES)\n",
        "\n",
        "    report = classification_report(y_true, y_pred_classes, target_names=CLASS_NAMES, output_dict=True)\n",
        "    print(\"\\nگزارش طبقه‌بندی:\")\n",
        "    print(classification_report(y_true, y_pred_classes, target_names=CLASS_NAMES))\n",
        "\n",
        "    with open(os.path.join(OUTPUT_DIR, f'classification_report_{model_name}_{generator_name}.txt'), 'w') as f:\n",
        "        f.write(classification_report(y_true, y_pred_classes, target_names=CLASS_NAMES))\n",
        "\n",
        "    cm = confusion_matrix(y_true, y_pred_classes)\n",
        "    plt.figure(figsize=(8, 6))\n",
        "    sns.heatmap(cm, annot=True, fmt='d', cmap='Blues',\n",
        "                xticklabels=CLASS_NAMES,\n",
        "                yticklabels=CLASS_NAMES)\n",
        "    plt.title(f'{model_name} - Confusion Matrix ({generator_name})')\n",
        "    plt.xlabel('Predicted')\n",
        "    plt.ylabel('True')\n",
        "    plt.savefig(os.path.join(OUTPUT_DIR, f'confusion_matrix_{model_name}_{generator_name}.png'))\n",
        "    plt.close()\n",
        "\n",
        "    if generator_name == \"اعتبارسنجی\":\n",
        "        plot_roc_curve(y_true_onehot, y_pred, model_name)\n",
        "        plot_precision_recall_curve(y_true_onehot, y_pred, model_name)\n",
        "\n",
        "    return {\n",
        "        'accuracy': accuracy,\n",
        "        'loss': loss,\n",
        "        'precision': report['weighted avg']['precision'],\n",
        "        'recall': report['weighted avg']['recall'],\n",
        "        'f1_score': report['weighted avg']['f1-score']\n",
        "    }\n",
        "\n",
        "# اجرای اصلی\n",
        "def main():\n",
        "    extract_dataset()\n",
        "    train_gen, val_gen = create_data_generators()\n",
        "\n",
        "    model_name = \"Nadam_Tuned\"\n",
        "    print(f\"\\n\\n--- در حال پردازش مدل {model_name} ---\")\n",
        "\n",
        "    # هایپرپارامتر تیونینگ\n",
        "    print(\"\\nشروع فرآیند هایپرپارامتر تیونینگ...\")\n",
        "    best_model, best_hps = hyperparameter_tuning(train_gen, val_gen)\n",
        "\n",
        "    # آموزش نهایی با بهترین هایپرپارامترها\n",
        "    print(\"\\nآموزش مدل نهایی با بهترین هایپرپارامترها...\")\n",
        "    history = train_final_model(best_model, train_gen, val_gen, best_hps)\n",
        "\n",
        "    # ذخیره مدل\n",
        "    best_model.save(os.path.join(OUTPUT_DIR, 'best_tuned_model.h5'))\n",
        "\n",
        "    # رسم نمودارهای یادگیری\n",
        "    plot_training_history(history, model_name)\n",
        "\n",
        "    # ارزیابی مدل\n",
        "    print(f\"\\nارزیابی مدل {model_name}:\")\n",
        "    train_metrics = evaluate_model(best_model, train_gen, \"آموزش\", model_name)\n",
        "    val_metrics = evaluate_model(best_model, val_gen, \"اعتبارسنجی\", model_name)\n",
        "\n",
        "    # ارزیابی داده‌های تست\n",
        "    test_datagen = ImageDataGenerator(preprocessing_function=preprocess_image)\n",
        "    test_generator = test_datagen.flow_from_directory(\n",
        "        EXTRACT_DIR,\n",
        "        target_size=(32, 32),\n",
        "        batch_size=32,\n",
        "        class_mode='categorical',\n",
        "        shuffle=False\n",
        "    )\n",
        "\n",
        "    test_metrics = evaluate_model(best_model, test_generator, \"تست\", model_name)\n",
        "\n",
        "    print(f\"\\nدقت داده‌های تست: {test_metrics['accuracy']:.4f}\")\n",
        "\n",
        "    # مصورسازی پیش‌بینی‌ها\n",
        "    visualize_predictions(best_model, val_gen, model_name)\n",
        "\n",
        "    # ذخیره نتایج\n",
        "    results = {\n",
        "        'train_accuracy': train_metrics['accuracy'],\n",
        "        'val_accuracy': val_metrics['accuracy'],\n",
        "        'test_accuracy': test_metrics['accuracy'],\n",
        "        'train_loss': train_metrics['loss'],\n",
        "        'val_loss': val_metrics['loss'],\n",
        "        'train_precision': train_metrics['precision'],\n",
        "        'val_precision': val_metrics['precision'],\n",
        "        'train_recall': train_metrics['recall'],\n",
        "        'val_recall': val_metrics['recall'],\n",
        "        'train_f1_score': train_metrics['f1_score'],\n",
        "        'val_f1_score': val_metrics['f1_score'],\n",
        "        'best_hyperparameters': {\n",
        "            'learning_rate': best_hps.get('learning_rate'),\n",
        "            'momentum': best_hps.get('momentum')\n",
        "        }\n",
        "    }\n",
        "\n",
        "    # نمایش نتایج نهایی\n",
        "    print(\"\\n\\n--- نتایج نهایی مدل ---\")\n",
        "    print(f\"\\nمدل {model_name}:\")\n",
        "    print(f\"- دقت آموزش: {results['train_accuracy']:.4f}\")\n",
        "    print(f\"- دقت اعتبارسنجی: {results['val_accuracy']:.4f}\")\n",
        "    print(f\"- دقت تست: {results['test_accuracy']:.4f}\")\n",
        "    print(f\"- خطای آموزش: {results['train_loss']:.4f}\")\n",
        "    print(f\"- خطای اعتبارسنجی: {results['val_loss']:.4f}\")\n",
        "    print(f\"- Precision آموزش: {results['train_precision']:.4f}\")\n",
        "    print(f\"- Precision اعتبارسنجی: {results['val_precision']:.4f}\")\n",
        "    print(f\"- Recall آموزش: {results['train_recall']:.4f}\")\n",
        "    print(f\"- Recall اعتبارسنجی: {results['val_recall']:.4f}\")\n",
        "    print(f\"- F1-Score آموزش: {results['train_f1_score']:.4f}\")\n",
        "    print(f\"- F1-Score اعتبارسنجی: {results['val_f1_score']:.4f}\")\n",
        "    print(f\"\\nبهترین هایپرپارامترها:\")\n",
        "    print(f\"- Learning rate: {results['best_hyperparameters']['learning_rate']}\")\n",
        "    print(f\"- Momentum: {results['best_hyperparameters']['momentum']}\")\n",
        "\n",
        "    # ذخیره نتایج به صورت فایل\n",
        "    with open(os.path.join(OUTPUT_DIR, 'final_results.txt'), 'w') as f:\n",
        "        f.write(f\"\\nمدل {model_name}:\\n\")\n",
        "        f.write(f\"- دقت آموزش: {results['train_accuracy']:.4f}\\n\")\n",
        "        f.write(f\"- دقت اعتبارسنجی: {results['val_accuracy']:.4f}\\n\")\n",
        "        f.write(f\"- دقت تست: {results['test_accuracy']:.4f}\\n\")\n",
        "        f.write(f\"- خطای آموزش: {results['train_loss']:.4f}\\n\")\n",
        "        f.write(f\"- خطای اعتبارسنجی: {results['val_loss']:.4f}\\n\")\n",
        "        f.write(f\"- Precision آموزش: {results['train_precision']:.4f}\\n\")\n",
        "        f.write(f\"- Precision اعتبارسنجی: {results['val_precision']:.4f}\\n\")\n",
        "        f.write(f\"- Recall آموزش: {results['train_recall']:.4f}\\n\")\n",
        "        f.write(f\"- Recall اعتبارسنجی: {results['val_recall']:.4f}\\n\")\n",
        "        f.write(f\"- F1-Score آموزش: {results['train_f1_score']:.4f}\\n\")\n",
        "        f.write(f\"- F1-Score اعتبارسنجی: {results['val_f1_score']:.4f}\\n\")\n",
        "        f.write(f\"\\nبهترین هایپرپارامترها:\\n\")\n",
        "        f.write(f\"- Learning rate: {results['best_hyperparameters']['learning_rate']}\\n\")\n",
        "        f.write(f\"- Momentum: {results['best_hyperparameters']['momentum']}\\n\")\n"
      ]
    },
    {
      "cell_type": "code",
      "execution_count": null,
      "metadata": {
        "colab": {
          "base_uri": "https://localhost:8080/"
        },
        "id": "l7fqtFFssbAn",
        "outputId": "58d58bd7-4855-44cb-fae0-b1cbfdf990a4"
      },
      "outputs": [
        {
          "name": "stdout",
          "output_type": "stream",
          "text": [
            "Trial 20 Complete [00h 00m 40s]\n",
            "val_accuracy: 0.8666666746139526\n",
            "\n",
            "Best val_accuracy So Far: 0.8999999761581421\n",
            "Total elapsed time: 00h 12m 58s\n",
            "\n",
            "    Optimal hyperparameters:\n",
            "    - Learning rate: 0.0002\n",
            "    - Momentum: 0.9\n",
            "    \n"
          ]
        },
        {
          "name": "stderr",
          "output_type": "stream",
          "text": [
            "WARNING:absl:Compiled the loaded model, but the compiled metrics have yet to be built. `model.compile_metrics` will be empty until you train or evaluate the model.\n",
            "/usr/local/lib/python3.11/dist-packages/keras/src/saving/saving_lib.py:802: UserWarning: Skipping variable loading for optimizer 'nadam', because it has 2 variables whereas the saved optimizer has 19 variables. \n",
            "  saveable.load_own_variables(weights_store.get(inner_path))\n"
          ]
        },
        {
          "name": "stdout",
          "output_type": "stream",
          "text": [
            "\n",
            "آموزش مدل نهایی با بهترین هایپرپارامترها...\n",
            "Epoch 1/30\n",
            "\u001b[1m16/16\u001b[0m \u001b[32m━━━━━━━━━━━━━━━━━━━━\u001b[0m\u001b[37m\u001b[0m \u001b[1m13s\u001b[0m 443ms/step - accuracy: 0.7545 - loss: 0.6752 - val_accuracy: 0.8500 - val_loss: 0.4384 - learning_rate: 2.0000e-04\n",
            "Epoch 2/30\n",
            "\u001b[1m16/16\u001b[0m \u001b[32m━━━━━━━━━━━━━━━━━━━━\u001b[0m\u001b[37m\u001b[0m \u001b[1m2s\u001b[0m 100ms/step - accuracy: 0.7920 - loss: 0.5943 - val_accuracy: 0.8833 - val_loss: 0.4094 - learning_rate: 2.0000e-04\n",
            "Epoch 3/30\n",
            "\u001b[1m16/16\u001b[0m \u001b[32m━━━━━━━━━━━━━━━━━━━━\u001b[0m\u001b[37m\u001b[0m \u001b[1m2s\u001b[0m 98ms/step - accuracy: 0.7672 - loss: 0.6425 - val_accuracy: 0.8750 - val_loss: 0.4803 - learning_rate: 2.0000e-04\n",
            "Epoch 4/30\n",
            "\u001b[1m16/16\u001b[0m \u001b[32m━━━━━━━━━━━━━━━━━━━━\u001b[0m\u001b[37m\u001b[0m \u001b[1m2s\u001b[0m 121ms/step - accuracy: 0.7953 - loss: 0.5979 - val_accuracy: 0.8333 - val_loss: 0.4641 - learning_rate: 2.0000e-04\n",
            "Epoch 5/30\n",
            "\u001b[1m16/16\u001b[0m \u001b[32m━━━━━━━━━━━━━━━━━━━━\u001b[0m\u001b[37m\u001b[0m \u001b[1m2s\u001b[0m 126ms/step - accuracy: 0.7893 - loss: 0.5545 - val_accuracy: 0.8500 - val_loss: 0.4081 - learning_rate: 2.0000e-04\n",
            "Epoch 6/30\n",
            "\u001b[1m16/16\u001b[0m \u001b[32m━━━━━━━━━━━━━━━━━━━━\u001b[0m\u001b[37m\u001b[0m \u001b[1m2s\u001b[0m 101ms/step - accuracy: 0.7706 - loss: 0.6112 - val_accuracy: 0.8417 - val_loss: 0.4284 - learning_rate: 2.0000e-04\n",
            "Epoch 7/30\n",
            "\u001b[1m16/16\u001b[0m \u001b[32m━━━━━━━━━━━━━━━━━━━━\u001b[0m\u001b[37m\u001b[0m \u001b[1m2s\u001b[0m 120ms/step - accuracy: 0.8176 - loss: 0.4748 - val_accuracy: 0.7917 - val_loss: 0.4414 - learning_rate: 2.0000e-04\n",
            "Epoch 8/30\n",
            "\u001b[1m16/16\u001b[0m \u001b[32m━━━━━━━━━━━━━━━━━━━━\u001b[0m\u001b[37m\u001b[0m \u001b[1m2s\u001b[0m 103ms/step - accuracy: 0.7839 - loss: 0.5787 - val_accuracy: 0.8500 - val_loss: 0.3752 - learning_rate: 2.0000e-04\n",
            "Epoch 9/30\n",
            "\u001b[1m16/16\u001b[0m \u001b[32m━━━━━━━━━━━━━━━━━━━━\u001b[0m\u001b[37m\u001b[0m \u001b[1m2s\u001b[0m 99ms/step - accuracy: 0.8371 - loss: 0.4972 - val_accuracy: 0.8833 - val_loss: 0.4114 - learning_rate: 2.0000e-04\n",
            "Epoch 10/30\n",
            "\u001b[1m16/16\u001b[0m \u001b[32m━━━━━━━━━━━━━━━━━━━━\u001b[0m\u001b[37m\u001b[0m \u001b[1m2s\u001b[0m 101ms/step - accuracy: 0.8151 - loss: 0.5185 - val_accuracy: 0.8250 - val_loss: 0.4555 - learning_rate: 2.0000e-04\n",
            "Epoch 11/30\n",
            "\u001b[1m16/16\u001b[0m \u001b[32m━━━━━━━━━━━━━━━━━━━━\u001b[0m\u001b[37m\u001b[0m \u001b[1m3s\u001b[0m 122ms/step - accuracy: 0.8397 - loss: 0.4836 - val_accuracy: 0.8500 - val_loss: 0.4382 - learning_rate: 2.0000e-04\n",
            "Epoch 12/30\n",
            "\u001b[1m16/16\u001b[0m \u001b[32m━━━━━━━━━━━━━━━━━━━━\u001b[0m\u001b[37m\u001b[0m \u001b[1m2s\u001b[0m 98ms/step - accuracy: 0.7881 - loss: 0.6000 - val_accuracy: 0.8333 - val_loss: 0.4440 - learning_rate: 2.0000e-05\n",
            "Epoch 13/30\n",
            "\u001b[1m16/16\u001b[0m \u001b[32m━━━━━━━━━━━━━━━━━━━━\u001b[0m\u001b[37m\u001b[0m \u001b[1m2s\u001b[0m 97ms/step - accuracy: 0.8434 - loss: 0.5146 - val_accuracy: 0.8583 - val_loss: 0.4183 - learning_rate: 2.0000e-05\n"
          ]
        },
        {
          "name": "stderr",
          "output_type": "stream",
          "text": [
            "WARNING:absl:You are saving your model as an HDF5 file via `model.save()` or `keras.saving.save_model(model)`. This file format is considered legacy. We recommend using instead the native Keras format, e.g. `model.save('my_model.keras')` or `keras.saving.save_model(model, 'my_model.keras')`. \n"
          ]
        },
        {
          "name": "stdout",
          "output_type": "stream",
          "text": [
            "\n",
            "ارزیابی مدل Nadam_Tuned:\n",
            "\n",
            "نتایج برای داده‌های آموزش:\n",
            "- دقت: 0.8889\n",
            "- خطا: 0.3511\n",
            "\n",
            "گزارش طبقه‌بندی:\n",
            "              precision    recall  f1-score   support\n",
            "\n",
            "        cats       0.35      0.33      0.34       162\n",
            "        dogs       0.34      0.35      0.34       162\n",
            "      horses       0.32      0.33      0.32       162\n",
            "\n",
            "    accuracy                           0.34       486\n",
            "   macro avg       0.34      0.34      0.34       486\n",
            "weighted avg       0.34      0.34      0.34       486\n",
            "\n",
            "\n",
            "نتایج برای داده‌های اعتبارسنجی:\n",
            "- دقت: 0.8333\n",
            "- خطا: 0.3899\n",
            "\n",
            "گزارش طبقه‌بندی:\n",
            "              precision    recall  f1-score   support\n",
            "\n",
            "        cats       0.84      0.65      0.73        40\n",
            "        dogs       0.73      0.88      0.80        40\n",
            "      horses       0.90      0.93      0.91        40\n",
            "\n",
            "    accuracy                           0.82       120\n",
            "   macro avg       0.82      0.82      0.81       120\n",
            "weighted avg       0.82      0.82      0.81       120\n",
            "\n",
            "Found 606 images belonging to 3 classes.\n"
          ]
        },
        {
          "name": "stderr",
          "output_type": "stream",
          "text": [
            "/usr/local/lib/python3.11/dist-packages/keras/src/trainers/data_adapters/py_dataset_adapter.py:121: UserWarning: Your `PyDataset` class should call `super().__init__(**kwargs)` in its constructor. `**kwargs` can include `workers`, `use_multiprocessing`, `max_queue_size`. Do not pass these arguments to `fit()`, as they will be ignored.\n",
            "  self._warn_if_super_not_called()\n"
          ]
        },
        {
          "name": "stdout",
          "output_type": "stream",
          "text": [
            "\n",
            "نتایج برای داده‌های تست:\n",
            "- دقت: 0.8234\n",
            "- خطا: 0.4965\n",
            "\n",
            "گزارش طبقه‌بندی:\n",
            "              precision    recall  f1-score   support\n",
            "\n",
            "        cats       0.94      0.67      0.78       202\n",
            "        dogs       0.68      0.93      0.79       202\n",
            "      horses       0.95      0.87      0.91       202\n",
            "\n",
            "    accuracy                           0.82       606\n",
            "   macro avg       0.85      0.82      0.82       606\n",
            "weighted avg       0.85      0.82      0.82       606\n",
            "\n",
            "\n",
            "دقت داده‌های تست: 0.8234\n",
            "\u001b[1m1/1\u001b[0m \u001b[32m━━━━━━━━━━━━━━━━━━━━\u001b[0m\u001b[37m\u001b[0m \u001b[1m1s\u001b[0m 678ms/step\n",
            "\n",
            "\n",
            "--- نتایج نهایی مدل ---\n",
            "\n",
            "مدل Nadam_Tuned:\n",
            "- دقت آموزش: 0.8889\n",
            "- دقت اعتبارسنجی: 0.8333\n",
            "- دقت تست: 0.8234\n",
            "- خطای آموزش: 0.3511\n",
            "- خطای اعتبارسنجی: 0.3899\n",
            "- Precision آموزش: 0.3356\n",
            "- Precision اعتبارسنجی: 0.8234\n",
            "- Recall آموزش: 0.3354\n",
            "- Recall اعتبارسنجی: 0.8167\n",
            "- F1-Score آموزش: 0.3354\n",
            "- F1-Score اعتبارسنجی: 0.8138\n",
            "\n",
            "بهترین هایپرپارامترها:\n",
            "- Learning rate: 0.0002\n",
            "- Momentum: 0.9\n"
          ]
        }
      ],
      "source": [
        "\n",
        "# تنظیمات اولیه\n",
        "os.environ['TF_GPU_THREAD_MODE'] = 'gpu_private'\n",
        "os.environ['TF_FORCE_GPU_ALLOW_GROWTH'] = 'true'\n",
        "os.environ['TF_CPP_MIN_LOG_LEVEL'] = '2'  # Reduce TensorFlow logging\n",
        "\n",
        "# مسیرهای فایل\n",
        "ZIP_PATH = 'dataset3-20250806T172740Z-1-001.zip'\n",
        "EXTRACT_DIR = 'dataset3'\n",
        "MODEL_PATH = 'best_model_Nadam.h5'\n",
        "OUTPUT_DIR = 'output_phase3.1_tuned'\n",
        "\n",
        "# کلاس‌های جدید\n",
        "CLASS_NAMES = ['cats', 'dogs', 'horses']\n",
        "NUM_CLASSES = len(CLASS_NAMES)\n",
        "\n",
        "# ایجاد پوشه خروجی\n",
        "if not os.path.exists(OUTPUT_DIR):\n",
        "    os.makedirs(OUTPUT_DIR)\n",
        "\n",
        "if __name__ == \"__main__\":\n",
        "    main()"
      ]
    }
  ],
  "metadata": {
    "accelerator": "GPU",
    "colab": {
      "gpuType": "T4",
      "provenance": []
    },
    "kernelspec": {
      "display_name": "Python 3",
      "name": "python3"
    },
    "language_info": {
      "name": "python"
    }
  },
  "nbformat": 4,
  "nbformat_minor": 0
}
